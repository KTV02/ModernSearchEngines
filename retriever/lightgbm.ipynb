{
 "cells": [
  {
   "cell_type": "code",
   "execution_count": 23,
   "metadata": {},
   "outputs": [
    {
     "name": "stdout",
     "output_type": "stream",
     "text": [
      "Requirement already satisfied: lightgbm in c:\\users\\erika\\.pyenv\\pyenv-win\\versions\\3.9.0\\lib\\site-packages (4.4.0)\n",
      "Requirement already satisfied: numpy>=1.17.0 in c:\\users\\erika\\.pyenv\\pyenv-win\\versions\\3.9.0\\lib\\site-packages (from lightgbm) (2.0.0)\n",
      "Requirement already satisfied: scipy in c:\\users\\erika\\.pyenv\\pyenv-win\\versions\\3.9.0\\lib\\site-packages (from lightgbm) (1.13.1)\n",
      "Note: you may need to restart the kernel to use updated packages.\n"
     ]
    },
    {
     "name": "stderr",
     "output_type": "stream",
     "text": [
      "WARNING: You are using pip version 20.2.3; however, version 24.1.1 is available.\n",
      "You should consider upgrading via the 'c:\\Users\\erika\\.pyenv\\pyenv-win\\versions\\3.9.0\\python.exe -m pip install --upgrade pip' command.\n"
     ]
    },
    {
     "name": "stdout",
     "output_type": "stream",
     "text": [
      "Requirement already satisfied: pandas in c:\\users\\erika\\.pyenv\\pyenv-win\\versions\\3.9.0\\lib\\site-packages (2.2.2)\n",
      "Requirement already satisfied: pytz>=2020.1 in c:\\users\\erika\\.pyenv\\pyenv-win\\versions\\3.9.0\\lib\\site-packages (from pandas) (2024.1)\n",
      "Requirement already satisfied: python-dateutil>=2.8.2 in c:\\users\\erika\\.pyenv\\pyenv-win\\versions\\3.9.0\\lib\\site-packages (from pandas) (2.9.0.post0)\n",
      "Requirement already satisfied: numpy>=1.22.4; python_version < \"3.11\" in c:\\users\\erika\\.pyenv\\pyenv-win\\versions\\3.9.0\\lib\\site-packages (from pandas) (2.0.0)\n",
      "Requirement already satisfied: tzdata>=2022.7 in c:\\users\\erika\\.pyenv\\pyenv-win\\versions\\3.9.0\\lib\\site-packages (from pandas) (2024.1)\n",
      "Requirement already satisfied: six>=1.5 in c:\\users\\erika\\.pyenv\\pyenv-win\\versions\\3.9.0\\lib\\site-packages (from python-dateutil>=2.8.2->pandas) (1.16.0)\n",
      "Note: you may need to restart the kernel to use updated packages.\n"
     ]
    },
    {
     "name": "stderr",
     "output_type": "stream",
     "text": [
      "WARNING: You are using pip version 20.2.3; however, version 24.1.1 is available.\n",
      "You should consider upgrading via the 'c:\\Users\\erika\\.pyenv\\pyenv-win\\versions\\3.9.0\\python.exe -m pip install --upgrade pip' command.\n"
     ]
    },
    {
     "name": "stdout",
     "output_type": "stream",
     "text": [
      "^C\n",
      "Note: you may need to restart the kernel to use updated packages.\n",
      "Requirement already satisfied: scikit-learn in c:\\users\\erika\\.pyenv\\pyenv-win\\versions\\3.9.0\\lib\\site-packages (1.5.1)\n",
      "Requirement already satisfied: joblib>=1.2.0 in c:\\users\\erika\\.pyenv\\pyenv-win\\versions\\3.9.0\\lib\\site-packages (from scikit-learn) (1.4.2)\n",
      "Requirement already satisfied: threadpoolctl>=3.1.0 in c:\\users\\erika\\.pyenv\\pyenv-win\\versions\\3.9.0\\lib\\site-packages (from scikit-learn) (3.5.0)\n",
      "Requirement already satisfied: scipy>=1.6.0 in c:\\users\\erika\\.pyenv\\pyenv-win\\versions\\3.9.0\\lib\\site-packages (from scikit-learn) (1.13.1)\n",
      "Requirement already satisfied: numpy>=1.19.5 in c:\\users\\erika\\.pyenv\\pyenv-win\\versions\\3.9.0\\lib\\site-packages (from scikit-learn) (2.0.0)\n",
      "Requirement already satisfied: tqdm in c:\\users\\erika\\.pyenv\\pyenv-win\\versions\\3.9.0\\lib\\site-packages (4.66.4)\n",
      "Requirement already satisfied: colorama; platform_system == \"Windows\" in c:\\users\\erika\\.pyenv\\pyenv-win\\versions\\3.9.0\\lib\\site-packages (from tqdm) (0.4.6)\n",
      "Note: you may need to restart the kernel to use updated packages.\n"
     ]
    },
    {
     "name": "stderr",
     "output_type": "stream",
     "text": [
      "WARNING: You are using pip version 20.2.3; however, version 24.1.1 is available.\n",
      "You should consider upgrading via the 'c:\\Users\\erika\\.pyenv\\pyenv-win\\versions\\3.9.0\\python.exe -m pip install --upgrade pip' command.\n",
      "WARNING: You are using pip version 20.2.3; however, version 24.1.1 is available.\n",
      "You should consider upgrading via the 'c:\\Users\\erika\\.pyenv\\pyenv-win\\versions\\3.9.0\\python.exe -m pip install --upgrade pip' command.\n"
     ]
    },
    {
     "name": "stdout",
     "output_type": "stream",
     "text": [
      "Requirement already satisfied: requests in c:\\users\\erika\\.pyenv\\pyenv-win\\versions\\3.9.0\\lib\\site-packages (2.32.3)\n",
      "Requirement already satisfied: idna<4,>=2.5 in c:\\users\\erika\\.pyenv\\pyenv-win\\versions\\3.9.0\\lib\\site-packages (from requests) (3.7)\n",
      "Requirement already satisfied: charset-normalizer<4,>=2 in c:\\users\\erika\\.pyenv\\pyenv-win\\versions\\3.9.0\\lib\\site-packages (from requests) (3.3.2)\n",
      "Requirement already satisfied: urllib3<3,>=1.21.1 in c:\\users\\erika\\.pyenv\\pyenv-win\\versions\\3.9.0\\lib\\site-packages (from requests) (2.2.2)\n",
      "Requirement already satisfied: certifi>=2017.4.17 in c:\\users\\erika\\.pyenv\\pyenv-win\\versions\\3.9.0\\lib\\site-packages (from requests) (2024.7.4)\n",
      "Note: you may need to restart the kernel to use updated packages.\n"
     ]
    },
    {
     "name": "stderr",
     "output_type": "stream",
     "text": [
      "WARNING: You are using pip version 20.2.3; however, version 24.1.1 is available.\n",
      "You should consider upgrading via the 'c:\\Users\\erika\\.pyenv\\pyenv-win\\versions\\3.9.0\\python.exe -m pip install --upgrade pip' command.\n"
     ]
    }
   ],
   "source": [
    "%pip install lightgbm\n",
    "%pip install pandas\n",
    "%pip install scikit-learn\n",
    "%pip install tqdm\n",
    "%pip install requests"
   ]
  },
  {
   "cell_type": "code",
   "execution_count": null,
   "metadata": {},
   "outputs": [
    {
     "name": "stdout",
     "output_type": "stream",
     "text": [
      "Total documents count: [{'url': 'https://www.tuebingen.de/en/', 'title': 'Welcome to Tübingen - City of Tuebingen', 'content': \"Welcome to Tübingen - City of Tuebingen Immigration office European Elections 2024 Portrait of the City City and Guests Culture and Leisure Bild: Universitätsstadt Tübingen Show search input Hide search input City Map Deutsch Welcome to Tübingen June 27th, 2024 Small steps, narrow alleys and pointed gables shape the silhouette of old Tübingen on the way up\\xa0to its castle. The Swabian university town of about 91,000 inhabitants and 28,000 students combines the flair of a lovingly restored medieval centre\\xa0with the colorful bustle and typical atmosphere of a young and cosmopolitan students' town. Numerous sidewalk cafes, wine taverns and cozy students' pubs, special shops, restaurants and taverns invite visitors to stroll around and to pause here and there. Taking a boat trip in a famous “Stocherkahn“ – the boat exclusive to Tübingen navigated by a long wooden pole – offers a scenic view of the picturesque Neckar waterfront with the famous Hölderlin Tower. Come, have a look and enjoy the very special flair of our city. For any question concerning your stay please do not hesitate to contact the\\xa0tourist information\\xa0( www.tuebingen-info.de ). Proceed here Immigration office European Elections 2024 Portrait of the City City and Guests Culture and Leisure Webcam Market Place Imprint Privacy Policy Top\", 'outgoing_links': 'https://www.tuebingen.de/en/1815.html,https://www.tuebingen.de/stadtplan,https://www.tuebingen.de/en/3515.html,https://www.tuebingen.de/en/23132.html,https://www.tuebingen.de/en/42067.html,https://www.tuebingen.de/en/,https://www.tuebingen.de/,https://www.tuebingen.de/en/3494.html,https://www.tuebingen.de/en/1821.html,https://www.tuebingen.de/en,http://tuebingen-info.de/index.php?id=727&Fsize=0,https://www.tuebingen.de/en/42070.html', 'timestamp': '2024-06-27T21:56:29.214553', 'pagerank': 0.00018315904874907288}, {'url': 'https://www.tuebingen.de/en/1815.html', 'title': 'Portrait of the City - City of Tuebingen', 'content': \"Portrait of the City - City of Tuebingen Immigration office European Elections 2024 Portrait of the City Places of Interest History Districts Sister cities Personalities University Picture Galleries City and Guests Culture and Leisure Bild: Stuttgart Regio Show search input Hide search input City Map Deutsch Welcome to Tübingen Portrait of the City Portrait of the City The Swabian university town of 90,000 inhabitants and 28,000 students combines the flair of a lovingly restored medieval centre of town with the colorful bustle and typical atmosphere of a young and cosmopolitan students' town. Tübingen – the small big city Could you tell us in just one minute what makes Tübingen so unique? The new corporate video exactly faces up to this challenge. A strategic alliance consisting of the business development, supporting companies, city council and the agency Bär Tiger Wolf realized the video project. Beim Abspielen des Videos werden Daten an YouTube übertragen. Weitere Hinweise finden Sie in unserer Datenschutzerklärung . Proceed here Places of Interest History Districts Sister cities Personalities University Picture Galleries Webcam Market Place Privacy Policy Imprint Top\", 'outgoing_links': 'https://www.tuebingen.de/en/1815.html,https://www.tuebingen.de/en/3328.html,https://www.tuebingen.de/datenschutz,https://www.tuebingen.de/en/3332.html,https://www.tuebingen.de/en/3327.html,https://www.tuebingen.de/stadtplan,https://www.tuebingen.de/en/3515.html,https://www.tuebingen.de/en/3331.html,https://www.tuebingen.de/en/42067.html,https://www.tuebingen.de/en/3330.html,https://www.tuebingen.de/en/3329.html,https://www.tuebingen.de/,https://www.tuebingen.de/en/3494.html,https://www.tuebingen.de/en/1821.html,https://www.tuebingen.de/en/3514.html,https://www.tuebingen.de/en,https://www.tuebingen.de/en/23132.html,https://www.tuebingen.de/en/42070.html', 'timestamp': '2024-06-27T21:56:30.478153', 'pagerank': 0.007226454716830875}, {'url': 'https://www.tuebingen.de/en/3515.html', 'title': 'Culture and Leisure - City of Tuebingen', 'content': 'Culture and Leisure - City of Tuebingen Immigration office European Elections 2024 Portrait of the City City and Guests Culture and Leisure Museums Music Literature Festivals Movie Theatres Bild: Anne Faden Show search input Hide search input City Map Deutsch Welcome to Tübingen Culture and Leisure Culture and Leisure An abundance of\\xa0events, museums and collections enrich the cultural life of the university town. Internationally respected art exhibitions as well as renowned festivals, concerts, stage plays and readings with poets of international reputation are part of the cultural program.\\xa0The versatile choices make up an important part of the distinctive profile of Tübingen. The University of Tübingen, public institutions, private initiatives and individuals are all engaged in the numerous cultural activities. Proceed here Museums Music Literature Festivals Movie Theatres Webcam Market Place Privacy Policy Imprint Top', 'outgoing_links': 'https://www.tuebingen.de/en/3523.html,https://www.tuebingen.de/en/1815.html,https://www.tuebingen.de/en/3561.html,https://www.tuebingen.de/en/3522.html,https://www.tuebingen.de/stadtplan,https://www.tuebingen.de/en/3555.html,https://www.tuebingen.de/en/3515.html,https://www.tuebingen.de/en/42067.html,https://www.tuebingen.de/en/3521.html,https://www.tuebingen.de/,https://www.tuebingen.de/en/3494.html,https://www.tuebingen.de/en/1821.html,https://www.tuebingen.de/en,https://www.tuebingen.de/en/23132.html,https://www.tuebingen.de/en/42070.html', 'timestamp': '2024-06-27T21:56:30.607154', 'pagerank': 0.007226454716830875}, {'url': 'https://www.tuebingen.de/en/42067.html', 'title': 'Immigration office - City of Tuebingen', 'content': 'Immigration office - City of Tuebingen Immigration office European Elections 2024 Portrait of the City City and Guests Culture and Leisure Bild: Stuttgart Regio Show search input Hide search input City Map Deutsch Welcome to Tübingen Immigration office Immigration office Opening hours The immigration office is open on the following days: Monday 8.30 am to 12.30 pm Tuesday 8.30 am to 12.30 pm and 2.00 pm to 6.00 pm Wednesday closed Thursday 8.30 am to 12.30 pm and 2.00 pm to 4.00 pm Friday 8.30 am to 12.30 pm Responsibilites The responsibilities of the employees are determined by the first letter of your surname: Letter A-Alh: N.N. Letter Ali-B: Ms. Hassan Letter C, Y: N.N. Letter D, P: Ms. Chatzikiparidou Letter F, G, H: Ms. Maliqi Letter I, L, M: Ms. Alanbay Letter K, N, T: Ms. Maras Letter E, J, O: Ms. Falls Letter Q, R, S: Ms. Anni Letter U, V, W, X, Z: Ms. Kellner How to apply for a residence permit If you would like to apply for a residence permit or settlement permit (or extend your existing\\xa0one), please use the online application: www.tuebingen.de/eat Once the application has been checked, the employees will contact you by email and give you an appointment to take fingerprints etc. Picking up the electronic residence permit Your electronic residence permit (eAT) is usually ready to pick up four to six weeks after we\\xa0have ordered it. During this time, you should also receive a PIN letter (see example ) for the online ID function by post. Please contact us to pick up your electronic residence permit when you have either received the PIN letter or the processing time of four to six weeks has been reached. To arrange your pick up-appointment, please contact us by email ( auslaenderamt tuebingen.de ) or by phone (07071 204-2550). Accessibility and appointments For the following services, an appointment can be booked for the same day at the waiting mark printer in the immigration office: extending a „Aufenthaltsgestattung“ extending a „Duldung“ applying for or extending a „Fiktionsbescheinigung“ submitting applications and documents transfer residence permit to new passport The number of available appointments is limited. However, new same-day appointments are released every day. Appointments for the morning can be booked during opening hours between 8.30 am and 12.30 pm. On Tuesdays, the service is also available in the afternoon from 2 to 6 pm and on Thursdays from 2 to 4 pm. For all other requests or questions, please send us an email to auslaenderamt tuebingen.de or you can reach us during our telephone hours (Mon to Thu 2 to 4 pm) on 07071 204-2550. Appointments will be made by our employees after your request has been checked. You will then be informed by email. Further information (in German) can be found at: www.tuebingen.de/auslaenderamt Webcam Market Place Privacy Policy Imprint Top', 'outgoing_links': 'https://www.tuebingen.de/en/1815.html,https://www.tuebingen.de/stadtplan,https://www.tuebingen.de/en/3515.html,https://www.tuebingen.de/en/42067.html,https://www.tuebingen.de/auslaenderamt,https://www.tuebingen.de/,https://www.tuebingen.de/en/3494.html,https://www.tuebingen.de/en/1821.html,https://formulare.tuebingen.de/frontend-server/form/provide/155,https://www.tuebingen.de/en,https://www.personalausweisportal.de/SharedDocs/downloads/Webs/PA/DE/informationsmaterial/pin-brief-muster/muster_pin_brief_elektronischer_aufenthaltstitel_de.pdf?__blob=publicationFile&v=3,https://www.tuebingen.de/en/23132.html,https://www.tuebingen.de/en/42070.html', 'timestamp': '2024-06-27T21:56:30.559153', 'pagerank': 0.007226454716830875}, {'url': 'https://www.tuebingen.de/en/3494.html', 'title': 'City and Guests - City of Tuebingen', 'content': \"City and Guests - City of Tuebingen Immigration office European Elections 2024 Portrait of the City City and Guests How to get there Accommodation Gastronomy Shopping Trips around Tübingen Culture and Leisure Bild: Alexander Gonschior Show search input Hide search input City Map Deutsch Welcome to Tübingen City and Guests City and Guests Of the roughly 100,000 annual visitors, about every fifth guest is visiting from abroad. It is quite likely that you will be able to get to know Tuebingen in your native language: City tours are offered in many languages, including Norwegian, Mandarin, and even Latin. There is a\\xa0variety of tours ranging from classical trips through the old town to rather specialized\\xa0ones\\xa0that lead through\\xa0museums or\\xa0a distillery\\xa0for\\xa0Swabian whisky. Just visit www.tuebingen-info.de and choose your tour and language. Sightseeing flight Tübingen's most beautiful buildings: Enjoy the bird's eye view of the Hohentübingen Castle, the Hölderlin Tower and the Bebenhausen Monastery. Beim Abspielen des Videos werden Daten an YouTube übertragen. Weitere Hinweise finden Sie in unserer Datenschutzerklärung . Proceed here How to get there Accommodation Gastronomy Shopping Trips around Tübingen Webcam Market Place Privacy Policy Imprint Top\", 'outgoing_links': 'https://www.tuebingen.de/en/1815.html,https://www.tuebingen.de/datenschutz,https://www.tuebingen.de/stadtplan,https://www.tuebingen.de/en/3515.html,https://www.tuebingen.de/en/3506.html,https://www.tuebingen.de/en/42067.html,http://tuebingen-info.de/index.php?id=825&Fsize=google%20maps,https://www.tuebingen.de/en/3504.html,https://www.tuebingen.de/en/3502.html,https://www.tuebingen.de/,https://www.tuebingen.de/en/3503.html,https://www.tuebingen.de/en/1821.html,https://www.tuebingen.de/en/3494.html,https://www.tuebingen.de/en/3507.html,https://www.tuebingen.de/en,https://www.tuebingen.de/en/23132.html,https://www.tuebingen.de/en/42070.html', 'timestamp': '2024-06-27T21:56:30.535153', 'pagerank': 0.007226454716830875}, {'url': 'https://www.tuebingen.de/en/1821.html', 'title': 'Imprint - City of Tuebingen', 'content': 'Imprint - City of Tuebingen Immigration office European Elections 2024 Portrait of the City City and Guests Culture and Leisure Bild: @Manuel Schönfeld – stock.adobe.com Show search input Hide search input City Map Deutsch Welcome to Tübingen Imprint Imprint Universitätsstadt Tübingen Corporation under public law Business address: Am Markt 1 72070 Tübingen Authorized to represent: Lord Mayor Boris Palmer Competent supervisory authority:\\xa0Regional council of Tübingen VAT identification number according to § 27a UStG: DE 146 889 570 Contact An electronic contact is possible by sending an e-mail to the following address: stadt tuebingen.de Phone:\\xa00049 (0) 7071 204 0 Fax: 0049 (0) 7071 204 41777 Responsible for the content of this website Universitätsstadt Tübingen Office of Press and Public Relations Am Markt 1 72070 Tübingen Phone:\\xa00049 (0) 7071 204 15 00 e-Mail: presse tuebingen.de Online Dispute Resolution Link to the platform of the European Commission according to Regulation on consumer ODR: http://ec.europa.eu/consumers/odr/ Copyright The content, works and information provided by this website operator are subject to German copyright and ancillary copyright law. The rights to content and works provided on this website are owned exclusively by university town of Tübingen. Unaltered extracts or content from this website can be printed out for personal, private and non-commercial purposes or can be temporarily stored in any other way, as long as no changes are applied and all copyright notices and other proprietary notices are provided. Apart from that, this website may not be copied, be modified or be presented publicly on media of any kind or be republished either in whole or part without prior written approval of university town of Tübingen; especially in frames or iframes. Design Wagnerwagner GmbH Burkhardt+Weber-Straße 59 72760 Reutlingen phone:\\xa00049 (0) 7121 69 69 270 Fax:\\xa000 49 (0) 7121 69 69 299 e-Mail: mail wagnerwagner.de www.wagnerwagner.de Webcam Market Place Privacy Policy Imprint Top', 'outgoing_links': 'https://www.tuebingen.de/en/1815.html,https://www.tuebingen.de/stadtplan,https://www.tuebingen.de/en/3515.html,http://www.wagnerwagner.de/,https://www.tuebingen.de/en/42067.html,https://www.tuebingen.de/,https://www.tuebingen.de/en/3494.html,https://www.tuebingen.de/en/1821.html,https://www.tuebingen.de/en,http://ec.europa.eu/consumers/odr/,https://www.tuebingen.de/en/23132.html,https://www.tuebingen.de/en/42070.html', 'timestamp': '2024-06-27T21:56:30.504152', 'pagerank': 0.007226454716830875}, {'url': 'https://www.tuebingen.de/en', 'title': 'Welcome to Tübingen - City of Tuebingen', 'content': \"Welcome to Tübingen - City of Tuebingen Immigration office European Elections 2024 Portrait of the City City and Guests Culture and Leisure Bild: Universitätsstadt Tübingen Show search input Hide search input City Map Deutsch Welcome to Tübingen June 27th, 2024 Small steps, narrow alleys and pointed gables shape the silhouette of old Tübingen on the way up\\xa0to its castle. The Swabian university town of about 91,000 inhabitants and 28,000 students combines the flair of a lovingly restored medieval centre\\xa0with the colorful bustle and typical atmosphere of a young and cosmopolitan students' town. Numerous sidewalk cafes, wine taverns and cozy students' pubs, special shops, restaurants and taverns invite visitors to stroll around and to pause here and there. Taking a boat trip in a famous “Stocherkahn“ – the boat exclusive to Tübingen navigated by a long wooden pole – offers a scenic view of the picturesque Neckar waterfront with the famous Hölderlin Tower. Come, have a look and enjoy the very special flair of our city. For any question concerning your stay please do not hesitate to contact the\\xa0tourist information\\xa0( www.tuebingen-info.de ). Proceed here Immigration office European Elections 2024 Portrait of the City City and Guests Culture and Leisure Webcam Market Place Imprint Privacy Policy Top\", 'outgoing_links': 'https://www.tuebingen.de/en/1815.html,https://www.tuebingen.de/stadtplan,https://www.tuebingen.de/en/3515.html,https://www.tuebingen.de/en/23132.html,https://www.tuebingen.de/en/42067.html,https://www.tuebingen.de/,https://www.tuebingen.de/en/3494.html,https://www.tuebingen.de/en/1821.html,https://www.tuebingen.de/en,http://tuebingen-info.de/index.php?id=727&Fsize=0,https://www.tuebingen.de/en/42070.html', 'timestamp': '2024-06-27T21:56:30.627152', 'pagerank': 0.007226454716830875}, {'url': 'https://www.tuebingen.de/en/42070.html', 'title': 'European Elections 2024 - City of Tuebingen', 'content': 'European Elections 2024 - City of Tuebingen Immigration office European Elections 2024 Portrait of the City City and Guests Culture and Leisure Bild: Stuttgart Regio Show search input Hide search input City Map Deutsch Welcome to Tübingen European Elections 2024 European Elections 2024 Citizens of other European Union member states (Union citizens) who live in the Federal Republic of Germany can also take part in the elections to the European Parliament, either in the Federal Republic of Germany or in their country of origin. Information on how to participate in the election from Germany or the member state of your origin as well as potentially required forms are available by the Federal Returning Officer: Information for Union citizens The application must have been received by the Universitätstadt Tübingen on the 21 st day before election (= 19 May 2024) at the latest. Bürgermeisteramt Tübingen Postfach 2540 72015 Tübingen GERMANY This period cannot be extended. Webcam Market Place Privacy Policy Imprint Top', 'outgoing_links': 'https://www.tuebingen.de/en/1815.html,https://www.tuebingen.de/stadtplan,https://www.tuebingen.de/en/3515.html,https://www.tuebingen.de/en/42070.html,https://www.tuebingen.de/,https://www.tuebingen.de/en/3494.html,https://www.tuebingen.de/en/1821.html,https://www.tuebingen.de/en,https://www.tuebingen.de/en/23132.html,https://www.tuebingen.de/en/42067.html,https://www.bundeswahlleiterin.de/en/europawahlen/2024/informationen-waehler/unionsbuerger.html', 'timestamp': '2024-06-27T21:56:32.449152', 'pagerank': 0.007226454716830875}, {'url': 'https://www.tuebingen.de/en/3328.html', 'title': 'History - City of Tuebingen', 'content': 'History - City of Tuebingen Immigration office European Elections 2024 Portrait of the City Places of Interest History Districts Sister cities Personalities University Picture Galleries City and Guests Culture and Leisure Bild: Stuttgart Regio Show search input Hide search input City Map Deutsch Welcome to Tübingen Portrait of the City History History City arms of university town of Tübingen The university town of Tübingen has witnessed almost a millennium of history, with the castle, the historic Old Town and the medieval buildings of the different institutes. In 1078 Tübingen was mentioned in writing for the first time, and in the middle of the 13th century Tübingen achieved town status and civil liberty under the Palatine Counts of Tübingen. The city arms show the tripartite banner of the Palatine Counts; around 1514 the deer antlers of Württemberg were added. Towards the end of the 15th century Count Eberhard im Barte founded the university with the slogan \"attempto\" (I will attempt it). To date, the city is energized by the complementary connection between history, civic community and university. Milestones in Tübingen\\'s History Webcam Market Place Privacy Policy Imprint Top', 'outgoing_links': 'https://www.tuebingen.de/en/1815.html,https://www.tuebingen.de/en/3328.html,https://www.tuebingen.de/en/3332.html,https://www.tuebingen.de/en/3327.html,https://www.tuebingen.de/stadtplan,https://www.tuebingen.de/en/3515.html,https://www.tuebingen.de/en/3328/3437.html,https://www.tuebingen.de/en/3331.html,https://www.tuebingen.de/en/42067.html,https://www.tuebingen.de/en/3330.html,https://www.tuebingen.de/en/3329.html,https://www.tuebingen.de/,https://www.tuebingen.de/en/3494.html,https://www.tuebingen.de/en/1821.html,https://www.tuebingen.de/en/3514.html,https://www.tuebingen.de/en,https://www.tuebingen.de/en/23132.html,https://www.tuebingen.de/en/42070.html', 'timestamp': '2024-06-27T21:56:32.493151', 'pagerank': 0.0026963386840179676}, {'url': 'https://www.tuebingen.de/en/3332.html', 'title': 'University - City of Tuebingen', 'content': 'University - City of Tuebingen Immigration office European Elections 2024 Portrait of the City Places of Interest History Districts Sister cities Personalities University Picture Galleries City and Guests Culture and Leisure Bild: Vincent Horn Show search input Hide search input City Map Deutsch Welcome to Tübingen Portrait of the City University University \"Tübingen doesn’t have a university, it is a university\", is a common expression for a good reason: With its palm tree symbol and Duke Eberhard’s motto \"Attempto\" (\"I dare\"), the university and its\\xa0about 28,000 students certainly shape the city image. Its 450 professors and 4,000 academics make it the second largest unversity in Baden-Württemberg, following Heidelberg. The seven institutes are spread throughout the city. In the old town there is hardly a single building or location not associated with a famous scholar - Hegel, Hölderlin and Schelling, Mörike and Uhland, Johannes Kepler and Wilhelm Schickard among them. Furthermore, nine Nobel laureates are associated with the university town of Tübingen. www.uni-tuebingen.de/en Webcam Market Place Privacy Policy Imprint Top', 'outgoing_links': 'https://www.tuebingen.de/en/1815.html,https://www.tuebingen.de/en/3328.html,http://www.uni-tuebingen.de/en,https://www.tuebingen.de/en/3332.html,https://www.tuebingen.de/en/3327.html,https://www.tuebingen.de/stadtplan,https://www.tuebingen.de/en/3515.html,https://www.tuebingen.de/en/3331.html,https://www.tuebingen.de/en/42067.html,https://www.tuebingen.de/en/3330.html,https://www.tuebingen.de/en/3329.html,https://www.tuebingen.de/,https://www.tuebingen.de/en/3494.html,https://www.tuebingen.de/en/1821.html,https://www.tuebingen.de/en/3514.html,https://www.tuebingen.de/en,https://www.tuebingen.de/en/23132.html,https://www.tuebingen.de/en/42070.html', 'timestamp': '2024-06-27T21:56:32.557151', 'pagerank': 0.0026963386840179676}]\n"
     ]
    }
   ],
   "source": [
    "import requests\n",
    "\n",
    "# Here instead of hostname you can also use the ip adresse Displayed in NordVPN\n",
    "url = 'http://l.kremp-everest.nord:5000/query'\n",
    "\n",
    "N = 10  # Change this to the number of documents you need\n",
    "\n",
    "# Update the SQL query to fetch the first N documents\n",
    "query = f'SELECT * FROM documents LIMIT {N}'\n",
    "\n",
    "# Basic authentication details\n",
    "auth = ('mseproject', 'tuebingen2024')\n",
    "\n",
    "# Make the POST request to the Flask API with your query\n",
    "response = requests.post(url, json={'query': query}, auth=auth)\n",
    "\n",
    "# Check if the request was successful\n",
    "if response.status_code == 200:\n",
    "    # Parse the JSON response\n",
    "    data = response.json()\n",
    "    if data:\n",
    "        #here i can access the result via the index \"count\" because i renamed it ^\n",
    "        count = data\n",
    "        print(f\"Total documents count: {count}\")\n",
    "    else:\n",
    "        print(\"No data returned.\")\n",
    "else:\n",
    "    print(f\"Error executing query: {response.status_code} - {response.text}\")"
   ]
  },
  {
   "cell_type": "code",
   "execution_count": null,
   "metadata": {},
   "outputs": [
    {
     "data": {
      "text/plain": [
       "[{'url': 'https://www.tuebingen.de/en/',\n",
       "  'title': 'Welcome to Tübingen - City of Tuebingen',\n",
       "  'content': \"Welcome to Tübingen - City of Tuebingen Immigration office European Elections 2024 Portrait of the City City and Guests Culture and Leisure Bild: Universitätsstadt Tübingen Show search input Hide search input City Map Deutsch Welcome to Tübingen June 27th, 2024 Small steps, narrow alleys and pointed gables shape the silhouette of old Tübingen on the way up\\xa0to its castle. The Swabian university town of about 91,000 inhabitants and 28,000 students combines the flair of a lovingly restored medieval centre\\xa0with the colorful bustle and typical atmosphere of a young and cosmopolitan students' town. Numerous sidewalk cafes, wine taverns and cozy students' pubs, special shops, restaurants and taverns invite visitors to stroll around and to pause here and there. Taking a boat trip in a famous “Stocherkahn“ – the boat exclusive to Tübingen navigated by a long wooden pole – offers a scenic view of the picturesque Neckar waterfront with the famous Hölderlin Tower. Come, have a look and enjoy the very special flair of our city. For any question concerning your stay please do not hesitate to contact the\\xa0tourist information\\xa0( www.tuebingen-info.de ). Proceed here Immigration office European Elections 2024 Portrait of the City City and Guests Culture and Leisure Webcam Market Place Imprint Privacy Policy Top\",\n",
       "  'outgoing_links': 'https://www.tuebingen.de/en/1815.html,https://www.tuebingen.de/stadtplan,https://www.tuebingen.de/en/3515.html,https://www.tuebingen.de/en/23132.html,https://www.tuebingen.de/en/42067.html,https://www.tuebingen.de/en/,https://www.tuebingen.de/,https://www.tuebingen.de/en/3494.html,https://www.tuebingen.de/en/1821.html,https://www.tuebingen.de/en,http://tuebingen-info.de/index.php?id=727&Fsize=0,https://www.tuebingen.de/en/42070.html',\n",
       "  'timestamp': '2024-06-27T21:56:29.214553',\n",
       "  'pagerank': 0.00018315904874907288},\n",
       " {'url': 'https://www.tuebingen.de/en/1815.html',\n",
       "  'title': 'Portrait of the City - City of Tuebingen',\n",
       "  'content': \"Portrait of the City - City of Tuebingen Immigration office European Elections 2024 Portrait of the City Places of Interest History Districts Sister cities Personalities University Picture Galleries City and Guests Culture and Leisure Bild: Stuttgart Regio Show search input Hide search input City Map Deutsch Welcome to Tübingen Portrait of the City Portrait of the City The Swabian university town of 90,000 inhabitants and 28,000 students combines the flair of a lovingly restored medieval centre of town with the colorful bustle and typical atmosphere of a young and cosmopolitan students' town. Tübingen – the small big city Could you tell us in just one minute what makes Tübingen so unique? The new corporate video exactly faces up to this challenge. A strategic alliance consisting of the business development, supporting companies, city council and the agency Bär Tiger Wolf realized the video project. Beim Abspielen des Videos werden Daten an YouTube übertragen. Weitere Hinweise finden Sie in unserer Datenschutzerklärung . Proceed here Places of Interest History Districts Sister cities Personalities University Picture Galleries Webcam Market Place Privacy Policy Imprint Top\",\n",
       "  'outgoing_links': 'https://www.tuebingen.de/en/1815.html,https://www.tuebingen.de/en/3328.html,https://www.tuebingen.de/datenschutz,https://www.tuebingen.de/en/3332.html,https://www.tuebingen.de/en/3327.html,https://www.tuebingen.de/stadtplan,https://www.tuebingen.de/en/3515.html,https://www.tuebingen.de/en/3331.html,https://www.tuebingen.de/en/42067.html,https://www.tuebingen.de/en/3330.html,https://www.tuebingen.de/en/3329.html,https://www.tuebingen.de/,https://www.tuebingen.de/en/3494.html,https://www.tuebingen.de/en/1821.html,https://www.tuebingen.de/en/3514.html,https://www.tuebingen.de/en,https://www.tuebingen.de/en/23132.html,https://www.tuebingen.de/en/42070.html',\n",
       "  'timestamp': '2024-06-27T21:56:30.478153',\n",
       "  'pagerank': 0.007226454716830875},\n",
       " {'url': 'https://www.tuebingen.de/en/3515.html',\n",
       "  'title': 'Culture and Leisure - City of Tuebingen',\n",
       "  'content': 'Culture and Leisure - City of Tuebingen Immigration office European Elections 2024 Portrait of the City City and Guests Culture and Leisure Museums Music Literature Festivals Movie Theatres Bild: Anne Faden Show search input Hide search input City Map Deutsch Welcome to Tübingen Culture and Leisure Culture and Leisure An abundance of\\xa0events, museums and collections enrich the cultural life of the university town. Internationally respected art exhibitions as well as renowned festivals, concerts, stage plays and readings with poets of international reputation are part of the cultural program.\\xa0The versatile choices make up an important part of the distinctive profile of Tübingen. The University of Tübingen, public institutions, private initiatives and individuals are all engaged in the numerous cultural activities. Proceed here Museums Music Literature Festivals Movie Theatres Webcam Market Place Privacy Policy Imprint Top',\n",
       "  'outgoing_links': 'https://www.tuebingen.de/en/3523.html,https://www.tuebingen.de/en/1815.html,https://www.tuebingen.de/en/3561.html,https://www.tuebingen.de/en/3522.html,https://www.tuebingen.de/stadtplan,https://www.tuebingen.de/en/3555.html,https://www.tuebingen.de/en/3515.html,https://www.tuebingen.de/en/42067.html,https://www.tuebingen.de/en/3521.html,https://www.tuebingen.de/,https://www.tuebingen.de/en/3494.html,https://www.tuebingen.de/en/1821.html,https://www.tuebingen.de/en,https://www.tuebingen.de/en/23132.html,https://www.tuebingen.de/en/42070.html',\n",
       "  'timestamp': '2024-06-27T21:56:30.607154',\n",
       "  'pagerank': 0.007226454716830875},\n",
       " {'url': 'https://www.tuebingen.de/en/42067.html',\n",
       "  'title': 'Immigration office - City of Tuebingen',\n",
       "  'content': 'Immigration office - City of Tuebingen Immigration office European Elections 2024 Portrait of the City City and Guests Culture and Leisure Bild: Stuttgart Regio Show search input Hide search input City Map Deutsch Welcome to Tübingen Immigration office Immigration office Opening hours The immigration office is open on the following days: Monday 8.30 am to 12.30 pm Tuesday 8.30 am to 12.30 pm and 2.00 pm to 6.00 pm Wednesday closed Thursday 8.30 am to 12.30 pm and 2.00 pm to 4.00 pm Friday 8.30 am to 12.30 pm Responsibilites The responsibilities of the employees are determined by the first letter of your surname: Letter A-Alh: N.N. Letter Ali-B: Ms. Hassan Letter C, Y: N.N. Letter D, P: Ms. Chatzikiparidou Letter F, G, H: Ms. Maliqi Letter I, L, M: Ms. Alanbay Letter K, N, T: Ms. Maras Letter E, J, O: Ms. Falls Letter Q, R, S: Ms. Anni Letter U, V, W, X, Z: Ms. Kellner How to apply for a residence permit If you would like to apply for a residence permit or settlement permit (or extend your existing\\xa0one), please use the online application: www.tuebingen.de/eat Once the application has been checked, the employees will contact you by email and give you an appointment to take fingerprints etc. Picking up the electronic residence permit Your electronic residence permit (eAT) is usually ready to pick up four to six weeks after we\\xa0have ordered it. During this time, you should also receive a PIN letter (see example ) for the online ID function by post. Please contact us to pick up your electronic residence permit when you have either received the PIN letter or the processing time of four to six weeks has been reached. To arrange your pick up-appointment, please contact us by email ( auslaenderamt tuebingen.de ) or by phone (07071 204-2550). Accessibility and appointments For the following services, an appointment can be booked for the same day at the waiting mark printer in the immigration office: extending a „Aufenthaltsgestattung“ extending a „Duldung“ applying for or extending a „Fiktionsbescheinigung“ submitting applications and documents transfer residence permit to new passport The number of available appointments is limited. However, new same-day appointments are released every day. Appointments for the morning can be booked during opening hours between 8.30 am and 12.30 pm. On Tuesdays, the service is also available in the afternoon from 2 to 6 pm and on Thursdays from 2 to 4 pm. For all other requests or questions, please send us an email to auslaenderamt tuebingen.de or you can reach us during our telephone hours (Mon to Thu 2 to 4 pm) on 07071 204-2550. Appointments will be made by our employees after your request has been checked. You will then be informed by email. Further information (in German) can be found at: www.tuebingen.de/auslaenderamt Webcam Market Place Privacy Policy Imprint Top',\n",
       "  'outgoing_links': 'https://www.tuebingen.de/en/1815.html,https://www.tuebingen.de/stadtplan,https://www.tuebingen.de/en/3515.html,https://www.tuebingen.de/en/42067.html,https://www.tuebingen.de/auslaenderamt,https://www.tuebingen.de/,https://www.tuebingen.de/en/3494.html,https://www.tuebingen.de/en/1821.html,https://formulare.tuebingen.de/frontend-server/form/provide/155,https://www.tuebingen.de/en,https://www.personalausweisportal.de/SharedDocs/downloads/Webs/PA/DE/informationsmaterial/pin-brief-muster/muster_pin_brief_elektronischer_aufenthaltstitel_de.pdf?__blob=publicationFile&v=3,https://www.tuebingen.de/en/23132.html,https://www.tuebingen.de/en/42070.html',\n",
       "  'timestamp': '2024-06-27T21:56:30.559153',\n",
       "  'pagerank': 0.007226454716830875},\n",
       " {'url': 'https://www.tuebingen.de/en/3494.html',\n",
       "  'title': 'City and Guests - City of Tuebingen',\n",
       "  'content': \"City and Guests - City of Tuebingen Immigration office European Elections 2024 Portrait of the City City and Guests How to get there Accommodation Gastronomy Shopping Trips around Tübingen Culture and Leisure Bild: Alexander Gonschior Show search input Hide search input City Map Deutsch Welcome to Tübingen City and Guests City and Guests Of the roughly 100,000 annual visitors, about every fifth guest is visiting from abroad. It is quite likely that you will be able to get to know Tuebingen in your native language: City tours are offered in many languages, including Norwegian, Mandarin, and even Latin. There is a\\xa0variety of tours ranging from classical trips through the old town to rather specialized\\xa0ones\\xa0that lead through\\xa0museums or\\xa0a distillery\\xa0for\\xa0Swabian whisky. Just visit www.tuebingen-info.de and choose your tour and language. Sightseeing flight Tübingen's most beautiful buildings: Enjoy the bird's eye view of the Hohentübingen Castle, the Hölderlin Tower and the Bebenhausen Monastery. Beim Abspielen des Videos werden Daten an YouTube übertragen. Weitere Hinweise finden Sie in unserer Datenschutzerklärung . Proceed here How to get there Accommodation Gastronomy Shopping Trips around Tübingen Webcam Market Place Privacy Policy Imprint Top\",\n",
       "  'outgoing_links': 'https://www.tuebingen.de/en/1815.html,https://www.tuebingen.de/datenschutz,https://www.tuebingen.de/stadtplan,https://www.tuebingen.de/en/3515.html,https://www.tuebingen.de/en/3506.html,https://www.tuebingen.de/en/42067.html,http://tuebingen-info.de/index.php?id=825&Fsize=google%20maps,https://www.tuebingen.de/en/3504.html,https://www.tuebingen.de/en/3502.html,https://www.tuebingen.de/,https://www.tuebingen.de/en/3503.html,https://www.tuebingen.de/en/1821.html,https://www.tuebingen.de/en/3494.html,https://www.tuebingen.de/en/3507.html,https://www.tuebingen.de/en,https://www.tuebingen.de/en/23132.html,https://www.tuebingen.de/en/42070.html',\n",
       "  'timestamp': '2024-06-27T21:56:30.535153',\n",
       "  'pagerank': 0.007226454716830875},\n",
       " {'url': 'https://www.tuebingen.de/en/1821.html',\n",
       "  'title': 'Imprint - City of Tuebingen',\n",
       "  'content': 'Imprint - City of Tuebingen Immigration office European Elections 2024 Portrait of the City City and Guests Culture and Leisure Bild: @Manuel Schönfeld – stock.adobe.com Show search input Hide search input City Map Deutsch Welcome to Tübingen Imprint Imprint Universitätsstadt Tübingen Corporation under public law Business address: Am Markt 1 72070 Tübingen Authorized to represent: Lord Mayor Boris Palmer Competent supervisory authority:\\xa0Regional council of Tübingen VAT identification number according to § 27a UStG: DE 146 889 570 Contact An electronic contact is possible by sending an e-mail to the following address: stadt tuebingen.de Phone:\\xa00049 (0) 7071 204 0 Fax: 0049 (0) 7071 204 41777 Responsible for the content of this website Universitätsstadt Tübingen Office of Press and Public Relations Am Markt 1 72070 Tübingen Phone:\\xa00049 (0) 7071 204 15 00 e-Mail: presse tuebingen.de Online Dispute Resolution Link to the platform of the European Commission according to Regulation on consumer ODR: http://ec.europa.eu/consumers/odr/ Copyright The content, works and information provided by this website operator are subject to German copyright and ancillary copyright law. The rights to content and works provided on this website are owned exclusively by university town of Tübingen. Unaltered extracts or content from this website can be printed out for personal, private and non-commercial purposes or can be temporarily stored in any other way, as long as no changes are applied and all copyright notices and other proprietary notices are provided. Apart from that, this website may not be copied, be modified or be presented publicly on media of any kind or be republished either in whole or part without prior written approval of university town of Tübingen; especially in frames or iframes. Design Wagnerwagner GmbH Burkhardt+Weber-Straße 59 72760 Reutlingen phone:\\xa00049 (0) 7121 69 69 270 Fax:\\xa000 49 (0) 7121 69 69 299 e-Mail: mail wagnerwagner.de www.wagnerwagner.de Webcam Market Place Privacy Policy Imprint Top',\n",
       "  'outgoing_links': 'https://www.tuebingen.de/en/1815.html,https://www.tuebingen.de/stadtplan,https://www.tuebingen.de/en/3515.html,http://www.wagnerwagner.de/,https://www.tuebingen.de/en/42067.html,https://www.tuebingen.de/,https://www.tuebingen.de/en/3494.html,https://www.tuebingen.de/en/1821.html,https://www.tuebingen.de/en,http://ec.europa.eu/consumers/odr/,https://www.tuebingen.de/en/23132.html,https://www.tuebingen.de/en/42070.html',\n",
       "  'timestamp': '2024-06-27T21:56:30.504152',\n",
       "  'pagerank': 0.007226454716830875},\n",
       " {'url': 'https://www.tuebingen.de/en',\n",
       "  'title': 'Welcome to Tübingen - City of Tuebingen',\n",
       "  'content': \"Welcome to Tübingen - City of Tuebingen Immigration office European Elections 2024 Portrait of the City City and Guests Culture and Leisure Bild: Universitätsstadt Tübingen Show search input Hide search input City Map Deutsch Welcome to Tübingen June 27th, 2024 Small steps, narrow alleys and pointed gables shape the silhouette of old Tübingen on the way up\\xa0to its castle. The Swabian university town of about 91,000 inhabitants and 28,000 students combines the flair of a lovingly restored medieval centre\\xa0with the colorful bustle and typical atmosphere of a young and cosmopolitan students' town. Numerous sidewalk cafes, wine taverns and cozy students' pubs, special shops, restaurants and taverns invite visitors to stroll around and to pause here and there. Taking a boat trip in a famous “Stocherkahn“ – the boat exclusive to Tübingen navigated by a long wooden pole – offers a scenic view of the picturesque Neckar waterfront with the famous Hölderlin Tower. Come, have a look and enjoy the very special flair of our city. For any question concerning your stay please do not hesitate to contact the\\xa0tourist information\\xa0( www.tuebingen-info.de ). Proceed here Immigration office European Elections 2024 Portrait of the City City and Guests Culture and Leisure Webcam Market Place Imprint Privacy Policy Top\",\n",
       "  'outgoing_links': 'https://www.tuebingen.de/en/1815.html,https://www.tuebingen.de/stadtplan,https://www.tuebingen.de/en/3515.html,https://www.tuebingen.de/en/23132.html,https://www.tuebingen.de/en/42067.html,https://www.tuebingen.de/,https://www.tuebingen.de/en/3494.html,https://www.tuebingen.de/en/1821.html,https://www.tuebingen.de/en,http://tuebingen-info.de/index.php?id=727&Fsize=0,https://www.tuebingen.de/en/42070.html',\n",
       "  'timestamp': '2024-06-27T21:56:30.627152',\n",
       "  'pagerank': 0.007226454716830875},\n",
       " {'url': 'https://www.tuebingen.de/en/42070.html',\n",
       "  'title': 'European Elections 2024 - City of Tuebingen',\n",
       "  'content': 'European Elections 2024 - City of Tuebingen Immigration office European Elections 2024 Portrait of the City City and Guests Culture and Leisure Bild: Stuttgart Regio Show search input Hide search input City Map Deutsch Welcome to Tübingen European Elections 2024 European Elections 2024 Citizens of other European Union member states (Union citizens) who live in the Federal Republic of Germany can also take part in the elections to the European Parliament, either in the Federal Republic of Germany or in their country of origin. Information on how to participate in the election from Germany or the member state of your origin as well as potentially required forms are available by the Federal Returning Officer: Information for Union citizens The application must have been received by the Universitätstadt Tübingen on the 21 st day before election (= 19 May 2024) at the latest. Bürgermeisteramt Tübingen Postfach 2540 72015 Tübingen GERMANY This period cannot be extended. Webcam Market Place Privacy Policy Imprint Top',\n",
       "  'outgoing_links': 'https://www.tuebingen.de/en/1815.html,https://www.tuebingen.de/stadtplan,https://www.tuebingen.de/en/3515.html,https://www.tuebingen.de/en/42070.html,https://www.tuebingen.de/,https://www.tuebingen.de/en/3494.html,https://www.tuebingen.de/en/1821.html,https://www.tuebingen.de/en,https://www.tuebingen.de/en/23132.html,https://www.tuebingen.de/en/42067.html,https://www.bundeswahlleiterin.de/en/europawahlen/2024/informationen-waehler/unionsbuerger.html',\n",
       "  'timestamp': '2024-06-27T21:56:32.449152',\n",
       "  'pagerank': 0.007226454716830875},\n",
       " {'url': 'https://www.tuebingen.de/en/3328.html',\n",
       "  'title': 'History - City of Tuebingen',\n",
       "  'content': 'History - City of Tuebingen Immigration office European Elections 2024 Portrait of the City Places of Interest History Districts Sister cities Personalities University Picture Galleries City and Guests Culture and Leisure Bild: Stuttgart Regio Show search input Hide search input City Map Deutsch Welcome to Tübingen Portrait of the City History History City arms of university town of Tübingen The university town of Tübingen has witnessed almost a millennium of history, with the castle, the historic Old Town and the medieval buildings of the different institutes. In 1078 Tübingen was mentioned in writing for the first time, and in the middle of the 13th century Tübingen achieved town status and civil liberty under the Palatine Counts of Tübingen. The city arms show the tripartite banner of the Palatine Counts; around 1514 the deer antlers of Württemberg were added. Towards the end of the 15th century Count Eberhard im Barte founded the university with the slogan \"attempto\" (I will attempt it). To date, the city is energized by the complementary connection between history, civic community and university. Milestones in Tübingen\\'s History Webcam Market Place Privacy Policy Imprint Top',\n",
       "  'outgoing_links': 'https://www.tuebingen.de/en/1815.html,https://www.tuebingen.de/en/3328.html,https://www.tuebingen.de/en/3332.html,https://www.tuebingen.de/en/3327.html,https://www.tuebingen.de/stadtplan,https://www.tuebingen.de/en/3515.html,https://www.tuebingen.de/en/3328/3437.html,https://www.tuebingen.de/en/3331.html,https://www.tuebingen.de/en/42067.html,https://www.tuebingen.de/en/3330.html,https://www.tuebingen.de/en/3329.html,https://www.tuebingen.de/,https://www.tuebingen.de/en/3494.html,https://www.tuebingen.de/en/1821.html,https://www.tuebingen.de/en/3514.html,https://www.tuebingen.de/en,https://www.tuebingen.de/en/23132.html,https://www.tuebingen.de/en/42070.html',\n",
       "  'timestamp': '2024-06-27T21:56:32.493151',\n",
       "  'pagerank': 0.0026963386840179676},\n",
       " {'url': 'https://www.tuebingen.de/en/3332.html',\n",
       "  'title': 'University - City of Tuebingen',\n",
       "  'content': 'University - City of Tuebingen Immigration office European Elections 2024 Portrait of the City Places of Interest History Districts Sister cities Personalities University Picture Galleries City and Guests Culture and Leisure Bild: Vincent Horn Show search input Hide search input City Map Deutsch Welcome to Tübingen Portrait of the City University University \"Tübingen doesn’t have a university, it is a university\", is a common expression for a good reason: With its palm tree symbol and Duke Eberhard’s motto \"Attempto\" (\"I dare\"), the university and its\\xa0about 28,000 students certainly shape the city image. Its 450 professors and 4,000 academics make it the second largest unversity in Baden-Württemberg, following Heidelberg. The seven institutes are spread throughout the city. In the old town there is hardly a single building or location not associated with a famous scholar - Hegel, Hölderlin and Schelling, Mörike and Uhland, Johannes Kepler and Wilhelm Schickard among them. Furthermore, nine Nobel laureates are associated with the university town of Tübingen. www.uni-tuebingen.de/en Webcam Market Place Privacy Policy Imprint Top',\n",
       "  'outgoing_links': 'https://www.tuebingen.de/en/1815.html,https://www.tuebingen.de/en/3328.html,http://www.uni-tuebingen.de/en,https://www.tuebingen.de/en/3332.html,https://www.tuebingen.de/en/3327.html,https://www.tuebingen.de/stadtplan,https://www.tuebingen.de/en/3515.html,https://www.tuebingen.de/en/3331.html,https://www.tuebingen.de/en/42067.html,https://www.tuebingen.de/en/3330.html,https://www.tuebingen.de/en/3329.html,https://www.tuebingen.de/,https://www.tuebingen.de/en/3494.html,https://www.tuebingen.de/en/1821.html,https://www.tuebingen.de/en/3514.html,https://www.tuebingen.de/en,https://www.tuebingen.de/en/23132.html,https://www.tuebingen.de/en/42070.html',\n",
       "  'timestamp': '2024-06-27T21:56:32.557151',\n",
       "  'pagerank': 0.0026963386840179676}]"
      ]
     },
     "execution_count": 19,
     "metadata": {},
     "output_type": "execute_result"
    }
   ],
   "source": [
    "count"
   ]
  },
  {
   "cell_type": "code",
   "execution_count": 1,
   "metadata": {},
   "outputs": [
    {
     "data": {
      "text/html": [
       "<div>\n",
       "<style scoped>\n",
       "    .dataframe tbody tr th:only-of-type {\n",
       "        vertical-align: middle;\n",
       "    }\n",
       "\n",
       "    .dataframe tbody tr th {\n",
       "        vertical-align: top;\n",
       "    }\n",
       "\n",
       "    .dataframe thead th {\n",
       "        text-align: right;\n",
       "    }\n",
       "</style>\n",
       "<table border=\"1\" class=\"dataframe\">\n",
       "  <thead>\n",
       "    <tr style=\"text-align: right;\">\n",
       "      <th></th>\n",
       "      <th>1</th>\n",
       "      <th>3</th>\n",
       "      <th>4</th>\n",
       "      <th>5</th>\n",
       "      <th>6</th>\n",
       "      <th>8</th>\n",
       "      <th>9</th>\n",
       "      <th>10</th>\n",
       "      <th>11</th>\n",
       "      <th>13</th>\n",
       "      <th>...</th>\n",
       "      <th>84</th>\n",
       "      <th>85</th>\n",
       "      <th>86</th>\n",
       "      <th>88</th>\n",
       "      <th>89</th>\n",
       "      <th>90</th>\n",
       "      <th>91</th>\n",
       "      <th>93</th>\n",
       "      <th>94</th>\n",
       "      <th>95</th>\n",
       "    </tr>\n",
       "  </thead>\n",
       "  <tbody>\n",
       "    <tr>\n",
       "      <th>0</th>\n",
       "      <td>1</td>\n",
       "      <td>1</td>\n",
       "      <td>1</td>\n",
       "      <td>1</td>\n",
       "      <td>0.5</td>\n",
       "      <td>0.5</td>\n",
       "      <td>0.5</td>\n",
       "      <td>0.5</td>\n",
       "      <td>109</td>\n",
       "      <td>8</td>\n",
       "      <td>...</td>\n",
       "      <td>0.333333</td>\n",
       "      <td>7.0</td>\n",
       "      <td>0.333333</td>\n",
       "      <td>0.333333</td>\n",
       "      <td>0.333333</td>\n",
       "      <td>7.0</td>\n",
       "      <td>0.0</td>\n",
       "      <td>0.0</td>\n",
       "      <td>0.0</td>\n",
       "      <td>0.0</td>\n",
       "    </tr>\n",
       "    <tr>\n",
       "      <th>1</th>\n",
       "      <td>1</td>\n",
       "      <td>1</td>\n",
       "      <td>1</td>\n",
       "      <td>1</td>\n",
       "      <td>0.5</td>\n",
       "      <td>0.5</td>\n",
       "      <td>0.5</td>\n",
       "      <td>0.5</td>\n",
       "      <td>109</td>\n",
       "      <td>8</td>\n",
       "      <td>...</td>\n",
       "      <td>0.333333</td>\n",
       "      <td>7.0</td>\n",
       "      <td>0.333333</td>\n",
       "      <td>0.333333</td>\n",
       "      <td>0.333333</td>\n",
       "      <td>7.0</td>\n",
       "      <td>0.0</td>\n",
       "      <td>0.0</td>\n",
       "      <td>0.0</td>\n",
       "      <td>0.0</td>\n",
       "    </tr>\n",
       "  </tbody>\n",
       "</table>\n",
       "<p>2 rows × 56 columns</p>\n",
       "</div>"
      ],
      "text/plain": [
       "   1   3   4   5    6    8    9    10   11  13  ...        84   85        86  \\\n",
       "0   1   1   1   1  0.5  0.5  0.5  0.5  109   8  ...  0.333333  7.0  0.333333   \n",
       "1   1   1   1   1  0.5  0.5  0.5  0.5  109   8  ...  0.333333  7.0  0.333333   \n",
       "\n",
       "         88        89   90   91   93   94   95  \n",
       "0  0.333333  0.333333  7.0  0.0  0.0  0.0  0.0  \n",
       "1  0.333333  0.333333  7.0  0.0  0.0  0.0  0.0  \n",
       "\n",
       "[2 rows x 56 columns]"
      ]
     },
     "execution_count": 1,
     "metadata": {},
     "output_type": "execute_result"
    }
   ],
   "source": [
    "import numpy as np\n",
    "from collections import Counter\n",
    "from typing import List, Dict\n",
    "import pandas as pd\n",
    "\n",
    "class PrecomputedDocumentFeatures:\n",
    "    \n",
    "    def __init__(self, documents: List[dict]):\n",
    "        self.documents = documents\n",
    "        self.doc_count = len(documents)\n",
    "        self.idf_cache = {}\n",
    "        self.precomputed_features = []\n",
    "        self._build_idf_cache()\n",
    "        self._precompute_features()\n",
    "    \n",
    "    def _build_idf_cache(self): \n",
    "        \"\"\" \n",
    "        Pre-compute IDF for all terms in the corpus. \n",
    "        WARNING: IDF defined as: 1 divided by the number of documents containing the query terms.\n",
    "        \"\"\"\n",
    "        term_doc_count = Counter()\n",
    "        for doc in self.documents:\n",
    "            content = doc['content']\n",
    "            url = doc['url']\n",
    "            outgoing_links = doc['outgoing_links']\n",
    "            whole_document = f\"{content} {url} {outgoing_links}\".lower() # lower!\n",
    "            unique_terms = set(whole_document.split())\n",
    "            for term in unique_terms:\n",
    "                term_doc_count[term] += 1\n",
    "        \n",
    "        for term, count in term_doc_count.items():\n",
    "            self.idf_cache[term] = 1 / (count + 1)\n",
    "    \n",
    "    def compute_idf(self, term: str) -> float:\n",
    "        \"\"\" Compute IDF for a given term using the pre-computed IDF cache. \"\"\"\n",
    "        return self.idf_cache.get(term, 1 / (1 + 1))  # Default IDF for unseen terms\n",
    "    \n",
    "    def stream_length(self, text: str) -> int:\n",
    "        \"\"\" Determine the length of the text in terms of word count. \"\"\"\n",
    "        return len(text.split())\n",
    "    \n",
    "    def term_frequencies(self, text: str) -> Dict[str, int]:\n",
    "        \"\"\" Compute term frequencies for a given text. \"\"\"\n",
    "        return Counter(text.split())\n",
    "    \n",
    "    def _trim_content(self, content: str) -> str:\n",
    "        \"\"\" Trim 20% off the beginning and end of the content as body. \"\"\"\n",
    "        words = content.split()\n",
    "        total_length = len(words)\n",
    "        cut_off = int(total_length * 0.2)\n",
    "        trimmed_words = words[cut_off: total_length - cut_off]\n",
    "        return ' '.join(trimmed_words)\n",
    "    \n",
    "    def _precompute_features(self):\n",
    "        \"\"\" Pre-compute features for all documents. \"\"\"\n",
    "        for doc in self.documents:\n",
    "            content = doc['content'].lower()\n",
    "            body = self._trim_content(content)\n",
    "            title = doc['title'].lower()\n",
    "            url = doc['url'].lower()\n",
    "            outgoing_links = doc['outgoing_links'].lower()\n",
    "            url_splitted = url.replace('/', ' ').replace('.', ' ').split()\n",
    "            url_terms = ' '.join(url_splitted)\n",
    "            outgoing_links_terms = ' '.join(outgoing_links.replace('/', ' ').replace('.', ' ').split())\n",
    "            whole_document = f\"{content} {url_terms} {outgoing_links_terms}\"\n",
    "            \n",
    "            body_term_freq = self.term_frequencies(body)\n",
    "            title_term_freq = self.term_frequencies(title)\n",
    "            url_term_freq = self.term_frequencies(url_terms)\n",
    "            whole_doc_term_freq = self.term_frequencies(whole_document)\n",
    "            \n",
    "            body_features = {\n",
    "                'stream_length': self.stream_length(body),\n",
    "                'term_freq': body_term_freq\n",
    "            }\n",
    "            \n",
    "            title_features = {\n",
    "                'stream_length': self.stream_length(title),\n",
    "                'term_freq': title_term_freq\n",
    "            }\n",
    "            \n",
    "            url_features = {\n",
    "                'stream_length': len(url_splitted[2]), # only the main part of the url e.g. tuebingen from https://www.tuebingen.de\n",
    "                'term_freq': url_term_freq\n",
    "            }\n",
    "            \n",
    "            whole_doc_features = {\n",
    "                'stream_length': self.stream_length(whole_document),\n",
    "                'term_freq': whole_doc_term_freq\n",
    "            }\n",
    "            \n",
    "            self.precomputed_features.append({\n",
    "                'content': body_features,\n",
    "                'title': title_features,\n",
    "                'url': url_features,\n",
    "                'whole_document': whole_doc_features\n",
    "            })\n",
    "    \n",
    "    \n",
    "    \n",
    "    def extract_query_features(self, query: str, order=False) -> pd.DataFrame:\n",
    "        \"\"\" Extract query-specific features using pre-computed document features. \"\"\"\n",
    "        query_terms = query.lower().split()\n",
    "        all_features = []\n",
    "        \n",
    "        part_order = {'content': 1, 'title': 3, 'url': 4, 'whole_document': 5}\n",
    "\n",
    "        for doc_features in self.precomputed_features:\n",
    "            features = {}\n",
    "            for part in ['content', 'title', 'url', 'whole_document']:\n",
    "                term_freq = doc_features[part]['term_freq']\n",
    "                # Use the precomputed IDF values for the query terms\n",
    "                idf_values = [self.compute_idf(term) for term in query_terms]\n",
    "                \n",
    "                query_term_freqs = [term_freq[term] for term in query_terms if term in term_freq]\n",
    "                tf_idf_values = [term_freq[term] * idf for term, idf in zip(query_terms, idf_values) if term in term_freq]\n",
    "                \n",
    "                covered_query_terms = len(query_term_freqs)\n",
    "                sum_term_freq = sum(query_term_freqs)\n",
    "                min_term_freq = min(query_term_freqs, default=0)\n",
    "                max_term_freq = max(query_term_freqs, default=0)\n",
    "                mean_term_freq = round(sum(query_term_freqs) / len(query_term_freqs), 6) if query_term_freqs else 0.000000\n",
    "                var_term_freq = round(sum((x - mean_term_freq) ** 2 for x in query_term_freqs) / len(query_term_freqs), 6) if query_term_freqs else 0.000000\n",
    "                \n",
    "                sum_tf_idf = round(sum(tf_idf_values), 6) if tf_idf_values else 0.000000\n",
    "                min_tf_idf = round(min(tf_idf_values), 6) if tf_idf_values else 0.000000\n",
    "                max_tf_idf = round(max(tf_idf_values), 6) if tf_idf_values else 0.000000\n",
    "                mean_tf_idf = round(sum(tf_idf_values) / len(tf_idf_values), 6) if tf_idf_values else 0.000000\n",
    "                var_tf_idf = round(sum((x - mean_tf_idf) ** 2 for x in tf_idf_values) / len(tf_idf_values), 6) if tf_idf_values else 0.000000\n",
    "                \n",
    "                # IDF feature for the query terms\n",
    "                idf = round(sum(idf_values) / len(idf_values), 6) if idf_values else 0.000000\n",
    "                \n",
    "                feature_values = [\n",
    "                    covered_query_terms,\n",
    "                    covered_query_terms / len(query_terms),\n",
    "                    doc_features[part]['stream_length'],\n",
    "                    idf,\n",
    "                    sum_term_freq,\n",
    "                    min_term_freq,\n",
    "                    max_term_freq,\n",
    "                    mean_term_freq,\n",
    "                    var_term_freq,\n",
    "                    sum_tf_idf,\n",
    "                    min_tf_idf,\n",
    "                    max_tf_idf,\n",
    "                    mean_tf_idf,\n",
    "                    var_tf_idf\n",
    "                ]\n",
    "                \n",
    "                # Microsoft Dataset feature names\n",
    "                feature_names = [\n",
    "                    part_order[part],\n",
    "                    part_order[part] + 5,\n",
    "                    part_order[part] + 10,\n",
    "                    part_order[part] + 15,\n",
    "                    part_order[part] + 20,\n",
    "                    part_order[part] + 25,\n",
    "                    part_order[part] + 30,\n",
    "                    part_order[part] + 35,\n",
    "                    part_order[part] + 40,\n",
    "                    part_order[part] + 70,\n",
    "                    part_order[part] + 75,\n",
    "                    part_order[part] + 80,\n",
    "                    part_order[part] + 85,\n",
    "                    part_order[part] + 90\n",
    "                ]\n",
    "                for name, value in zip(feature_names, feature_values):\n",
    "                    features[name] = value\n",
    "            all_features.append(features)\n",
    "\n",
    "        df_results = pd.DataFrame(all_features)\n",
    "\n",
    "        if order:\n",
    "            df_results = df_results.reindex(sorted(df_results.columns, key=int), axis=1)\n",
    "        \n",
    "        return df_results\n",
    "# Example usage\n",
    "documents = [\n",
    "    {\n",
    "        'url': 'https://www.tuebingen.de/en/1815.html',\n",
    "        'title': 'Portrait of the City - City of Tuebingen',\n",
    "        'content': \"Portrait of the City - City of Tuebingen Immigration office European Elections 2024 Portrait of the City Places of Interest History Districts Sister cities Personalities University Picture Galleries City and Guests Culture and Leisure Bild: Stuttgart Regio Show search input Hide search input City Map Deutsch Welcome to Tübingen Portrait of the City Portrait tuebingen of the City The Swabian university town of 90,000 inhabitants and 28,000 students combines the flair of a lovingly restored medieval centre of town with the colorful bustle and typical atmosphere of a young and cosmopolitan students' town. Tübingen – the small big city Could you tell us in just one minute what makes Tübingen so unique? The new corporate video exactly faces up to this challenge. A strategic alliance consisting of the business development, supporting companies, city council and the agency Bär Tiger Wolf realized the video project. Beim Abspielen des Videos werden Daten an YouTube übertragen. Weitere Hinweise finden Sie in unserer Datenschutzerklärung . Proceed here Places of Interest History Districts Sister cities Personalities University Picture Galleries Webcam Market Place Privacy Policy Imprint Top\",\n",
    "        'outgoing_links': 'https://www.tuebingen.de/en/1815.html,https://www.tuebingen.de/en/3328.html,https://www.tuebingen.de/datenschutz,https://www.tuebingen.de/en/3332.html,https://www.tuebingen.de/en/3327.html,https://www.tuebingen.de/stadtplan,https://www.tuebingen.de/en/3515.html,https://www.tuebingen.de/en/3331.html,https://www.tuebingen.de/en/42067.html,https://www.tuebingen.de/en/3330.html,https://www.tuebingen.de/en/3329.html,https://www.tuebingen.de/,https://www.tuebingen.de/en/3494.html,https://www.tuebingen.de/en/1821.html,https://www.tuebingen.de/en/3514.html,https://www.tuebingen.de/en,https://www.tuebingen.de/en/23132.html,https://www.tuebingen.de/en/42070.html',\n",
    "        'timestamp': '2024-06-21:56:30.478153',\n",
    "        'pagerank': 0.007226454716830875\n",
    "    },\n",
    "    {\n",
    "        'url': 'https://www.tuebingen.de/en/1815.html',\n",
    "        'title': 'Portrait of the City - City of Tuebingen',\n",
    "        'content': \"Portrait of the City - City of Tuebingen Immigration office European Elections 2024 Portrait of the City Places of Interest History Districts Sister cities Personalities University Picture Galleries City and Guests Culture and Leisure Bild: Stuttgart Regio Show search input Hide search input City Map Deutsch Welcome to Tübingen Portrait of the City Portrait tuebingen of the City The Swabian university town of 90,000 inhabitants and 28,000 students combines the flair of a lovingly restored medieval centre of town with the colorful bustle and typical atmosphere of a young and cosmopolitan students' town. Tübingen – the small big city Could you tell us in just one minute what makes Tübingen so unique? The new corporate video exactly faces up to this challenge. A strategic alliance consisting of the business development, supporting companies, city council and the agency Bär Tiger Wolf realized the video project. Beim Abspielen des Videos werden Daten an YouTube übertragen. Weitere Hinweise finden Sie in unserer Datenschutzerklärung . Proceed here Places of Interest History Districts Sister cities Personalities University Picture Galleries Webcam Market Place Privacy Policy Imprint Top\",\n",
    "        'outgoing_links': 'https://www.tuebingen.de/en/1815.html,https://www.tuebingen.de/en/3328.html,https://www.tuebingen.de/datenschutz,https://www.tuebingen.de/en/3332.html,https://www.tuebingen.de/en/3327.html,https://www.tuebingen.de/stadtplan,https://www.tuebingen.de/en/3515.html,https://www.tuebingen.de/en/3331.html,https://www.tuebingen.de/en/42067.html,https://www.tuebingen.de/en/3330.html,https://www.tuebingen.de/en/3329.html,https://www.tuebingen.de/,https://www.tuebingen.de/en/3494.html,https://www.tuebingen.de/en/1821.html,https://www.tuebingen.de/en/3514.html,https://www.tuebingen.de/en,https://www.tuebingen.de/en/23132.html,https://www.tuebingen.de/en/42070.html',\n",
    "        'timestamp': '2024-06-21:56:30.478153',\n",
    "        'pagerank': 0.007226454716830875\n",
    "    }\n",
    "    # Add more documents as needed\n",
    "]\n",
    "\n",
    "query = \"first tuebingen\"\n",
    "\n",
    "feature_extractor = PrecomputedDocumentFeatures(documents) # assume the documents are not lowercased, not NLP perf for now\n",
    "\n",
    "query_features = feature_extractor.extract_query_features(query, order=True)\n",
    "query_features\n"
   ]
  },
  {
   "cell_type": "code",
   "execution_count": 87,
   "metadata": {},
   "outputs": [
    {
     "data": {
      "text/plain": [
       "0    0.0\n",
       "Name: 66, dtype: float64"
      ]
     },
     "execution_count": 87,
     "metadata": {},
     "output_type": "execute_result"
    }
   ],
   "source": [
    "query_features[66]"
   ]
  },
  {
   "cell_type": "code",
   "execution_count": 24,
   "metadata": {},
   "outputs": [],
   "source": [
    "\n",
    "import pandas as pd\n",
    "import numpy as np\n",
    "\n",
    "def get_data(data_path, top_k = None):\n",
    "    if top_k:\n",
    "        dfs = {\n",
    "            \"train\": pd.read_csv(f\"{data_path}/train.txt\", delimiter=\" \", header=None).head(top_k),\n",
    "            \"vali\": pd.read_csv(f\"{data_path}/vali.txt\", delimiter=\" \", header=None).head(top_k),\n",
    "            \"test\": pd.read_csv(f\"{data_path}/test.txt\", delimiter=\" \", header=None).head(top_k),\n",
    "        }\n",
    "    else:\n",
    "        dfs = {\n",
    "            \"train\": pd.read_csv(f\"{data_path}/train.txt\", delimiter=\" \", header=None),\n",
    "            \"vali\": pd.read_csv(f\"{data_path}/vali.txt\", delimiter=\" \", header=None),\n",
    "            \"test\": pd.read_csv(f\"{data_path}/test.txt\", delimiter=\" \", header=None),\n",
    "        }\n",
    "\n",
    "\n",
    "    for df in dfs.values():\n",
    "        df.columns = np.arange(len(df.columns))\n",
    "        df.drop(columns=df.columns[df.isna().all()].tolist(), inplace=True)  # delete columns where all data is missing\n",
    "\n",
    "    split = {}\n",
    "    split[\"X_train\"] = dfs[\"train\"].iloc[:, 1:]\n",
    "    split[\"X_val\"] = dfs[\"vali\"].iloc[:, 1:]\n",
    "    split[\"X_test\"] = dfs[\"test\"].iloc[:, 1:]\n",
    "\n",
    "    y_train = dfs[\"train\"].iloc[:, 0]\n",
    "    y_val = dfs[\"vali\"].iloc[:, 0]\n",
    "    y_test = dfs[\"test\"].iloc[:, 0]\n",
    "\n",
    "    # Create group parameters for LightGBM\n",
    "    group_train = dfs[\"train\"].groupby(1).size().to_list()\n",
    "    group_vali = dfs[\"vali\"].groupby(1).size().to_list()\n",
    "    group_test = dfs[\"test\"].groupby(1).size().to_list()\n",
    "\n",
    "    # Specify the columns to keep\n",
    "    columns_to_keep = [1, 4, 5, 6, 9, 10, 11, 14, 15, 16, 19, 20, 21, 24, 25, 26, 29, 30, 31, 34, 35, 36, 39, 40, 41, 44, 45, 71, 74, 75, 76, 79, 80, 81, 84, 85, 86, 89, 90, 91, 94, 95, 106, 109, 110, 126, 127, 129] \n",
    "    # add 130\n",
    "    # add ti\n",
    "\n",
    "    for name, df in split.items():\n",
    "        df = df.applymap(lambda x: x.split(\":\", 1)[-1])  # Get rid of irrelevant information\n",
    "        df = df.astype(float)  # Convert data into float format\n",
    "        df = df.drop(columns=1)  # Drop the query ID column\n",
    "        df.columns = [i for i in range(1, 137)]  # Rename column indices\n",
    "        df = df[columns_to_keep]  # Keep only specified columns\n",
    "        split[name] = df\n",
    "\n",
    "    return (\n",
    "        split[\"X_train\"],\n",
    "        split[\"X_test\"],\n",
    "        split[\"X_val\"],\n",
    "        y_train,\n",
    "        y_test,\n",
    "        y_val,\n",
    "        group_train,\n",
    "        group_vali,\n",
    "        group_test\n",
    "    )"
   ]
  },
  {
   "cell_type": "code",
   "execution_count": 25,
   "metadata": {},
   "outputs": [
    {
     "name": "stderr",
     "output_type": "stream",
     "text": [
      "C:\\Users\\erika\\AppData\\Local\\Temp\\ipykernel_30080\\2480318331.py:42: FutureWarning: DataFrame.applymap has been deprecated. Use DataFrame.map instead.\n",
      "  df = df.applymap(lambda x: x.split(\":\", 1)[-1])  # Get rid of irrelevant information\n",
      "C:\\Users\\erika\\AppData\\Local\\Temp\\ipykernel_30080\\2480318331.py:42: FutureWarning: DataFrame.applymap has been deprecated. Use DataFrame.map instead.\n",
      "  df = df.applymap(lambda x: x.split(\":\", 1)[-1])  # Get rid of irrelevant information\n",
      "C:\\Users\\erika\\AppData\\Local\\Temp\\ipykernel_30080\\2480318331.py:42: FutureWarning: DataFrame.applymap has been deprecated. Use DataFrame.map instead.\n",
      "  df = df.applymap(lambda x: x.split(\":\", 1)[-1])  # Get rid of irrelevant information\n"
     ]
    }
   ],
   "source": [
    "# Load data\n",
    "data_path = \"training_data/Fold1\"\n",
    "X_train, X_test, X_val, y_train, y_test, y_val, group_train, group_vali, group_test = get_data(data_path)"
   ]
  },
  {
   "cell_type": "code",
   "execution_count": 50,
   "metadata": {},
   "outputs": [
    {
     "data": {
      "text/plain": [
       "0         10.0\n",
       "1         11.0\n",
       "2         11.0\n",
       "3          8.0\n",
       "4          5.0\n",
       "          ... \n",
       "235254     9.0\n",
       "235255    11.0\n",
       "235256    12.0\n",
       "235257     9.0\n",
       "235258     9.0\n",
       "Name: 14, Length: 235259, dtype: float64"
      ]
     },
     "execution_count": 50,
     "metadata": {},
     "output_type": "execute_result"
    }
   ],
   "source": [
    "X_val[14]"
   ]
  },
  {
   "cell_type": "code",
   "execution_count": 51,
   "metadata": {},
   "outputs": [
    {
     "data": {
      "text/plain": [
       "0         45.0\n",
       "1         76.0\n",
       "2         73.0\n",
       "3         54.0\n",
       "4         36.0\n",
       "          ... \n",
       "235254    36.0\n",
       "235255    58.0\n",
       "235256    61.0\n",
       "235257    42.0\n",
       "235258    36.0\n",
       "Name: 127, Length: 235259, dtype: float64"
      ]
     },
     "execution_count": 51,
     "metadata": {},
     "output_type": "execute_result"
    }
   ],
   "source": [
    "X_val[127]"
   ]
  },
  {
   "cell_type": "code",
   "execution_count": 104,
   "metadata": {},
   "outputs": [
    {
     "name": "stdout",
     "output_type": "stream",
     "text": [
      "20\n",
      "[LightGBM] [Info] Auto-choosing row-wise multi-threading, the overhead of testing was 0.021257 seconds.\n",
      "You can set `force_row_wise=true` to remove the overhead.\n",
      "And if memory is not enough, you can set `force_col_wise=true`.\n",
      "[LightGBM] [Info] Total Bins 8926\n",
      "[LightGBM] [Info] Number of data points in the train set: 723412, number of used features: 48\n",
      "[1]\tvalid_0's ndcg@10: 0.32939\n",
      "[2]\tvalid_0's ndcg@10: 0.354588\n",
      "[3]\tvalid_0's ndcg@10: 0.36559\n"
     ]
    },
    {
     "name": "stderr",
     "output_type": "stream",
     "text": [
      "c:\\Users\\erika\\.pyenv\\pyenv-win\\versions\\3.9.0\\lib\\site-packages\\lightgbm\\callback.py:329: UserWarning: Early stopping is not available in dart mode\n",
      "  _log_warning(\"Early stopping is not available in dart mode\")\n"
     ]
    },
    {
     "name": "stdout",
     "output_type": "stream",
     "text": [
      "[4]\tvalid_0's ndcg@10: 0.371243\n",
      "[5]\tvalid_0's ndcg@10: 0.374331\n",
      "[6]\tvalid_0's ndcg@10: 0.375234\n",
      "[7]\tvalid_0's ndcg@10: 0.380259\n",
      "[8]\tvalid_0's ndcg@10: 0.380771\n",
      "[9]\tvalid_0's ndcg@10: 0.381503\n",
      "[10]\tvalid_0's ndcg@10: 0.382654\n",
      "[11]\tvalid_0's ndcg@10: 0.386328\n",
      "[12]\tvalid_0's ndcg@10: 0.385614\n",
      "[13]\tvalid_0's ndcg@10: 0.387128\n",
      "[14]\tvalid_0's ndcg@10: 0.388463\n",
      "[15]\tvalid_0's ndcg@10: 0.3888\n",
      "[16]\tvalid_0's ndcg@10: 0.389785\n",
      "[17]\tvalid_0's ndcg@10: 0.390234\n",
      "[18]\tvalid_0's ndcg@10: 0.391138\n",
      "[19]\tvalid_0's ndcg@10: 0.392645\n",
      "[20]\tvalid_0's ndcg@10: 0.392216\n",
      "[21]\tvalid_0's ndcg@10: 0.392939\n",
      "[22]\tvalid_0's ndcg@10: 0.393621\n",
      "[23]\tvalid_0's ndcg@10: 0.393284\n",
      "[24]\tvalid_0's ndcg@10: 0.393899\n",
      "[25]\tvalid_0's ndcg@10: 0.394014\n",
      "[26]\tvalid_0's ndcg@10: 0.395067\n",
      "[27]\tvalid_0's ndcg@10: 0.395799\n",
      "[28]\tvalid_0's ndcg@10: 0.396006\n",
      "[29]\tvalid_0's ndcg@10: 0.397242\n",
      "[30]\tvalid_0's ndcg@10: 0.397828\n",
      "[31]\tvalid_0's ndcg@10: 0.398383\n",
      "[32]\tvalid_0's ndcg@10: 0.397846\n",
      "[33]\tvalid_0's ndcg@10: 0.39862\n",
      "[34]\tvalid_0's ndcg@10: 0.399281\n",
      "[35]\tvalid_0's ndcg@10: 0.398907\n",
      "[36]\tvalid_0's ndcg@10: 0.399057\n",
      "[37]\tvalid_0's ndcg@10: 0.399278\n",
      "[38]\tvalid_0's ndcg@10: 0.399288\n",
      "[39]\tvalid_0's ndcg@10: 0.3994\n",
      "[40]\tvalid_0's ndcg@10: 0.399583\n",
      "[41]\tvalid_0's ndcg@10: 0.39957\n",
      "[42]\tvalid_0's ndcg@10: 0.399839\n",
      "[43]\tvalid_0's ndcg@10: 0.399762\n",
      "[44]\tvalid_0's ndcg@10: 0.400405\n",
      "[45]\tvalid_0's ndcg@10: 0.400091\n",
      "[46]\tvalid_0's ndcg@10: 0.400467\n",
      "[47]\tvalid_0's ndcg@10: 0.400716\n",
      "[48]\tvalid_0's ndcg@10: 0.400582\n",
      "[49]\tvalid_0's ndcg@10: 0.400307\n",
      "[50]\tvalid_0's ndcg@10: 0.400782\n",
      "[51]\tvalid_0's ndcg@10: 0.400734\n",
      "[52]\tvalid_0's ndcg@10: 0.401272\n",
      "[53]\tvalid_0's ndcg@10: 0.401629\n",
      "[54]\tvalid_0's ndcg@10: 0.401341\n",
      "[55]\tvalid_0's ndcg@10: 0.401592\n",
      "[56]\tvalid_0's ndcg@10: 0.401629\n",
      "[57]\tvalid_0's ndcg@10: 0.400656\n",
      "[58]\tvalid_0's ndcg@10: 0.400757\n"
     ]
    },
    {
     "ename": "KeyboardInterrupt",
     "evalue": "",
     "output_type": "error",
     "traceback": [
      "\u001b[1;31m---------------------------------------------------------------------------\u001b[0m",
      "\u001b[1;31mKeyboardInterrupt\u001b[0m                         Traceback (most recent call last)",
      "Cell \u001b[1;32mIn[104], line 19\u001b[0m\n\u001b[0;32m      8\u001b[0m \u001b[38;5;66;03m# Train the LightGBM model\u001b[39;00m\n\u001b[0;32m      9\u001b[0m lgb_ranker \u001b[38;5;241m=\u001b[39m lgb\u001b[38;5;241m.\u001b[39mLGBMRanker(\n\u001b[0;32m     10\u001b[0m     objective\u001b[38;5;241m=\u001b[39m\u001b[38;5;124m'\u001b[39m\u001b[38;5;124mlambdarank\u001b[39m\u001b[38;5;124m'\u001b[39m,\n\u001b[0;32m     11\u001b[0m     boosting_type\u001b[38;5;241m=\u001b[39m\u001b[38;5;124m'\u001b[39m\u001b[38;5;124mdart\u001b[39m\u001b[38;5;124m'\u001b[39m, \u001b[38;5;66;03m# enhancement of gradient boosting decision tree\u001b[39;00m\n\u001b[1;32m   (...)\u001b[0m\n\u001b[0;32m     16\u001b[0m     \n\u001b[0;32m     17\u001b[0m )\n\u001b[1;32m---> 19\u001b[0m \u001b[43mlgb_ranker\u001b[49m\u001b[38;5;241;43m.\u001b[39;49m\u001b[43mfit\u001b[49m\u001b[43m(\u001b[49m\n\u001b[0;32m     20\u001b[0m \u001b[43m    \u001b[49m\u001b[43mX_train\u001b[49m\u001b[43m,\u001b[49m\u001b[43m \u001b[49m\u001b[43my_train\u001b[49m\u001b[43m,\u001b[49m\n\u001b[0;32m     21\u001b[0m \u001b[43m    \u001b[49m\u001b[43mgroup\u001b[49m\u001b[38;5;241;43m=\u001b[39;49m\u001b[43mgroup_train\u001b[49m\u001b[43m,\u001b[49m\n\u001b[0;32m     22\u001b[0m \u001b[43m    \u001b[49m\u001b[43meval_set\u001b[49m\u001b[38;5;241;43m=\u001b[39;49m\u001b[43m[\u001b[49m\u001b[43m(\u001b[49m\u001b[43mX_test\u001b[49m\u001b[43m,\u001b[49m\u001b[43m \u001b[49m\u001b[43my_test\u001b[49m\u001b[43m)\u001b[49m\u001b[43m]\u001b[49m\u001b[43m,\u001b[49m\n\u001b[0;32m     23\u001b[0m \u001b[43m    \u001b[49m\u001b[43meval_group\u001b[49m\u001b[38;5;241;43m=\u001b[39;49m\u001b[43m[\u001b[49m\u001b[43mgroup_test\u001b[49m\u001b[43m]\u001b[49m\u001b[43m,\u001b[49m\n\u001b[0;32m     24\u001b[0m \u001b[43m    \u001b[49m\u001b[43meval_at\u001b[49m\u001b[38;5;241;43m=\u001b[39;49m\u001b[43m[\u001b[49m\u001b[38;5;241;43m10\u001b[39;49m\u001b[43m]\u001b[49m\u001b[43m,\u001b[49m\n\u001b[0;32m     25\u001b[0m \u001b[43m    \u001b[49m\u001b[43mcallbacks\u001b[49m\u001b[38;5;241;43m=\u001b[39;49m\u001b[43m[\u001b[49m\n\u001b[0;32m     26\u001b[0m \u001b[43m        \u001b[49m\u001b[43mlgb\u001b[49m\u001b[38;5;241;43m.\u001b[39;49m\u001b[43mearly_stopping\u001b[49m\u001b[43m(\u001b[49m\u001b[43mstopping_rounds\u001b[49m\u001b[38;5;241;43m=\u001b[39;49m\u001b[38;5;241;43m50\u001b[39;49m\u001b[43m)\u001b[49m\u001b[43m,\u001b[49m\u001b[43m \u001b[49m\u001b[38;5;66;43;03m# early stopping not available with dart,\u001b[39;49;00m\n\u001b[0;32m     27\u001b[0m \u001b[43m        \u001b[49m\u001b[43mlgb\u001b[49m\u001b[38;5;241;43m.\u001b[39;49m\u001b[43mlog_evaluation\u001b[49m\u001b[43m(\u001b[49m\u001b[43mperiod\u001b[49m\u001b[38;5;241;43m=\u001b[39;49m\u001b[38;5;241;43m1\u001b[39;49m\u001b[43m,\u001b[49m\u001b[43m \u001b[49m\u001b[43mshow_stdv\u001b[49m\u001b[38;5;241;43m=\u001b[39;49m\u001b[38;5;28;43;01mTrue\u001b[39;49;00m\u001b[43m)\u001b[49m\u001b[43m,\u001b[49m\u001b[43m  \u001b[49m\u001b[38;5;66;43;03m# Log evaluation results\u001b[39;49;00m\n\u001b[0;32m     28\u001b[0m \u001b[43m    \u001b[49m\u001b[43m]\u001b[49m\n\u001b[0;32m     29\u001b[0m \u001b[43m)\u001b[49m\n",
      "File \u001b[1;32mc:\\Users\\erika\\.pyenv\\pyenv-win\\versions\\3.9.0\\lib\\site-packages\\lightgbm\\sklearn.py:1432\u001b[0m, in \u001b[0;36mLGBMRanker.fit\u001b[1;34m(self, X, y, sample_weight, init_score, group, eval_set, eval_names, eval_sample_weight, eval_init_score, eval_group, eval_metric, eval_at, feature_name, categorical_feature, callbacks, init_model)\u001b[0m\n\u001b[0;32m   1426\u001b[0m         \u001b[38;5;28;01mraise\u001b[39;00m \u001b[38;5;167;01mValueError\u001b[39;00m(\n\u001b[0;32m   1427\u001b[0m             \u001b[38;5;124m\"\u001b[39m\u001b[38;5;124mShould set group for all eval datasets for ranking task; \u001b[39m\u001b[38;5;124m\"\u001b[39m\n\u001b[0;32m   1428\u001b[0m             \u001b[38;5;124m\"\u001b[39m\u001b[38;5;124mif you use dict, the index should start from 0\u001b[39m\u001b[38;5;124m\"\u001b[39m\n\u001b[0;32m   1429\u001b[0m         )\n\u001b[0;32m   1431\u001b[0m \u001b[38;5;28mself\u001b[39m\u001b[38;5;241m.\u001b[39m_eval_at \u001b[38;5;241m=\u001b[39m eval_at\n\u001b[1;32m-> 1432\u001b[0m \u001b[38;5;28;43msuper\u001b[39;49m\u001b[43m(\u001b[49m\u001b[43m)\u001b[49m\u001b[38;5;241;43m.\u001b[39;49m\u001b[43mfit\u001b[49m\u001b[43m(\u001b[49m\n\u001b[0;32m   1433\u001b[0m \u001b[43m    \u001b[49m\u001b[43mX\u001b[49m\u001b[43m,\u001b[49m\n\u001b[0;32m   1434\u001b[0m \u001b[43m    \u001b[49m\u001b[43my\u001b[49m\u001b[43m,\u001b[49m\n\u001b[0;32m   1435\u001b[0m \u001b[43m    \u001b[49m\u001b[43msample_weight\u001b[49m\u001b[38;5;241;43m=\u001b[39;49m\u001b[43msample_weight\u001b[49m\u001b[43m,\u001b[49m\n\u001b[0;32m   1436\u001b[0m \u001b[43m    \u001b[49m\u001b[43minit_score\u001b[49m\u001b[38;5;241;43m=\u001b[39;49m\u001b[43minit_score\u001b[49m\u001b[43m,\u001b[49m\n\u001b[0;32m   1437\u001b[0m \u001b[43m    \u001b[49m\u001b[43mgroup\u001b[49m\u001b[38;5;241;43m=\u001b[39;49m\u001b[43mgroup\u001b[49m\u001b[43m,\u001b[49m\n\u001b[0;32m   1438\u001b[0m \u001b[43m    \u001b[49m\u001b[43meval_set\u001b[49m\u001b[38;5;241;43m=\u001b[39;49m\u001b[43meval_set\u001b[49m\u001b[43m,\u001b[49m\n\u001b[0;32m   1439\u001b[0m \u001b[43m    \u001b[49m\u001b[43meval_names\u001b[49m\u001b[38;5;241;43m=\u001b[39;49m\u001b[43meval_names\u001b[49m\u001b[43m,\u001b[49m\n\u001b[0;32m   1440\u001b[0m \u001b[43m    \u001b[49m\u001b[43meval_sample_weight\u001b[49m\u001b[38;5;241;43m=\u001b[39;49m\u001b[43meval_sample_weight\u001b[49m\u001b[43m,\u001b[49m\n\u001b[0;32m   1441\u001b[0m \u001b[43m    \u001b[49m\u001b[43meval_init_score\u001b[49m\u001b[38;5;241;43m=\u001b[39;49m\u001b[43meval_init_score\u001b[49m\u001b[43m,\u001b[49m\n\u001b[0;32m   1442\u001b[0m \u001b[43m    \u001b[49m\u001b[43meval_group\u001b[49m\u001b[38;5;241;43m=\u001b[39;49m\u001b[43meval_group\u001b[49m\u001b[43m,\u001b[49m\n\u001b[0;32m   1443\u001b[0m \u001b[43m    \u001b[49m\u001b[43meval_metric\u001b[49m\u001b[38;5;241;43m=\u001b[39;49m\u001b[43meval_metric\u001b[49m\u001b[43m,\u001b[49m\n\u001b[0;32m   1444\u001b[0m \u001b[43m    \u001b[49m\u001b[43mfeature_name\u001b[49m\u001b[38;5;241;43m=\u001b[39;49m\u001b[43mfeature_name\u001b[49m\u001b[43m,\u001b[49m\n\u001b[0;32m   1445\u001b[0m \u001b[43m    \u001b[49m\u001b[43mcategorical_feature\u001b[49m\u001b[38;5;241;43m=\u001b[39;49m\u001b[43mcategorical_feature\u001b[49m\u001b[43m,\u001b[49m\n\u001b[0;32m   1446\u001b[0m \u001b[43m    \u001b[49m\u001b[43mcallbacks\u001b[49m\u001b[38;5;241;43m=\u001b[39;49m\u001b[43mcallbacks\u001b[49m\u001b[43m,\u001b[49m\n\u001b[0;32m   1447\u001b[0m \u001b[43m    \u001b[49m\u001b[43minit_model\u001b[49m\u001b[38;5;241;43m=\u001b[39;49m\u001b[43minit_model\u001b[49m\u001b[43m,\u001b[49m\n\u001b[0;32m   1448\u001b[0m \u001b[43m\u001b[49m\u001b[43m)\u001b[49m\n\u001b[0;32m   1449\u001b[0m \u001b[38;5;28;01mreturn\u001b[39;00m \u001b[38;5;28mself\u001b[39m\n",
      "File \u001b[1;32mc:\\Users\\erika\\.pyenv\\pyenv-win\\versions\\3.9.0\\lib\\site-packages\\lightgbm\\sklearn.py:954\u001b[0m, in \u001b[0;36mLGBMModel.fit\u001b[1;34m(self, X, y, sample_weight, init_score, group, eval_set, eval_names, eval_sample_weight, eval_class_weight, eval_init_score, eval_group, eval_metric, feature_name, categorical_feature, callbacks, init_model)\u001b[0m\n\u001b[0;32m    951\u001b[0m evals_result: _EvalResultDict \u001b[38;5;241m=\u001b[39m {}\n\u001b[0;32m    952\u001b[0m callbacks\u001b[38;5;241m.\u001b[39mappend(record_evaluation(evals_result))\n\u001b[1;32m--> 954\u001b[0m \u001b[38;5;28mself\u001b[39m\u001b[38;5;241m.\u001b[39m_Booster \u001b[38;5;241m=\u001b[39m \u001b[43mtrain\u001b[49m\u001b[43m(\u001b[49m\n\u001b[0;32m    955\u001b[0m \u001b[43m    \u001b[49m\u001b[43mparams\u001b[49m\u001b[38;5;241;43m=\u001b[39;49m\u001b[43mparams\u001b[49m\u001b[43m,\u001b[49m\n\u001b[0;32m    956\u001b[0m \u001b[43m    \u001b[49m\u001b[43mtrain_set\u001b[49m\u001b[38;5;241;43m=\u001b[39;49m\u001b[43mtrain_set\u001b[49m\u001b[43m,\u001b[49m\n\u001b[0;32m    957\u001b[0m \u001b[43m    \u001b[49m\u001b[43mnum_boost_round\u001b[49m\u001b[38;5;241;43m=\u001b[39;49m\u001b[38;5;28;43mself\u001b[39;49m\u001b[38;5;241;43m.\u001b[39;49m\u001b[43mn_estimators\u001b[49m\u001b[43m,\u001b[49m\n\u001b[0;32m    958\u001b[0m \u001b[43m    \u001b[49m\u001b[43mvalid_sets\u001b[49m\u001b[38;5;241;43m=\u001b[39;49m\u001b[43mvalid_sets\u001b[49m\u001b[43m,\u001b[49m\n\u001b[0;32m    959\u001b[0m \u001b[43m    \u001b[49m\u001b[43mvalid_names\u001b[49m\u001b[38;5;241;43m=\u001b[39;49m\u001b[43meval_names\u001b[49m\u001b[43m,\u001b[49m\n\u001b[0;32m    960\u001b[0m \u001b[43m    \u001b[49m\u001b[43mfeval\u001b[49m\u001b[38;5;241;43m=\u001b[39;49m\u001b[43meval_metrics_callable\u001b[49m\u001b[43m,\u001b[49m\u001b[43m  \u001b[49m\u001b[38;5;66;43;03m# type: ignore[arg-type]\u001b[39;49;00m\n\u001b[0;32m    961\u001b[0m \u001b[43m    \u001b[49m\u001b[43minit_model\u001b[49m\u001b[38;5;241;43m=\u001b[39;49m\u001b[43minit_model\u001b[49m\u001b[43m,\u001b[49m\n\u001b[0;32m    962\u001b[0m \u001b[43m    \u001b[49m\u001b[43mcallbacks\u001b[49m\u001b[38;5;241;43m=\u001b[39;49m\u001b[43mcallbacks\u001b[49m\u001b[43m,\u001b[49m\n\u001b[0;32m    963\u001b[0m \u001b[43m\u001b[49m\u001b[43m)\u001b[49m\n\u001b[0;32m    965\u001b[0m \u001b[38;5;28mself\u001b[39m\u001b[38;5;241m.\u001b[39m_evals_result \u001b[38;5;241m=\u001b[39m evals_result\n\u001b[0;32m    966\u001b[0m \u001b[38;5;28mself\u001b[39m\u001b[38;5;241m.\u001b[39m_best_iteration \u001b[38;5;241m=\u001b[39m \u001b[38;5;28mself\u001b[39m\u001b[38;5;241m.\u001b[39m_Booster\u001b[38;5;241m.\u001b[39mbest_iteration\n",
      "File \u001b[1;32mc:\\Users\\erika\\.pyenv\\pyenv-win\\versions\\3.9.0\\lib\\site-packages\\lightgbm\\engine.py:307\u001b[0m, in \u001b[0;36mtrain\u001b[1;34m(params, train_set, num_boost_round, valid_sets, valid_names, feval, init_model, feature_name, categorical_feature, keep_training_booster, callbacks)\u001b[0m\n\u001b[0;32m    295\u001b[0m \u001b[38;5;28;01mfor\u001b[39;00m cb \u001b[38;5;129;01min\u001b[39;00m callbacks_before_iter:\n\u001b[0;32m    296\u001b[0m     cb(\n\u001b[0;32m    297\u001b[0m         callback\u001b[38;5;241m.\u001b[39mCallbackEnv(\n\u001b[0;32m    298\u001b[0m             model\u001b[38;5;241m=\u001b[39mbooster,\n\u001b[1;32m   (...)\u001b[0m\n\u001b[0;32m    304\u001b[0m         )\n\u001b[0;32m    305\u001b[0m     )\n\u001b[1;32m--> 307\u001b[0m \u001b[43mbooster\u001b[49m\u001b[38;5;241;43m.\u001b[39;49m\u001b[43mupdate\u001b[49m\u001b[43m(\u001b[49m\u001b[43mfobj\u001b[49m\u001b[38;5;241;43m=\u001b[39;49m\u001b[43mfobj\u001b[49m\u001b[43m)\u001b[49m\n\u001b[0;32m    309\u001b[0m evaluation_result_list: List[_LGBM_BoosterEvalMethodResultType] \u001b[38;5;241m=\u001b[39m []\n\u001b[0;32m    310\u001b[0m \u001b[38;5;66;03m# check evaluation result.\u001b[39;00m\n",
      "File \u001b[1;32mc:\\Users\\erika\\.pyenv\\pyenv-win\\versions\\3.9.0\\lib\\site-packages\\lightgbm\\basic.py:4126\u001b[0m, in \u001b[0;36mBooster.update\u001b[1;34m(self, train_set, fobj)\u001b[0m\n\u001b[0;32m   4123\u001b[0m \u001b[38;5;28;01mif\u001b[39;00m \u001b[38;5;28mself\u001b[39m\u001b[38;5;241m.\u001b[39m__set_objective_to_none:\n\u001b[0;32m   4124\u001b[0m     \u001b[38;5;28;01mraise\u001b[39;00m LightGBMError(\u001b[38;5;124m\"\u001b[39m\u001b[38;5;124mCannot update due to null objective function.\u001b[39m\u001b[38;5;124m\"\u001b[39m)\n\u001b[0;32m   4125\u001b[0m _safe_call(\n\u001b[1;32m-> 4126\u001b[0m     \u001b[43m_LIB\u001b[49m\u001b[38;5;241;43m.\u001b[39;49m\u001b[43mLGBM_BoosterUpdateOneIter\u001b[49m\u001b[43m(\u001b[49m\n\u001b[0;32m   4127\u001b[0m \u001b[43m        \u001b[49m\u001b[38;5;28;43mself\u001b[39;49m\u001b[38;5;241;43m.\u001b[39;49m\u001b[43m_handle\u001b[49m\u001b[43m,\u001b[49m\n\u001b[0;32m   4128\u001b[0m \u001b[43m        \u001b[49m\u001b[43mctypes\u001b[49m\u001b[38;5;241;43m.\u001b[39;49m\u001b[43mbyref\u001b[49m\u001b[43m(\u001b[49m\u001b[43mis_finished\u001b[49m\u001b[43m)\u001b[49m\u001b[43m,\u001b[49m\n\u001b[0;32m   4129\u001b[0m \u001b[43m    \u001b[49m\u001b[43m)\u001b[49m\n\u001b[0;32m   4130\u001b[0m )\n\u001b[0;32m   4131\u001b[0m \u001b[38;5;28mself\u001b[39m\u001b[38;5;241m.\u001b[39m__is_predicted_cur_iter \u001b[38;5;241m=\u001b[39m [\u001b[38;5;28;01mFalse\u001b[39;00m \u001b[38;5;28;01mfor\u001b[39;00m _ \u001b[38;5;129;01min\u001b[39;00m \u001b[38;5;28mrange\u001b[39m(\u001b[38;5;28mself\u001b[39m\u001b[38;5;241m.\u001b[39m__num_dataset)]\n\u001b[0;32m   4132\u001b[0m \u001b[38;5;28;01mreturn\u001b[39;00m is_finished\u001b[38;5;241m.\u001b[39mvalue \u001b[38;5;241m==\u001b[39m \u001b[38;5;241m1\u001b[39m\n",
      "\u001b[1;31mKeyboardInterrupt\u001b[0m: "
     ]
    }
   ],
   "source": [
    "from multiprocessing import cpu_count\n",
    "import lightgbm as lgb\n",
    "import tqdm\n",
    "cpu_count = cpu_count()\n",
    "print(cpu_count)\n",
    "total_boost_round = 1000\n",
    "\n",
    "# Train the LightGBM model\n",
    "lgb_ranker = lgb.LGBMRanker(\n",
    "    objective='lambdarank',\n",
    "    boosting_type='dart', # enhancement of gradient boosting decision tree\n",
    "    num_leaves=31,\n",
    "    learning_rate=0.05,\n",
    "    n_estimators=total_boost_round,  # Maximum number of boosting rounds; epochs\n",
    "    n_jobs=cpu_count\n",
    "    \n",
    ")\n",
    "\n",
    "lgb_ranker.fit(\n",
    "    X_train, y_train,\n",
    "    group=group_train,\n",
    "    eval_set=[(X_test, y_test)],\n",
    "    eval_group=[group_test],\n",
    "    eval_at=[10],\n",
    "    callbacks=[\n",
    "        lgb.early_stopping(stopping_rounds=50), # early stopping not available with dart,\n",
    "        lgb.log_evaluation(period=1, show_stdv=True),  # Log evaluation results\n",
    "    ]\n",
    ")"
   ]
  },
  {
   "cell_type": "code",
   "execution_count": null,
   "metadata": {},
   "outputs": [],
   "source": [
    "# Predict relevance scores for the test set\n",
    "y_pred = lgb_ranker.predict(X_val, pred_contrib=True)"
   ]
  },
  {
   "cell_type": "code",
   "execution_count": null,
   "metadata": {},
   "outputs": [
    {
     "name": "stdout",
     "output_type": "stream",
     "text": [
      "   Unnamed: 0         1         4         5         6         9        10  \\\n",
      "0           0 -0.054033  0.000107 -0.006830  0.100243 -0.013155  0.008991   \n",
      "1           1  0.022449  0.004343 -0.000502  0.112198  0.071568  0.011986   \n",
      "2           2 -0.015280 -0.000075 -0.003388 -0.032585 -0.004236  0.004560   \n",
      "3           3 -0.042986 -0.000001 -0.004402 -0.109738 -0.013113  0.006975   \n",
      "4           4 -0.012143 -0.000033  0.004788 -0.034025 -0.003830  0.004854   \n",
      "\n",
      "         11        14        15  ...        91        94        95       106  \\\n",
      "0 -0.172520 -0.076436 -0.126598  ...  0.007750 -0.001333 -0.008869  0.015197   \n",
      "1  0.454581 -0.053024  0.168211  ...  0.001042  0.013087  0.036831  0.016810   \n",
      "2 -0.032725 -0.098763 -0.014974  ... -0.002238 -0.002435  0.012904 -0.011863   \n",
      "3 -0.070174 -0.092451 -0.022752  ... -0.003590 -0.001406  0.023206 -0.003629   \n",
      "4  0.175237 -0.014907  0.222876  ... -0.000446 -0.004227  0.022978 -0.017126   \n",
      "\n",
      "        109       110       126       127       129      bias  \n",
      "0 -0.044627 -0.121336 -0.004924 -0.065655 -0.132606 -0.668248  \n",
      "1  0.196451  0.028329 -0.040722 -0.193183 -0.128647 -0.668248  \n",
      "2 -0.049633  0.034064 -0.008331 -0.092716  0.135801 -0.668248  \n",
      "3 -0.035307 -0.003623  0.008414 -0.118474 -0.124949 -0.668248  \n",
      "4 -0.027677  0.040823  0.039470 -0.045015 -0.167464 -0.668248  \n",
      "\n",
      "[5 rows x 50 columns]\n"
     ]
    }
   ],
   "source": [
    "import pandas as pd\n",
    "# Convert SHAP values to a DataFrame for easier interpretation\n",
    "shap_df = pd.read_csv(\"shap.csv\")\n",
    "\n",
    "# Print the first few rows of the SHAP values DataFrame\n",
    "print(shap_df.head())"
   ]
  },
  {
   "cell_type": "code",
   "execution_count": null,
   "metadata": {},
   "outputs": [
    {
     "data": {
      "image/png": "[encoded data removed]",
      "text/plain": [
       "<Figure size 800x950 with 1 Axes>"
      ]
     },
     "metadata": {},
     "output_type": "display_data"
    }
   ],
   "source": [
    "import shap\n",
    "shap_values_no_bias = shap_df.drop(columns=[\"bias\", \"Unnamed: 0\"])\n",
    "shap_values = shap_values_no_bias.values\n",
    "\n",
    "# Summary plot\n",
    "shap.summary_plot(shap_values, feature_names=shap_values_no_bias.columns)"
   ]
  },
  {
   "cell_type": "code",
   "execution_count": null,
   "metadata": {},
   "outputs": [
    {
     "name": "stdout",
     "output_type": "stream",
     "text": [
      "Requirement already satisfied: shap in c:\\users\\erika\\.pyenv\\pyenv-win\\versions\\3.9.0\\lib\\site-packages (0.46.0)\n",
      "Requirement already satisfied: scipy in c:\\users\\erika\\.pyenv\\pyenv-win\\versions\\3.9.0\\lib\\site-packages (from shap) (1.13.1)\n",
      "Requirement already satisfied: scikit-learn in c:\\users\\erika\\.pyenv\\pyenv-win\\versions\\3.9.0\\lib\\site-packages (from shap) (1.5.1)\n",
      "Requirement already satisfied: tqdm>=4.27.0 in c:\\users\\erika\\.pyenv\\pyenv-win\\versions\\3.9.0\\lib\\site-packages (from shap) (4.66.4)\n",
      "Requirement already satisfied: numpy in c:\\users\\erika\\.pyenv\\pyenv-win\\versions\\3.9.0\\lib\\site-packages (from shap) (2.0.0)\n",
      "Requirement already satisfied: slicer==0.0.8 in c:\\users\\erika\\.pyenv\\pyenv-win\\versions\\3.9.0\\lib\\site-packages (from shap) (0.0.8)\n",
      "Requirement already satisfied: numba in c:\\users\\erika\\.pyenv\\pyenv-win\\versions\\3.9.0\\lib\\site-packages (from shap) (0.60.0)\n",
      "Requirement already satisfied: packaging>20.9 in c:\\users\\erika\\.pyenv\\pyenv-win\\versions\\3.9.0\\lib\\site-packages (from shap) (24.1)\n",
      "Requirement already satisfied: pandas in c:\\users\\erika\\.pyenv\\pyenv-win\\versions\\3.9.0\\lib\\site-packages (from shap) (2.2.2)\n",
      "Requirement already satisfied: cloudpickle in c:\\users\\erika\\.pyenv\\pyenv-win\\versions\\3.9.0\\lib\\site-packages (from shap) (3.0.0)\n",
      "Requirement already satisfied: joblib>=1.2.0 in c:\\users\\erika\\.pyenv\\pyenv-win\\versions\\3.9.0\\lib\\site-packages (from scikit-learn->shap) (1.4.2)\n",
      "Requirement already satisfied: threadpoolctl>=3.1.0 in c:\\users\\erika\\.pyenv\\pyenv-win\\versions\\3.9.0\\lib\\site-packages (from scikit-learn->shap) (3.5.0)\n",
      "Requirement already satisfied: colorama; platform_system == \"Windows\" in c:\\users\\erika\\.pyenv\\pyenv-win\\versions\\3.9.0\\lib\\site-packages (from tqdm>=4.27.0->shap) (0.4.6)\n",
      "Requirement already satisfied: llvmlite<0.44,>=0.43.0dev0 in c:\\users\\erika\\.pyenv\\pyenv-win\\versions\\3.9.0\\lib\\site-packages (from numba->shap) (0.43.0)\n",
      "Requirement already satisfied: pytz>=2020.1 in c:\\users\\erika\\.pyenv\\pyenv-win\\versions\\3.9.0\\lib\\site-packages (from pandas->shap) (2024.1)\n",
      "Requirement already satisfied: tzdata>=2022.7 in c:\\users\\erika\\.pyenv\\pyenv-win\\versions\\3.9.0\\lib\\site-packages (from pandas->shap) (2024.1)\n",
      "Requirement already satisfied: python-dateutil>=2.8.2 in c:\\users\\erika\\.pyenv\\pyenv-win\\versions\\3.9.0\\lib\\site-packages (from pandas->shap) (2.9.0.post0)\n",
      "Requirement already satisfied: six>=1.5 in c:\\users\\erika\\.pyenv\\pyenv-win\\versions\\3.9.0\\lib\\site-packages (from python-dateutil>=2.8.2->pandas->shap) (1.16.0)\n",
      "Note: you may need to restart the kernel to use updated packages.\n"
     ]
    },
    {
     "name": "stderr",
     "output_type": "stream",
     "text": [
      "WARNING: You are using pip version 20.2.3; however, version 24.1.1 is available.\n",
      "You should consider upgrading via the 'c:\\Users\\erika\\.pyenv\\pyenv-win\\versions\\3.9.0\\python.exe -m pip install --upgrade pip' command.\n"
     ]
    },
    {
     "name": "stdout",
     "output_type": "stream",
     "text": [
      "Collecting matplotlib\n",
      "  Downloading matplotlib-3.9.1-cp39-cp39-win_amd64.whl (8.0 MB)\n",
      "Collecting cycler>=0.10\n",
      "  Downloading cycler-0.12.1-py3-none-any.whl (8.3 kB)\n",
      "Collecting contourpy>=1.0.1\n",
      "  Downloading contourpy-1.2.1-cp39-cp39-win_amd64.whl (182 kB)\n",
      "Collecting fonttools>=4.22.0\n",
      "  Downloading fonttools-4.53.1-cp39-cp39-win_amd64.whl (2.2 MB)\n",
      "Requirement already satisfied: packaging>=20.0 in c:\\users\\erika\\.pyenv\\pyenv-win\\versions\\3.9.0\\lib\\site-packages (from matplotlib) (24.1)\n",
      "Collecting pyparsing>=2.3.1\n",
      "  Downloading pyparsing-3.1.2-py3-none-any.whl (103 kB)\n",
      "Collecting kiwisolver>=1.3.1\n",
      "  Downloading kiwisolver-1.4.5-cp39-cp39-win_amd64.whl (56 kB)\n",
      "Collecting importlib-resources>=3.2.0; python_version < \"3.10\"\n",
      "  Downloading importlib_resources-6.4.0-py3-none-any.whl (38 kB)\n",
      "Requirement already satisfied: numpy>=1.23 in c:\\users\\erika\\.pyenv\\pyenv-win\\versions\\3.9.0\\lib\\site-packages (from matplotlib) (2.0.0)\n",
      "Requirement already satisfied: python-dateutil>=2.7 in c:\\users\\erika\\.pyenv\\pyenv-win\\versions\\3.9.0\\lib\\site-packages (from matplotlib) (2.9.0.post0)\n",
      "Collecting pillow>=8\n",
      "  Downloading pillow-10.4.0-cp39-cp39-win_amd64.whl (2.6 MB)\n",
      "Requirement already satisfied: zipp>=3.1.0; python_version < \"3.10\" in c:\\users\\erika\\.pyenv\\pyenv-win\\versions\\3.9.0\\lib\\site-packages (from importlib-resources>=3.2.0; python_version < \"3.10\"->matplotlib) (3.19.2)\n",
      "Requirement already satisfied: six>=1.5 in c:\\users\\erika\\.pyenv\\pyenv-win\\versions\\3.9.0\\lib\\site-packages (from python-dateutil>=2.7->matplotlib) (1.16.0)\n",
      "Installing collected packages: cycler, contourpy, fonttools, pyparsing, kiwisolver, importlib-resources, pillow, matplotlib\n",
      "Successfully installed contourpy-1.2.1 cycler-0.12.1 fonttools-4.53.1 importlib-resources-6.4.0 kiwisolver-1.4.5 matplotlib-3.9.1 pillow-10.4.0 pyparsing-3.1.2\n",
      "Note: you may need to restart the kernel to use updated packages.\n"
     ]
    },
    {
     "name": "stderr",
     "output_type": "stream",
     "text": [
      "  WARNING: The scripts fonttools.exe, pyftmerge.exe, pyftsubset.exe and ttx.exe are installed in 'c:\\Users\\erika\\.pyenv\\pyenv-win\\versions\\3.9.0\\Scripts' which is not on PATH.\n",
      "  Consider adding this directory to PATH or, if you prefer to suppress this warning, use --no-warn-script-location.\n",
      "WARNING: You are using pip version 20.2.3; however, version 24.1.1 is available.\n",
      "You should consider upgrading via the 'c:\\Users\\erika\\.pyenv\\pyenv-win\\versions\\3.9.0\\python.exe -m pip install --upgrade pip' command.\n"
     ]
    }
   ],
   "source": [
    "%pip install shap\n",
    "%pip install matplotlib"
   ]
  },
  {
   "cell_type": "code",
   "execution_count": null,
   "metadata": {},
   "outputs": [
    {
     "data": {
      "text/plain": [
       "<lightgbm.basic.Booster at 0x1eb259d81c0>"
      ]
     },
     "execution_count": 28,
     "metadata": {},
     "output_type": "execute_result"
    }
   ],
   "source": [
    "# Save the model to a file\n",
    "model_filename = 'lgb_ranker_model1.txt'\n",
    "lgb_ranker.booster_.save_model(model_filename)"
   ]
  }
 ],
 "metadata": {
  "kernelspec": {
   "display_name": "Python 3",
   "language": "python",
   "name": "python3"
  },
  "language_info": {
   "codemirror_mode": {
    "name": "ipython",
    "version": 3
   },
   "file_extension": ".py",
   "mimetype": "text/x-python",
   "name": "python",
   "nbconvert_exporter": "python",
   "pygments_lexer": "ipython3",
   "version": "3.9.0"
  }
 },
 "nbformat": 4,
 "nbformat_minor": 2
}
