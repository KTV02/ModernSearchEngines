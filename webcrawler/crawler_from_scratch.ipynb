{
 "cells": [
  {
   "attachments": {},
   "cell_type": "markdown",
   "metadata": {},
   "source": [
    "# INFO 4271 - Group Project\n",
    "\n",
    "Issued: June 11, 2024\n",
    "\n",
    "Due: July 22, 2024\n",
    "\n",
    "Please submit a link to your code base (ideally with a branch that does not change anymore after the submission deadline) and your 4-page report via email to carsten.eickhoff@uni-tuebingen.de by the due date. One submission per team.\n",
    "\n",
    "---"
   ]
  },
  {
   "attachments": {},
   "cell_type": "markdown",
   "metadata": {},
   "source": [
    "# 1. Web Crawling & Indexing\n",
    "Crawl the web to discover **English content related to Tübingen**. The crawled content should be stored locally. If interrupted, your crawler should be able to re-start and pick up the crawling process at any time."
   ]
  },
  {
   "cell_type": "code",
   "execution_count": 24,
   "metadata": {},
   "outputs": [
    {
     "name": "stdout",
     "output_type": "stream",
     "text": [
      "Inserted 3 URLs into the frontier table\n"
     ]
    },
    {
     "name": "stderr",
     "output_type": "stream",
     "text": [
      "Crawling Progress:   0%|          | 0/126497 [00:00<?, ?page/s]"
     ]
    },
    {
     "name": "stdout",
     "output_type": "stream",
     "text": [
      "Error while fetching response from https://en.wikipedia.org/w/index.php?title=J_Hermann_Siemer&action=edit&redlink=1 (response status 404)\n",
      "Error while fetching response from https://en.wikipedia.org/w/index.php?title=Max_Schulze-Vorberg&action=edit&redlink=1 (response status 404)\n",
      "Error while fetching response from https://en.wikipedia.org/w/index.php?title=Karl_Moersch&action=edit&redlink=1 (response status 404)\n"
     ]
    },
    {
     "name": "stderr",
     "output_type": "stream",
     "text": [
      "Crawling Progress:   0%|          | 1/126497 [00:01<48:10:23,  1.37s/page]"
     ]
    },
    {
     "name": "stdout",
     "output_type": "stream",
     "text": [
      "Error while fetching response from https://en.wikipedia.org/w/index.php?title=Berthold_Martin&action=edit&redlink=1 (response status 404)\n",
      "Error while fetching response from https://en.wikipedia.org/w/index.php?title=Dionys_Jobst&action=edit&redlink=1 (response status 404)\n"
     ]
    },
    {
     "name": "stderr",
     "output_type": "stream",
     "text": [
      "Crawling Progress:   0%|          | 5/126497 [00:02<18:25:22,  1.91page/s]"
     ]
    },
    {
     "name": "stdout",
     "output_type": "stream",
     "text": [
      "Error while fetching response from https://en.wikipedia.org/w/index.php?title=Hans_Katzer&action=edit&redlink=1 (response status 404)\n",
      "Error while fetching response from https://en.wikipedia.org/w/index.php?title=Franz_Xaver_Unertl&action=edit&redlink=1 (response status 404)\n",
      "Error while fetching response from https://en.wikipedia.org/w/index.php?title=Hermann_Oetting&action=edit&redlink=1 (response status 404)\n",
      "Error while fetching response from https://en.wikipedia.org/w/index.php?title=Martin_Horstmeier&action=edit&redlink=1 (response status 404)\n"
     ]
    },
    {
     "name": "stderr",
     "output_type": "stream",
     "text": [
      "Crawling Progress:   0%|          | 9/126497 [00:04<15:18:03,  2.30page/s]"
     ]
    },
    {
     "name": "stdout",
     "output_type": "stream",
     "text": [
      "Error while fetching response from https://en.wikipedia.org/w/index.php?title=Thomas_Ruf&action=edit&redlink=1 (response status 404)\n",
      "Error while fetching response from https://en.wikipedia.org/w/index.php?title=Peter_Petersen_(German_politician)&action=edit&redlink=1 (response status 404)\n",
      "Error while fetching response from https://en.wikipedia.org/w/index.php?title=Paul_Heinrich_Simon&action=edit&redlink=1 (response status 404)\n",
      "Error while fetching response from https://en.wikipedia.org/w/index.php?title=G%C3%BCnther_M%C3%BCller_(politician)&action=edit&redlink=1 (response status 404)\n"
     ]
    },
    {
     "name": "stderr",
     "output_type": "stream",
     "text": [
      "Crawling Progress:   0%|          | 15/126497 [00:05<10:58:46,  3.20page/s]"
     ]
    },
    {
     "name": "stdout",
     "output_type": "stream",
     "text": [
      "Error while fetching response from https://en.wikipedia.org/w/index.php?title=Kurt_Mattick&action=edit&redlink=1 (response status 404)\n"
     ]
    },
    {
     "name": "stderr",
     "output_type": "stream",
     "text": [
      "Crawling Progress:   0%|          | 23/126497 [00:07<9:51:05,  3.57page/s] "
     ]
    },
    {
     "name": "stdout",
     "output_type": "stream",
     "text": [
      "Error while fetching response from https://en.wikipedia.org/w/index.php?title=Philip_Rosenthal_(politician)&action=edit&redlink=1 (response status 404)Error while fetching response from https://en.wikipedia.org/w/index.php?title=Karl_Heinz_Gierenstein&action=edit&redlink=1 (response status 404)\n",
      "\n",
      "Error while fetching response from https://en.wikipedia.org/w/index.php?title=Walter_L%C3%B6hr&action=edit&redlink=1 (response status 404)\n",
      "Error while fetching response from https://en.wikipedia.org/w/index.php?title=Willi_Peiter&action=edit&redlink=1 (response status 404)\n",
      "Error while fetching response from https://en.wikipedia.org/w/index.php?title=Gerhard_Reddemann&action=edit&redlink=1 (response status 404)\n"
     ]
    },
    {
     "name": "stderr",
     "output_type": "stream",
     "text": [
      "Crawling Progress:   0%|          | 30/126497 [00:08<8:46:30,  4.00page/s]"
     ]
    },
    {
     "name": "stdout",
     "output_type": "stream",
     "text": [
      "Error while fetching response from https://en.wikipedia.org/w/index.php?title=Alois_Rainer_(politician,_born_1921)&action=edit&redlink=1 (response status 404)Error while fetching response from https://en.wikipedia.org/w/index.php?title=Hermann_Barche&action=edit&redlink=1 (response status 404)\n",
      "\n",
      "Error while fetching response from https://en.wikipedia.org/w/index.php?title=Leo_Gottesleben&action=edit&redlink=1 (response status 404)Error while fetching response from https://en.wikipedia.org/w/index.php?title=Friedrich_Vogel_(politician)&action=edit&redlink=1 (response status 404)\n",
      "\n",
      "Error while fetching response from https://en.wikipedia.org/w/index.php?title=Paul_L%C3%B6her&action=edit&redlink=1 (response status 404)\n"
     ]
    },
    {
     "name": "stderr",
     "output_type": "stream",
     "text": [
      "Crawling Progress:   0%|          | 34/126497 [00:10<10:05:14,  3.48page/s]"
     ]
    },
    {
     "name": "stdout",
     "output_type": "stream",
     "text": [
      "Error while fetching response from https://en.wikipedia.org/w/index.php?title=Hans_H%C3%B6rmann&action=edit&redlink=1 (response status 404)\n",
      "Error while fetching response from https://en.wikipedia.org/w/index.php?title=Dietrich_Rollmann&action=edit&redlink=1 (response status 404)\n",
      "Error while fetching response from https://en.wikipedia.org/w/index.php?title=Rudolf_Hauck&action=edit&redlink=1 (response status 404)\n"
     ]
    },
    {
     "name": "stderr",
     "output_type": "stream",
     "text": [
      "Crawling Progress:   0%|          | 40/126497 [00:16<19:52:12,  1.77page/s]"
     ]
    },
    {
     "name": "stdout",
     "output_type": "stream",
     "text": [
      "Error while fetching response from https://en.wikipedia.org/w/index.php?title=Otto_Menth&action=edit&redlink=1 (response status 404)\n",
      "Error while fetching response from https://en.wikipedia.org/w/index.php?title=Heinrich_Schr%C3%B6der_(politician)&action=edit&redlink=1 (response status 404)\n",
      "Error while fetching response from https://en.wikipedia.org/w/index.php?title=G%C3%BCnter_Schlichting-von_R%C3%B6nn&action=edit&redlink=1 (response status 404)\n"
     ]
    },
    {
     "name": "stderr",
     "output_type": "stream",
     "text": [
      "Crawling Progress:   0%|          | 45/126497 [00:19<20:28:53,  1.71page/s]"
     ]
    },
    {
     "name": "stdout",
     "output_type": "stream",
     "text": [
      "Error while fetching response from https://en.wikipedia.org/w/index.php?title=Karl-Heinz_Walkhoff&action=edit&redlink=1 (response status 404)\n",
      "Error while fetching response from https://en.wikipedia.org/w/index.php?title=Josef_Schmitt_(politician)&action=edit&redlink=1 (response status 404)\n",
      "Error while fetching response from https://en.wikipedia.org/w/index.php?title=Karl_Krammig&action=edit&redlink=1 (response status 404)\n",
      "Error while fetching response from https://en.wikipedia.org/w/index.php?title=Friedrich_Freiwald&action=edit&redlink=1 (response status 404)\n"
     ]
    },
    {
     "name": "stderr",
     "output_type": "stream",
     "text": [
      "Crawling Progress:   0%|          | 58/126497 [00:23<14:58:23,  2.35page/s]"
     ]
    },
    {
     "name": "stdout",
     "output_type": "stream",
     "text": [
      "Error while fetching response from https://en.wikipedia.org/w/index.php?title=Alexander_Menne&action=edit&redlink=1 (response status 404)Error while fetching response from http://www.wzb.eu/bal/spt/default.de.htm (response status 404)\n",
      "Error while fetching response from https://en.wikipedia.org/w/index.php?title=Hans_B%C3%BCchler&action=edit&redlink=1 (response status 404)\n",
      "\n",
      "Error while fetching response from https://en.wikipedia.org/w/index.php?title=Herbert_Schneider_(politician)&action=edit&redlink=1 (response status 404)\n",
      "Error while fetching response from https://en.wikipedia.org/w/index.php?title=Ferdinand_Erpenbeck&action=edit&redlink=1 (response status 404)\n",
      "Error while fetching response from https://www.jstor.org/stable/2094817 (response status 420)\n"
     ]
    },
    {
     "name": "stderr",
     "output_type": "stream",
     "text": [
      "Crawling Progress:   0%|          | 67/126497 [00:26<14:55:13,  2.35page/s]"
     ]
    },
    {
     "name": "stdout",
     "output_type": "stream",
     "text": [
      "Error while fetching response from https://en.wikipedia.org/w/index.php?title=Burkhard_Ritz&action=edit&redlink=1 (response status 404)\n",
      "Error while fetching response from https://en.wikipedia.org/w/index.php?title=Albrecht_Haas&action=edit&redlink=1 (response status 404)\n",
      "Error while fetching response from https://en.wikipedia.org/w/index.php?title=Will_Rasner&action=edit&redlink=1 (response status 404)\n"
     ]
    },
    {
     "name": "stderr",
     "output_type": "stream",
     "text": [
      "Crawling Progress:   0%|          | 73/126497 [00:27<8:59:02,  3.91page/s] "
     ]
    },
    {
     "name": "stdout",
     "output_type": "stream",
     "text": [
      "Error while fetching response from https://en.wikipedia.org/w/index.php?title=Friedrich_Kempfler&action=edit&redlink=1 (response status 404)\n",
      "Error while fetching response from https://en.wikipedia.org/w/index.php?title=Hildegard_Schimschok&action=edit&redlink=1 (response status 404)\n"
     ]
    },
    {
     "name": "stderr",
     "output_type": "stream",
     "text": [
      "Crawling Progress:   0%|          | 75/126497 [00:28<12:10:27,  2.88page/s]"
     ]
    },
    {
     "name": "stdout",
     "output_type": "stream",
     "text": [
      "Error while fetching response from https://en.wikipedia.org/w/index.php?title=Hugo_Collet&action=edit&redlink=1 (response status 404)\n"
     ]
    },
    {
     "name": "stderr",
     "output_type": "stream",
     "text": [
      "Crawling Progress:   0%|          | 78/126497 [00:29<13:00:52,  2.70page/s]"
     ]
    },
    {
     "name": "stdout",
     "output_type": "stream",
     "text": [
      "Error while fetching response from https://en.wikipedia.org/w/index.php?title=Hans-J%C3%BCrgen_Junghans&action=edit&redlink=1 (response status 404)\n",
      "Error while fetching response from https://api.semanticscholar.org/CorpusID:145360857 (response status 202)\n"
     ]
    },
    {
     "name": "stderr",
     "output_type": "stream",
     "text": [
      "Crawling Progress:   0%|          | 80/126497 [00:31<14:36:23,  2.40page/s]"
     ]
    },
    {
     "name": "stdout",
     "output_type": "stream",
     "text": [
      "Error while fetching response from https://en.wikipedia.org/w/index.php?title=Gerhard_Orga%C3%9F&action=edit&redlink=1 (response status 404)\n",
      "Error while fetching response from https://en.wikipedia.org/w/index.php?title=Horst_Gerlach&action=edit&redlink=1 (response status 404)\n",
      "Error while fetching response from https://en.wikipedia.org/w/index.php?title=Franz_Sauter&action=edit&redlink=1 (response status 404)\n",
      "Error while fetching response from https://en.wikipedia.org/w/index.php?title=Annemarie_Griesinger&action=edit&redlink=1 (response status 404)\n",
      "Error while fetching response from https://en.wikipedia.org/w/index.php?title=Elisabeth_Orth&action=edit&redlink=1 (response status 404)\n",
      "Error while fetching response from https://en.wikipedia.org/w/index.php?title=J%C3%BCrgen_Wohlrabe&action=edit&redlink=1 (response status 404)\n",
      "Error while fetching response from https://en.wikipedia.org/w/index.php?title=Ludwig_FellerMayer&action=edit&redlink=1 (response status 404)\n",
      "Error while fetching response from https://en.wikipedia.org/w/index.php?title=Brigitte_Freyh&action=edit&redlink=1 (response status 404)\n"
     ]
    },
    {
     "name": "stderr",
     "output_type": "stream",
     "text": [
      "Crawling Progress:   0%|          | 84/126497 [00:41<43:27:44,  1.24s/page]"
     ]
    },
    {
     "name": "stdout",
     "output_type": "stream",
     "text": [
      "Error while fetching response from https://www.nytimes.com/2009/06/22/world/europe/22dahrendorf.html (response status 403)\n",
      "Error while fetching response from https://en.wikipedia.org/w/index.php?title=Hedwig_Meermann&action=edit&redlink=1 (response status 404)\n",
      "Error while fetching response from https://en.wikipedia.org/w/index.php?title=Hans_August_L%C3%BCcker&action=edit&redlink=1 (response status 404)\n"
     ]
    },
    {
     "name": "stderr",
     "output_type": "stream",
     "text": [
      "Crawling Progress:   0%|          | 90/126497 [00:43<28:11:36,  1.25page/s]"
     ]
    },
    {
     "name": "stdout",
     "output_type": "stream",
     "text": [
      "Error while fetching response from https://en.wikipedia.org/w/index.php?title=Richard_Wurbs&action=edit&redlink=1 (response status 404)\n",
      "Error while fetching response from https://en.wikipedia.org/w/index.php?title=Leo_Ernesti&action=edit&redlink=1 (response status 404)\n",
      "Error while fetching response from https://en.wikipedia.org/w/index.php?title=Anton_Ott&action=edit&redlink=1 (response status 404)\n",
      "Error while fetching response from https://en.wikipedia.org/w/index.php?title=Paul_Neumann_(politician)&action=edit&redlink=1 (response status 404)\n",
      "Error while fetching response from https://en.wikipedia.org/w/index.php?title=Adolf_M%C3%BCller-Emmert&action=edit&redlink=1 (response status 404)\n"
     ]
    },
    {
     "name": "stderr",
     "output_type": "stream",
     "text": [
      "Crawling Progress:   0%|          | 95/126497 [00:45<22:37:42,  1.55page/s]"
     ]
    },
    {
     "name": "stdout",
     "output_type": "stream",
     "text": [
      "Error while fetching response from https://en.wikipedia.org/w/index.php?title=Hans_Wolfgang_Rubin&action=edit&redlink=1 (response status 404)\n",
      "Error while fetching response from https://en.wikipedia.org/w/index.php?title=Hermann_Josef_Unland&action=edit&redlink=1 (response status 404)\n"
     ]
    },
    {
     "name": "stderr",
     "output_type": "stream",
     "text": [
      "Crawling Progress:   0%|          | 104/126497 [00:48<17:49:14,  1.97page/s]"
     ]
    },
    {
     "name": "stdout",
     "output_type": "stream",
     "text": [
      "Error while fetching response from https://en.wikipedia.org/w/index.php?title=Georg_Kliesing&action=edit&redlink=1 (response status 404)\n",
      "Error while fetching response from https://en.wikipedia.org/w/index.php?title=Rudolf_M%C3%BCller_(politician)&action=edit&redlink=1 (response status 404)\n",
      "Error while fetching response from https://en.wikipedia.org/w/index.php?title=Franz-Lorenz_von_Thadden&action=edit&redlink=1 (response status 404)\n",
      "Error while fetching response from https://en.wikipedia.org/w/index.php?title=Willy_Bartsch&action=edit&redlink=1 (response status 404)\n",
      "Error while fetching response from https://en.wikipedia.org/w/index.php?title=Bernhard_Bu%C3%9Fmann&action=edit&redlink=1 (response status 404)\n",
      "Error while fetching response from https://en.wikipedia.org/w/index.php?title=Heinrich_M%C3%BCller_(politician)&action=edit&redlink=1 (response status 404)\n",
      "Error while fetching response from https://en.wikipedia.org/w/index.php?title=Horst_Krockert&action=edit&redlink=1 (response status 404)\n",
      "Error while fetching response from https://en.wikipedia.org/w/index.php?title=Fred_Zander&action=edit&redlink=1 (response status 404)\n"
     ]
    },
    {
     "name": "stderr",
     "output_type": "stream",
     "text": [
      "Crawling Progress:   0%|          | 110/126497 [00:49<14:08:11,  2.48page/s]"
     ]
    },
    {
     "name": "stdout",
     "output_type": "stream",
     "text": [
      "Request exception encountered at http://globetrotter.berkeley.edu/conversations/Elberg/Dahrendorf/dahrendorf0.html: HTTPConnectionPool(host='globetrotter.berkeley.edu', port=80): Max retries exceeded with url: /conversations/Elberg/Dahrendorf/dahrendorf0.html (Caused by NameResolutionError(\"<urllib3.connection.HTTPConnection object at 0x11b6e6a90>: Failed to resolve 'globetrotter.berkeley.edu' ([Errno 8] nodename nor servname provided, or not known)\"))\n"
     ]
    },
    {
     "name": "stderr",
     "output_type": "stream",
     "text": [
      "Crawling Progress:   0%|          | 116/126497 [00:50<11:28:42,  3.06page/s]"
     ]
    },
    {
     "name": "stdout",
     "output_type": "stream",
     "text": [
      "Error while fetching response from https://en.wikipedia.org/w/index.php?title=Heinrich_Welslau&action=edit&redlink=1 (response status 404)\n",
      "Error while fetching response from https://en.wikipedia.org/w/index.php?title=Werner_Marx_(politician)&action=edit&redlink=1 (response status 404)\n",
      "Error while fetching response from https://en.wikipedia.org/w/index.php?title=Max_Seidel&action=edit&redlink=1 (response status 404)\n",
      "Error while fetching response from https://en.wikipedia.org/w/index.php?title=Hans_Lautenschlager&action=edit&redlink=1 (response status 404)\n",
      "Error while fetching response from https://en.wikipedia.org/w/index.php?title=Egon_H%C3%B6hmann&action=edit&redlink=1 (response status 404)\n",
      "Error while fetching response from https://en.wikipedia.org/w/index.php?title=Hans_Georg_Schachtschabel&action=edit&redlink=1 (response status 404)\n",
      "Error while fetching response from https://en.wikipedia.org/w/index.php?title=Fritz_Logemann&action=edit&redlink=1 (response status 404)\n",
      "Error while fetching response from https://en.wikipedia.org/w/index.php?title=Julius_Steiner&action=edit&redlink=1 (response status 404)\n"
     ]
    },
    {
     "name": "stderr",
     "output_type": "stream",
     "text": [
      "Crawling Progress:   0%|          | 125/126497 [00:52<8:57:52,  3.92page/s] "
     ]
    },
    {
     "name": "stdout",
     "output_type": "stream",
     "text": [
      "Error while fetching response from https://en.wikipedia.org/w/index.php?title=Linus_Memmel&action=edit&redlink=1 (response status 404)\n",
      "Error while fetching response from https://en.wikipedia.org/w/index.php?title=Hans-J%C3%BCrgen_Klinker&action=edit&redlink=1 (response status 404)\n",
      "Error while fetching response from https://en.wikipedia.org/w/index.php?title=Reinhold_Kreile&action=edit&redlink=1 (response status 404)\n",
      "Error while fetching response from https://en.wikipedia.org/w/index.php?title=Alo_Hauser&action=edit&redlink=1 (response status 404)\n",
      "Error while fetching response from https://en.wikipedia.org/w/index.php?title=Erwin_Lange&action=edit&redlink=1 (response status 404)\n",
      "Error while fetching response from https://en.wikipedia.org/w/index.php?title=Victor_Kirst&action=edit&redlink=1 (response status 404)\n"
     ]
    },
    {
     "name": "stderr",
     "output_type": "stream",
     "text": [
      "Crawling Progress:   0%|          | 127/126497 [00:56<17:58:32,  1.95page/s]"
     ]
    },
    {
     "name": "stdout",
     "output_type": "stream",
     "text": [
      "Error while fetching response from https://en.wikipedia.org/w/index.php?title=Detlef_Kleinert&action=edit&redlink=1 (response status 404)Error while fetching response from https://en.wikipedia.org/w/index.php?title=Christoph_Schiller&action=edit&redlink=1 (response status 404)\n",
      "\n",
      "Error while fetching response from https://en.wikipedia.org/w/index.php?title=Karl_Haehser&action=edit&redlink=1 (response status 404)\n"
     ]
    },
    {
     "name": "stderr",
     "output_type": "stream",
     "text": [
      "Crawling Progress:   0%|          | 133/126497 [00:57<13:55:46,  2.52page/s]"
     ]
    },
    {
     "name": "stdout",
     "output_type": "stream",
     "text": [
      "Error while fetching response from https://en.wikipedia.org/w/index.php?title=Hans_de_With&action=edit&redlink=1 (response status 404)\n",
      "Error while fetching response from https://en.wikipedia.org/w/index.php?title=Georg_G%C3%B6lter&action=edit&redlink=1 (response status 404)\n",
      "Error while fetching response from https://en.wikipedia.org/w/index.php?title=Franz_Weigl&action=edit&redlink=1 (response status 404)\n",
      "Error while fetching response from https://en.wikipedia.org/w/index.php?title=Wenzel_Bredl&action=edit&redlink=1 (response status 404)\n"
     ]
    },
    {
     "name": "stderr",
     "output_type": "stream",
     "text": [
      "Crawling Progress:   0%|          | 140/126497 [01:00<15:11:04,  2.31page/s]"
     ]
    },
    {
     "name": "stdout",
     "output_type": "stream",
     "text": [
      "Error while fetching response from https://en.wikipedia.org/w/index.php?title=Edeltraud_Kuchtner&action=edit&redlink=1 (response status 404)\n",
      "Error while fetching response from https://en.wikipedia.org/w/index.php?title=Karl_Heinz_Lemmrich&action=edit&redlink=1 (response status 404)\n"
     ]
    },
    {
     "name": "stderr",
     "output_type": "stream",
     "text": [
      "Crawling Progress:   0%|          | 142/126497 [01:02<18:26:50,  1.90page/s]"
     ]
    },
    {
     "name": "stdout",
     "output_type": "stream",
     "text": [
      "Error while fetching response from https://en.wikipedia.org/w/index.php?title=G%C3%BCnther_Metzger&action=edit&redlink=1 (response status 404)\n",
      "Error while fetching response from https://en.wikipedia.org/w/index.php?title=Karl_Hofmann_(German_politician)&action=edit&redlink=1 (response status 404)\n",
      "Error while fetching response from https://en.wikipedia.org/w/index.php?title=Karl_Herold&action=edit&redlink=1 (response status 404)\n"
     ]
    },
    {
     "name": "stderr",
     "output_type": "stream",
     "text": [
      "Crawling Progress:   0%|          | 145/126497 [01:04<18:54:20,  1.86page/s]"
     ]
    },
    {
     "name": "stdout",
     "output_type": "stream",
     "text": [
      "Error while fetching response from https://en.wikipedia.org/w/index.php?title=Lothar_Wrede&action=edit&redlink=1 (response status 404)\n",
      "Error while fetching response from https://en.wikipedia.org/w/index.php?title=Hans-Joachim_Baeuchle&action=edit&redlink=1 (response status 404)\n",
      "Error while fetching response from https://en.wikipedia.org/w/index.php?title=Philipp_Seibert&action=edit&redlink=1 (response status 404)\n",
      "Error while fetching response from https://en.wikipedia.org/w/index.php?title=Albrecht_Schlee&action=edit&redlink=1 (response status 404)\n",
      "Error while fetching response from https://en.wikipedia.org/w/index.php?title=Richard_Kohlberger&action=edit&redlink=1 (response status 404)\n"
     ]
    },
    {
     "name": "stderr",
     "output_type": "stream",
     "text": [
      "Crawling Progress:   0%|          | 150/126497 [01:06<15:42:32,  2.23page/s]"
     ]
    },
    {
     "name": "stdout",
     "output_type": "stream",
     "text": [
      "Error while fetching response from https://en.wikipedia.org/w/index.php?title=Fritz-Joachim_Gn%C3%A4dinger&action=edit&redlink=1 (response status 404)\n",
      "Error while fetching response from https://en.wikipedia.org/w/index.php?title=Christa_Schroeder_(politician)&action=edit&redlink=1 (response status 404)\n",
      "Error while fetching response from https://en.wikipedia.org/w/index.php?title=Hans-Eberhard_Urbaniak&action=edit&redlink=1 (response status 404)\n",
      "Error while fetching response from https://en.wikipedia.org/w/index.php?title=Helmut_Esters&action=edit&redlink=1 (response status 404)\n",
      "Error while fetching response from https://en.wikipedia.org/w/index.php?title=Benno_Erhard&action=edit&redlink=1 (response status 404)\n"
     ]
    },
    {
     "name": "stderr",
     "output_type": "stream",
     "text": [
      "Crawling Progress:   0%|          | 157/126497 [01:21<43:22:45,  1.24s/page]"
     ]
    },
    {
     "name": "stdout",
     "output_type": "stream",
     "text": [
      "Request exception encountered at https://archive.today/20090801162802/http://www.wzb.eu/bal/spt/default.de.htm: HTTPSConnectionPool(host='archive.today', port=443): Read timed out. (read timeout=15)\n",
      "Error while fetching response from https://en.wikipedia.org/w/index.php?title=Helmut_Prassler&action=edit&redlink=1 (response status 404)\n",
      "Error while fetching response from https://en.wikipedia.org/w/index.php?title=Hermann_Spillecke&action=edit&redlink=1 (response status 404)\n",
      "Error while fetching response from https://en.wikipedia.org/w/index.php?title=Karl_Liedtke&action=edit&redlink=1 (response status 404)\n"
     ]
    },
    {
     "name": "stderr",
     "output_type": "stream",
     "text": [
      "Crawling Progress:   0%|          | 162/126497 [01:23<33:13:11,  1.06page/s]"
     ]
    },
    {
     "name": "stdout",
     "output_type": "stream",
     "text": [
      "Error while fetching response from https://en.wikipedia.org/w/index.php?title=G%C3%BCnter_Jaschke&action=edit&redlink=1 (response status 404)\n"
     ]
    },
    {
     "name": "stderr",
     "output_type": "stream",
     "text": [
      "Crawling Progress:   0%|          | 168/126497 [01:27<29:40:56,  1.18page/s]"
     ]
    },
    {
     "name": "stdout",
     "output_type": "stream",
     "text": [
      "Error while fetching response from http://www.firstmagazine.com/Awards (response status 403)\n",
      "Error while fetching response from https://en.wikipedia.org/w/index.php?title=21._Jahrhundert&action=edit&redlink=1 (response status 404)\n",
      "Error while fetching response from https://en.wikipedia.org/w/index.php?title=Hermann_Josef_Russe&action=edit&redlink=1 (response status 404)\n"
     ]
    },
    {
     "name": "stderr",
     "output_type": "stream",
     "text": [
      "Crawling Progress:   0%|          | 170/126497 [01:28<28:47:35,  1.22page/s]"
     ]
    },
    {
     "name": "stdout",
     "output_type": "stream",
     "text": [
      "Error while fetching response from https://en.wikipedia.org/w/index.php?title=Hans_Bay&action=edit&redlink=1 (response status 404)\n",
      "Error while fetching response from https://en.wikipedia.org/w/index.php?title=Konrad_Kraske&action=edit&redlink=1 (response status 404)\n",
      "Error while fetching response from https://en.wikipedia.org/w/index.php?title=Irma_T%C3%BCbler&action=edit&redlink=1 (response status 404)\n",
      "Error while fetching response from https://en.wikipedia.org/w/index.php?title=Kurt_Ross&action=edit&redlink=1 (response status 404)\n",
      "Error while fetching response from https://en.wikipedia.org/w/index.php?title=Karl-Heinz_Saxowski&action=edit&redlink=1 (response status 404)\n"
     ]
    },
    {
     "name": "stderr",
     "output_type": "stream",
     "text": [
      "Crawling Progress:   0%|          | 174/126497 [01:30<24:44:48,  1.42page/s]"
     ]
    },
    {
     "name": "stdout",
     "output_type": "stream",
     "text": [
      "Error while fetching response from https://www.thegazette.co.uk/London/issue/53377/page/12151 (response status 403)\n",
      "Error while fetching response from https://en.wikipedia.org/w/index.php?title=Emil_Solke&action=edit&redlink=1 (response status 404)\n",
      "Error while fetching response from https://en.wikipedia.org/w/index.php?title=Franz_Xaver_Geisenhofer&action=edit&redlink=1 (response status 404)\n"
     ]
    },
    {
     "name": "stderr",
     "output_type": "stream",
     "text": [
      "Crawling Progress:   0%|          | 184/126497 [01:33<18:19:50,  1.91page/s]"
     ]
    },
    {
     "name": "stdout",
     "output_type": "stream",
     "text": [
      "Error while fetching response from https://en.wikipedia.org/w/index.php?title=Heinrich_Junker&action=edit&redlink=1 (response status 404)Error while fetching response from https://en.wikipedia.org/w/index.php?title=Uwe_Looft&action=edit&redlink=1 (response status 404)\n",
      "\n",
      "Error while fetching response from https://en.wikipedia.org/w/index.php?title=Max_Vehar&action=edit&redlink=1 (response status 404)\n",
      "Error while fetching response from https://en.wikipedia.org/w/index.php?title=G%C3%BCnter_Wichert&action=edit&redlink=1 (response status 404)\n",
      "Error while fetching response from https://en.wikipedia.org/w/index.php?title=Friedrich_Beermann&action=edit&redlink=1 (response status 404)\n",
      "Error while fetching response from https://en.wikipedia.org/w/index.php?title=Udo_Giulini&action=edit&redlink=1 (response status 404)\n"
     ]
    },
    {
     "name": "stderr",
     "output_type": "stream",
     "text": [
      "Crawling Progress:   0%|          | 190/126497 [01:37<19:42:37,  1.78page/s]"
     ]
    },
    {
     "name": "stdout",
     "output_type": "stream",
     "text": [
      "Error while fetching response from https://en.wikipedia.org/w/index.php?title=Hugo_Brandt&action=edit&redlink=1 (response status 404)\n",
      "Error while fetching response from https://en.wikipedia.org/w/index.php?title=Wilhelm_Dr%C3%B6scher&action=edit&redlink=1 (response status 404)\n",
      "Error while fetching response from https://en.wikipedia.org/w/index.php?title=Wilhelm_N%C3%B6lling&action=edit&redlink=1 (response status 404)\n"
     ]
    },
    {
     "name": "stderr",
     "output_type": "stream",
     "text": [
      "Crawling Progress:   0%|          | 194/126497 [01:39<18:31:18,  1.89page/s]"
     ]
    },
    {
     "name": "stdout",
     "output_type": "stream",
     "text": [
      "Error while fetching response from https://en.wikipedia.org/w/index.php?title=Werner_Marquardt&action=edit&redlink=1 (response status 404)\n",
      "Error while fetching response from https://en.wikipedia.org/w/index.php?title=Hans_Hubrig&action=edit&redlink=1 (response status 404)\n",
      "Error while fetching response from https://en.wikipedia.org/w/index.php?title=Claus_Grobecker&action=edit&redlink=1 (response status 404)\n"
     ]
    },
    {
     "name": "stderr",
     "output_type": "stream",
     "text": [
      "Crawling Progress:   0%|          | 197/126497 [01:41<18:45:04,  1.87page/s]"
     ]
    },
    {
     "name": "stdout",
     "output_type": "stream",
     "text": [
      "Error while fetching response from https://en.wikipedia.org/w/index.php?title=Clemens_Riedel_(politician)&action=edit&redlink=1 (response status 404)\n",
      "Error while fetching response from https://en.wikipedia.org/w/index.php?title=Juan_Iglesias_Santos&action=edit&redlink=1 (response status 404)\n",
      "Error while fetching response from https://en.wikipedia.org/w/index.php?title=Georg_Kahn-Ackermann&action=edit&redlink=1 (response status 404)\n"
     ]
    },
    {
     "name": "stderr",
     "output_type": "stream",
     "text": [
      "Crawling Progress:   0%|          | 204/126497 [01:43<14:53:32,  2.36page/s]"
     ]
    },
    {
     "name": "stdout",
     "output_type": "stream",
     "text": [
      "Error while fetching response from https://en.wikipedia.org/w/index.php?title=Olaf_Baron_von_Wrangel&action=edit&redlink=1 (response status 404)\n",
      "Error while fetching response from https://en.wikipedia.org/w/index.php?title=Heinz_Hartnack&action=edit&redlink=1 (response status 404)\n",
      "Error while fetching response from https://en.wikipedia.org/w/index.php?title=Karl-Heinz_Mursch&action=edit&redlink=1 (response status 404)\n"
     ]
    },
    {
     "name": "stderr",
     "output_type": "stream",
     "text": [
      "Crawling Progress:   0%|          | 210/126497 [01:46<16:18:32,  2.15page/s]"
     ]
    },
    {
     "name": "stdout",
     "output_type": "stream",
     "text": [
      "Error while fetching response from https://en.wikipedia.org/w/index.php?title=Liselotte_Pieser&action=edit&redlink=1 (response status 404)\n",
      "Error while fetching response from https://en.wikipedia.org/w/index.php?title=Walter_Langebeck&action=edit&redlink=1 (response status 404)\n",
      "Error while fetching response from https://en.wikipedia.org/w/index.php?title=Johann_Peter_Josten&action=edit&redlink=1 (response status 404)\n",
      "Error while fetching response from https://en.wikipedia.org/w/index.php?title=Hans_Gertzen&action=edit&redlink=1 (response status 404)\n",
      "Error while fetching response from https://en.wikipedia.org/w/index.php?title=Harry_Tallert&action=edit&redlink=1 (response status 404)\n"
     ]
    },
    {
     "name": "stderr",
     "output_type": "stream",
     "text": [
      "Crawling Progress:   0%|          | 217/126497 [01:48<12:08:22,  2.89page/s]"
     ]
    },
    {
     "name": "stdout",
     "output_type": "stream",
     "text": [
      "Error while fetching response from https://en.wikipedia.org/w/index.php?title=Hermann_Buschfort&action=edit&redlink=1 (response status 404)\n"
     ]
    },
    {
     "name": "stderr",
     "output_type": "stream",
     "text": [
      "Crawling Progress:   0%|          | 221/126497 [01:50<14:42:03,  2.39page/s]"
     ]
    },
    {
     "name": "stdout",
     "output_type": "stream",
     "text": [
      "Error while fetching response from https://en.wikipedia.org/w/index.php?title=Manfred_Schmidt_(politician)&action=edit&redlink=1 (response status 404)Error while fetching response from https://en.wikipedia.org/w/index.php?title=Karl-Heinz_Hansen&action=edit&redlink=1 (response status 404)\n",
      "\n",
      "Error while fetching response from https://en.wikipedia.org/w/index.php?title=J%C3%BCrgen_Anbuhl&action=edit&redlink=1 (response status 404)\n",
      "Error while fetching response from https://en.wikipedia.org/w/index.php?title=Manfred_Ge%C3%9Fner&action=edit&redlink=1 (response status 404)\n",
      "Error while fetching response from https://doi.org/10.1080%2F13621021003594973 (response status 403)\n",
      "Error while fetching response from https://en.wikipedia.org/w/index.php?title=Wolfgang_Schwabe&action=edit&redlink=1 (response status 404)Error while fetching response from https://en.wikipedia.org/w/index.php?title=Gerhard_Fl%C3%A4mig&action=edit&redlink=1 (response status 404)\n",
      "\n"
     ]
    },
    {
     "name": "stderr",
     "output_type": "stream",
     "text": [
      "Crawling Progress:   0%|          | 228/126497 [01:52<12:07:41,  2.89page/s]"
     ]
    },
    {
     "name": "stdout",
     "output_type": "stream",
     "text": [
      "Error while fetching response from https://doi.org/10.2307%2F2094817 (response status 420)\n",
      "Request exception encountered at http://id.bnportugal.gov.pt/aut/catbnp/36694: HTTPSConnectionPool(host='urn.bn.pt', port=443): Max retries exceeded with url: /nca/unimarc-authorities/html?id=36694 (Caused by SSLError(SSLCertVerificationError(1, \"[SSL: CERTIFICATE_VERIFY_FAILED] certificate verify failed: Hostname mismatch, certificate is not valid for 'urn.bn.pt'. (_ssl.c:1129)\")))\n",
      "Error while fetching response from https://en.wikipedia.org/w/index.php?title=Gerhard_Jungmann&action=edit&redlink=1 (response status 404)\n"
     ]
    },
    {
     "name": "stderr",
     "output_type": "stream",
     "text": [
      "Crawling Progress:   0%|          | 235/126497 [01:56<15:22:42,  2.28page/s]"
     ]
    },
    {
     "name": "stdout",
     "output_type": "stream",
     "text": [
      "Error while fetching response from http://www.bath.ac.uk/ceremonies/hongrads/ (response status 404)\n"
     ]
    },
    {
     "name": "stderr",
     "output_type": "stream",
     "text": [
      "Crawling Progress:   0%|          | 236/126497 [01:57<17:56:16,  1.96page/s]"
     ]
    },
    {
     "name": "stdout",
     "output_type": "stream",
     "text": [
      "Error while fetching response from https://en.wikipedia.org/w/index.php?title=Hans_Bals&action=edit&redlink=1 (response status 404)Error while fetching response from https://en.wikipedia.org/w/index.php?title=Isidor_Fr%C3%BCh&action=edit&redlink=1 (response status 404)\n",
      "\n",
      "Error while fetching response from https://en.wikipedia.org/w/index.php?title=Hans_Hermsdorf&action=edit&redlink=1 (response status 404)\n",
      "Error while fetching response from https://en.wikipedia.org/w/index.php?title=Helmuth_M%C3%B6hring&action=edit&redlink=1 (response status 404)\n",
      "Error while fetching response from https://en.wikipedia.org/w/index.php?title=Kurt_W%C3%BCster&action=edit&redlink=1 (response status 404)\n",
      "Error while fetching response from https://en.wikipedia.org/w/index.php?title=Otto_Wulff&action=edit&redlink=1 (response status 404)\n",
      "Error while fetching response from https://en.wikipedia.org/w/index.php?title=Herbert_Baack&action=edit&redlink=1 (response status 404)\n"
     ]
    },
    {
     "name": "stderr",
     "output_type": "stream",
     "text": [
      "Crawling Progress:   0%|          | 241/126497 [02:00<18:14:29,  1.92page/s]"
     ]
    },
    {
     "name": "stdout",
     "output_type": "stream",
     "text": [
      "Error while fetching response from https://en.wikipedia.org/w/index.php?title=Harry_Liehr&action=edit&redlink=1 (response status 404)\n",
      "Error while fetching response from https://en.wikipedia.org/w/index.php?title=Herbert_Hermesdorf&action=edit&redlink=1 (response status 404)\n",
      "Error while fetching response from https://en.wikipedia.org/w/index.php?title=Hans_M%C3%BCthling&action=edit&redlink=1 (response status 404)\n",
      "Error while fetching response from https://en.wikipedia.org/w/index.php?title=Werner_Buchstaller&action=edit&redlink=1 (response status 404)\n"
     ]
    },
    {
     "name": "stderr",
     "output_type": "stream",
     "text": [
      "Crawling Progress:   0%|          | 246/126497 [02:02<16:25:20,  2.14page/s]"
     ]
    },
    {
     "name": "stdout",
     "output_type": "stream",
     "text": [
      "Error while fetching response from https://en.wikipedia.org/w/index.php?title=G%C3%BCnter_von_Nordenskj%C3%B6ld&action=edit&redlink=1 (response status 404)\n",
      "Error while fetching response from https://en.wikipedia.org/w/index.php?title=Friedhelm_Dohmann&action=edit&redlink=1 (response status 404)\n",
      "Error while fetching response from https://en.wikipedia.org/w/index.php?title=Franz_Josef_Zebisch&action=edit&redlink=1 (response status 404)\n",
      "Error while fetching response from https://en.wikipedia.org/w/index.php?title=Peter-Michael_Koenig&action=edit&redlink=1 (response status 404)\n"
     ]
    },
    {
     "name": "stderr",
     "output_type": "stream",
     "text": [
      "Crawling Progress:   0%|          | 257/126497 [02:05<11:49:05,  2.97page/s]"
     ]
    },
    {
     "name": "stdout",
     "output_type": "stream",
     "text": [
      "Error while fetching response from https://en.wikipedia.org/w/index.php?title=Heinz_P%C3%B6hler&action=edit&redlink=1 (response status 404)\n",
      "Error while fetching response from https://en.wikipedia.org/w/index.php?title=Hans_Stefan_Seifriz&action=edit&redlink=1 (response status 404)\n",
      "Error while fetching response from https://en.wikipedia.org/w/index.php?title=Siegfried_Zoglmann&action=edit&redlink=1 (response status 404)\n",
      "Error while fetching response from https://en.wikipedia.org/w/index.php?title=Werner_Staak&action=edit&redlink=1 (response status 404)\n",
      "Error while fetching response from https://en.wikipedia.org/w/index.php?title=Hans_Richarts&action=edit&redlink=1 (response status 404)\n",
      "Error while fetching response from https://en.wikipedia.org/w/index.php?title=Klaus-Peter_Schulz&action=edit&redlink=1 (response status 404)\n",
      "Error while fetching response from https://en.wikipedia.org/w/index.php?title=Dietrich_Sperling&action=edit&redlink=1 (response status 404)\n",
      "Error while fetching response from https://en.wikipedia.org/w/index.php?title=Hansj%C3%B6rg_H%C3%A4fele&action=edit&redlink=1 (response status 404)\n"
     ]
    },
    {
     "name": "stderr",
     "output_type": "stream",
     "text": [
      "Crawling Progress:   0%|          | 263/126497 [02:06<10:26:58,  3.36page/s]"
     ]
    },
    {
     "name": "stdout",
     "output_type": "stream",
     "text": [
      "Error while fetching response from https://en.wikipedia.org/w/index.php?title=Diedrich_Schr%C3%B6der&action=edit&redlink=1 (response status 404)\n",
      "Error while fetching response from https://en.wikipedia.org/w/index.php?title=Anton_Stark&action=edit&redlink=1 (response status 404)\n"
     ]
    },
    {
     "name": "stderr",
     "output_type": "stream",
     "text": [
      "Crawling Progress:   0%|          | 270/126497 [02:08<9:44:33,  3.60page/s] "
     ]
    },
    {
     "name": "stdout",
     "output_type": "stream",
     "text": [
      "Error while fetching response from https://en.wikipedia.org/w/index.php?title=Gottfried_K%C3%B6ster&action=edit&redlink=1 (response status 404)\n"
     ]
    },
    {
     "name": "stderr",
     "output_type": "stream",
     "text": [
      "Crawling Progress:   0%|          | 272/126497 [02:08<8:57:07,  3.92page/s]"
     ]
    },
    {
     "name": "stdout",
     "output_type": "stream",
     "text": [
      "Error while fetching response from https://www.uni-konstanz.de/en/university/about-the-university-of-konstanz/profile/50-years-university-of-konstanz/50-years-of-university-history/ (response status 404)\n",
      "Error while fetching response from https://en.wikipedia.org/w/index.php?title=Hermann_Schmitt-Vockenhausen&action=edit&redlink=1 (response status 404)\n"
     ]
    },
    {
     "name": "stderr",
     "output_type": "stream",
     "text": [
      "Crawling Progress:   0%|          | 274/126497 [02:10<12:41:37,  2.76page/s]"
     ]
    },
    {
     "name": "stdout",
     "output_type": "stream",
     "text": [
      "Error while fetching response from https://en.wikipedia.org/w/index.php?title=Hannsheinz_Bauer&action=edit&redlink=1 (response status 404)\n",
      "Error while fetching response from https://en.wikipedia.org/w/index.php?title=Hermann_Stahlberg&action=edit&redlink=1 (response status 404)\n",
      "Error while fetching response from https://en.wikipedia.org/w/index.php?title=Heinz_Frehsee&action=edit&redlink=1 (response status 404)Error while fetching response from https://en.wikipedia.org/w/index.php?title=Wolfgang_Pohle&action=edit&redlink=1 (response status 404)\n",
      "Error while fetching response from https://en.wikipedia.org/w/index.php?title=Roelf_Heyen&action=edit&redlink=1 (response status 404)\n",
      "\n",
      "Error while fetching response from https://en.wikipedia.org/w/index.php?title=Horst_Seefeld&action=edit&redlink=1 (response status 404)\n"
     ]
    },
    {
     "name": "stderr",
     "output_type": "stream",
     "text": [
      "Crawling Progress:   0%|          | 285/126497 [02:14<11:46:52,  2.98page/s]"
     ]
    },
    {
     "name": "stdout",
     "output_type": "stream",
     "text": [
      "Error while fetching response from https://en.wikipedia.org/w/index.php?title=Helmut_Lenders&action=edit&redlink=1 (response status 404)\n",
      "Error while fetching response from https://en.wikipedia.org/w/index.php?title=Friedel_Schirmer_(politician)&action=edit&redlink=1 (response status 404)\n",
      "Error while fetching response from https://en.wikipedia.org/w/index.php?title=G%C3%BCnther_Eckerland&action=edit&redlink=1 (response status 404)\n",
      "Error while fetching response from https://en.wikipedia.org/w/index.php?title=Gerd_Ritgen&action=edit&redlink=1 (response status 404)\n"
     ]
    },
    {
     "name": "stderr",
     "output_type": "stream",
     "text": [
      "Crawling Progress:   0%|          | 287/126497 [02:15<14:43:45,  2.38page/s]"
     ]
    },
    {
     "name": "stdout",
     "output_type": "stream",
     "text": [
      "Error while fetching response from https://en.wikipedia.org/w/index.php?title=Hans_Bardens&action=edit&redlink=1 (response status 404)\n",
      "Error while fetching response from https://en.wikipedia.org/w/index.php?title=Udo_Hein&action=edit&redlink=1 (response status 404)\n",
      "Error while fetching response from https://en.wikipedia.org/w/index.php?title=Hans_Batz&action=edit&redlink=1 (response status 404)\n",
      "Error while fetching response from https://en.wikipedia.org/w/index.php?title=Adolf_Scheu&action=edit&redlink=1 (response status 404)\n",
      "Error while fetching response from https://en.wikipedia.org/w/index.php?title=G%C3%BCnther_Wuttke&action=edit&redlink=1 (response status 404)\n"
     ]
    },
    {
     "name": "stderr",
     "output_type": "stream",
     "text": [
      "Crawling Progress:   0%|          | 294/126497 [02:17<11:27:24,  3.06page/s]"
     ]
    },
    {
     "name": "stdout",
     "output_type": "stream",
     "text": [
      "Error while fetching response from https://en.wikipedia.org/w/index.php?title=Heinrich_Franke&action=edit&redlink=1 (response status 404)\n"
     ]
    },
    {
     "name": "stderr",
     "output_type": "stream",
     "text": [
      "Crawling Progress:   0%|          | 300/126497 [02:19<11:52:59,  2.95page/s]"
     ]
    },
    {
     "name": "stdout",
     "output_type": "stream",
     "text": [
      "Error while fetching response from https://en.wikipedia.org/w/index.php?title=Manfred_Wende&action=edit&redlink=1 (response status 404)\n",
      "Error while fetching response from https://en.wikipedia.org/w/index.php?title=Lambert_Huys&action=edit&redlink=1 (response status 404)\n",
      "Error while fetching response from https://en.wikipedia.org/w/index.php?title=Erwin_Schoettle&action=edit&redlink=1 (response status 404)\n",
      "Error while fetching response from https://en.wikipedia.org/w/index.php?title=Claus_Arndt&action=edit&redlink=1 (response status 404)\n"
     ]
    },
    {
     "name": "stderr",
     "output_type": "stream",
     "text": [
      "Crawling Progress:   0%|          | 309/126497 [02:25<17:39:09,  1.99page/s]"
     ]
    },
    {
     "name": "stdout",
     "output_type": "stream",
     "text": [
      "Error while fetching response from https://en.wikipedia.org/w/index.php?title=Alphons_Horten&action=edit&redlink=1 (response status 404)\n",
      "Error while fetching response from https://en.wikipedia.org/w/index.php?title=Karl-Heinz_Schmitz&action=edit&redlink=1 (response status 404)\n",
      "Error while fetching response from https://en.wikipedia.org/w/index.php?title=Kurt_H%C3%A4rzschel&action=edit&redlink=1 (response status 404)\n",
      "Error while fetching response from https://en.wikipedia.org/w/index.php?title=Hermann_Hansing&action=edit&redlink=1 (response status 404)\n"
     ]
    },
    {
     "name": "stderr",
     "output_type": "stream",
     "text": [
      "Crawling Progress:   0%|          | 312/126497 [02:40<52:27:53,  1.50s/page]"
     ]
    },
    {
     "name": "stdout",
     "output_type": "stream",
     "text": [
      "Request exception encountered at https://search.amphilsoc.org/memhist/search?creator=Ralf+Dahrendorf&title=&subject=&subdiv=&mem=&year=&year-max=&dead=&keyword=&smode=advanced: HTTPSConnectionPool(host='search.amphilsoc.org', port=443): Read timed out. (read timeout=15)\n"
     ]
    },
    {
     "name": "stderr",
     "output_type": "stream",
     "text": [
      "Crawling Progress:   0%|          | 318/126497 [02:41<35:22:56,  1.01s/page]"
     ]
    },
    {
     "name": "stdout",
     "output_type": "stream",
     "text": [
      "Error while fetching response from https://en.wikipedia.org/w/index.php?title=Maria_Jacobi&action=edit&redlink=1 (response status 404)\n",
      "Error while fetching response from https://en.wikipedia.org/w/index.php?title=Wilhelm_Maybaum&action=edit&redlink=1 (response status 404)\n",
      "Error while fetching response from https://en.wikipedia.org/w/index.php?title=Ulrich_D%C3%BCbber&action=edit&redlink=1 (response status 404)\n",
      "Error while fetching response from https://en.wikipedia.org/w/index.php?title=Albert_T%C3%B6njes&action=edit&redlink=1 (response status 404)\n",
      "Error while fetching response from https://en.wikipedia.org/w/index.php?title=Rudolf_Werner&action=edit&redlink=1 (response status 404)\n",
      "Error while fetching response from https://en.wikipedia.org/w/index.php?title=Hans_Wissebach&action=edit&redlink=1 (response status 404)\n"
     ]
    },
    {
     "name": "stderr",
     "output_type": "stream",
     "text": [
      "Crawling Progress:   0%|          | 324/126497 [02:44<27:09:46,  1.29page/s]"
     ]
    },
    {
     "name": "stdout",
     "output_type": "stream",
     "text": [
      "Error while fetching response from https://en.wikipedia.org/w/index.php?title=Herbert_Kriedemann&action=edit&redlink=1 (response status 404)\n",
      "Error while fetching response from https://en.wikipedia.org/w/index.php?title=Vera_Dahrendorf&action=edit&redlink=1 (response status 404)\n",
      "Error while fetching response from https://en.wikipedia.org/w/index.php?title=Rudi_Lotze&action=edit&redlink=1 (response status 404)\n",
      "Error while fetching response from https://en.wikipedia.org/w/index.php?title=Alex_H%C3%B6sl&action=edit&redlink=1 (response status 404)\n"
     ]
    },
    {
     "name": "stderr",
     "output_type": "stream",
     "text": [
      "Crawling Progress:   0%|          | 326/126497 [02:45<26:20:53,  1.33page/s]"
     ]
    },
    {
     "name": "stdout",
     "output_type": "stream",
     "text": [
      "Error while fetching response from https://en.wikipedia.org/w/index.php?title=Detlef_Haase&action=edit&redlink=1 (response status 404)\n",
      "Error while fetching response from https://en.wikipedia.org/w/index.php?title=Alwin_Kulawig&action=edit&redlink=1 (response status 404)\n"
     ]
    },
    {
     "name": "stderr",
     "output_type": "stream",
     "text": [
      "Crawling Progress:   0%|          | 331/126497 [02:46<20:32:50,  1.71page/s]"
     ]
    },
    {
     "name": "stdout",
     "output_type": "stream",
     "text": [
      "Error while fetching response from https://en.wikipedia.org/w/index.php?title=Kurt_Wawrzik&action=edit&redlink=1 (response status 404)Error while fetching response from https://en.wikipedia.org/w/index.php?title=Josef_Mick&action=edit&redlink=1 (response status 404)\n",
      "Error while fetching response from https://en.wikipedia.org/w/index.php?title=Hansheinrich_Schmidt&action=edit&redlink=1 (response status 404)\n",
      "\n",
      "Error while fetching response from https://api.semanticscholar.org/CorpusID:228893228 (response status 202)\n",
      "Error while fetching response from https://en.wikipedia.org/w/index.php?title=Erika_Wolf&action=edit&redlink=1 (response status 404)\n",
      "Error while fetching response from https://en.wikipedia.org/w/index.php?title=Josef_L%C3%B6bbert&action=edit&redlink=1 (response status 404)\n",
      "Error while fetching response from https://en.wikipedia.org/w/index.php?title=Ferdinand_Schmidt_(politician)&action=edit&redlink=1 (response status 404)\n",
      "Error while fetching response from https://en.wikipedia.org/w/index.php?title=Wilhelm_Rawe&action=edit&redlink=1 (response status 404)\n",
      "Error while fetching response from https://en.wikipedia.org/w/index.php?title=Egon_Susset&action=edit&redlink=1 (response status 404)\n"
     ]
    },
    {
     "name": "stderr",
     "output_type": "stream",
     "text": [
      "Crawling Progress:   0%|          | 336/126497 [02:47<16:39:44,  2.10page/s]"
     ]
    },
    {
     "name": "stdout",
     "output_type": "stream",
     "text": [
      "Error while fetching response from https://en.wikipedia.org/w/index.php?title=Ernst_Haar&action=edit&redlink=1 (response status 404)\n",
      "Error while fetching response from https://en.wikipedia.org/w/index.php?title=Otto_Wittmann&action=edit&redlink=1 (response status 404)\n",
      "Error while fetching response from https://en.wikipedia.org/w/index.php?title=Hubert_Weber_(politician)&action=edit&redlink=1 (response status 404)\n",
      "Error while fetching response from https://en.wikipedia.org/w/index.php?title=Felix_von_Eckardt&action=edit&redlink=1 (response status 404)\n"
     ]
    },
    {
     "name": "stderr",
     "output_type": "stream",
     "text": [
      "Crawling Progress:   0%|          | 343/126497 [02:49<13:28:04,  2.60page/s]"
     ]
    },
    {
     "name": "stdout",
     "output_type": "stream",
     "text": [
      "Error while fetching response from https://en.wikipedia.org/w/index.php?title=Herbert_Prochazka&action=edit&redlink=1 (response status 404)\n",
      "Error while fetching response from https://en.wikipedia.org/w/index.php?title=Werner_Wilhelm&action=edit&redlink=1 (response status 404)\n"
     ]
    },
    {
     "name": "stderr",
     "output_type": "stream",
     "text": [
      "Crawling Progress:   0%|          | 350/126497 [02:53<14:27:24,  2.42page/s]"
     ]
    },
    {
     "name": "stdout",
     "output_type": "stream",
     "text": [
      "Error while fetching response from https://en.wikipedia.org/w/index.php?title=Georg_Schlaga&action=edit&redlink=1 (response status 404)Error while fetching response from https://en.wikipedia.org/w/index.php?title=Wolfgang_Vogt&action=edit&redlink=1 (response status 404)\n",
      "Error while fetching response from https://en.wikipedia.org/w/index.php?title=Josef_Rommerskirchen&action=edit&redlink=1 (response status 404)\n",
      "\n",
      "Error while fetching response from https://en.wikipedia.org/w/index.php?title=Gerhard_Koch&action=edit&redlink=1 (response status 404)\n",
      "Error while fetching response from https://en.wikipedia.org/w/index.php?title=G%C3%B6ke_Frerichs&action=edit&redlink=1 (response status 404)Error while fetching response from https://en.wikipedia.org/w/index.php?title=Franz_Gleissner_(politician)&action=edit&redlink=1 (response status 404)\n",
      "\n"
     ]
    },
    {
     "name": "stderr",
     "output_type": "stream",
     "text": [
      "Crawling Progress:   0%|          | 355/126497 [02:54<13:14:31,  2.65page/s]"
     ]
    },
    {
     "name": "stdout",
     "output_type": "stream",
     "text": [
      "Error while fetching response from https://en.wikipedia.org/w/index.php?title=Friedhelm_Farthmann&action=edit&redlink=1 (response status 404)\n",
      "Error while fetching response from https://en.wikipedia.org/w/index.php?title=Hellmut_Sieglerschmidt&action=edit&redlink=1 (response status 404)\n"
     ]
    },
    {
     "name": "stderr",
     "output_type": "stream",
     "text": [
      "Crawling Progress:   0%|          | 359/126497 [02:56<13:43:24,  2.55page/s]"
     ]
    },
    {
     "name": "stdout",
     "output_type": "stream",
     "text": [
      "Error while fetching response from https://en.wikipedia.org/w/index.php?title=Erwin_K._Scheuch&action=edit&redlink=1 (response status 404)\n",
      "Error while fetching response from https://en.wikipedia.org/w/index.php?title=Werner_Mertes&action=edit&redlink=1 (response status 404)Error while fetching response from https://en.wikipedia.org/w/index.php?title=Rodrigo_Ur%C3%ADa_Gonz%C3%A1lez&action=edit&redlink=1 (response status 404)\n",
      "\n"
     ]
    },
    {
     "name": "stderr",
     "output_type": "stream",
     "text": [
      "Crawling Progress:   0%|          | 364/126497 [02:58<12:35:08,  2.78page/s]"
     ]
    },
    {
     "name": "stdout",
     "output_type": "stream",
     "text": [
      "Error while fetching response from https://en.wikipedia.org/w/index.php?title=Helmut_Kater&action=edit&redlink=1 (response status 404)\n",
      "Error while fetching response from https://en.wikipedia.org/w/index.php?title=Oscar_Schneider&action=edit&redlink=1 (response status 404)\n",
      "Error while fetching response from https://en.wikipedia.org/w/index.php?title=Rudolf_Opitz_(politician)&action=edit&redlink=1 (response status 404)\n",
      "Error while fetching response from https://en.wikipedia.org/w/index.php?title=G%C3%BCnter_Slotta&action=edit&redlink=1 (response status 404)\n"
     ]
    },
    {
     "name": "stderr",
     "output_type": "stream",
     "text": [
      "Crawling Progress:   0%|          | 366/126497 [03:01<22:02:33,  1.59page/s]"
     ]
    },
    {
     "name": "stdout",
     "output_type": "stream",
     "text": [
      "Error while fetching response from https://en.wikipedia.org/w/index.php?title=Alfons_Bayerl&action=edit&redlink=1 (response status 404)\n",
      "Error while fetching response from https://en.wikipedia.org/w/index.php?title=Bruno_Wiefel&action=edit&redlink=1 (response status 404)\n",
      "Error while fetching response from https://en.wikipedia.org/w/index.php?title=Lothar_Krall&action=edit&redlink=1 (response status 404)\n"
     ]
    },
    {
     "name": "stderr",
     "output_type": "stream",
     "text": [
      "Crawling Progress:   0%|          | 372/126497 [03:02<15:38:40,  2.24page/s]"
     ]
    },
    {
     "name": "stdout",
     "output_type": "stream",
     "text": [
      "Error while fetching response from https://en.wikipedia.org/w/index.php?title=German_Otto_Stehle&action=edit&redlink=1 (response status 404)\n",
      "Error while fetching response from https://en.wikipedia.org/w/index.php?title=Martin_Hirsch_(politician)&action=edit&redlink=1 (response status 404)\n",
      "Error while fetching response from https://en.wikipedia.org/w/index.php?title=Wilhelm_Michels&action=edit&redlink=1 (response status 404)\n",
      "Error while fetching response from https://en.wikipedia.org/w/index.php?title=Alfred_Ollesch&action=edit&redlink=1 (response status 404)\n",
      "Error while fetching response from https://en.wikipedia.org/w/index.php?title=Elfriede_Seppi&action=edit&redlink=1 (response status 404)\n"
     ]
    },
    {
     "name": "stderr",
     "output_type": "stream",
     "text": [
      "Crawling Progress:   0%|          | 378/126497 [03:05<14:30:50,  2.41page/s]"
     ]
    },
    {
     "name": "stdout",
     "output_type": "stream",
     "text": [
      "Error while fetching response from https://en.wikipedia.org/w/index.php?title=Heinz_Pensky&action=edit&redlink=1 (response status 404)\n",
      "Error while fetching response from https://en.wikipedia.org/w/index.php?title=Ernst_Schellenberg&action=edit&redlink=1 (response status 404)\n"
     ]
    },
    {
     "name": "stderr",
     "output_type": "stream",
     "text": [
      "Crawling Progress:   0%|          | 383/126497 [03:06<12:33:43,  2.79page/s]"
     ]
    },
    {
     "name": "stdout",
     "output_type": "stream",
     "text": [
      "Error while fetching response from https://en.wikipedia.org/w/index.php?title=Walter_Picard&action=edit&redlink=1 (response status 404)\n",
      "Error while fetching response from https://en.wikipedia.org/w/index.php?title=Franz_Lenze&action=edit&redlink=1 (response status 404)\n",
      "Error while fetching response from https://en.wikipedia.org/w/index.php?title=Wolfgang_Rutschke&action=edit&redlink=1 (response status 404)\n"
     ]
    },
    {
     "name": "stderr",
     "output_type": "stream",
     "text": [
      "Crawling Progress:   0%|          | 388/126497 [03:09<14:34:11,  2.40page/s]"
     ]
    },
    {
     "name": "stdout",
     "output_type": "stream",
     "text": [
      "Error while fetching response from https://en.wikipedia.org/w/index.php?title=Erich_Wolfram&action=edit&redlink=1 (response status 404)\n",
      "Error while fetching response from https://en.wikipedia.org/w/index.php?title=Helmuth_Becker&action=edit&redlink=1 (response status 404)\n",
      "Error while fetching response from https://en.wikipedia.org/w/index.php?title=Heinrich_K%C3%B6ppler&action=edit&redlink=1 (response status 404)\n",
      "Error while fetching response from https://en.wikipedia.org/w/index.php?title=Reinhard_B%C3%BChling&action=edit&redlink=1 (response status 404)\n"
     ]
    },
    {
     "name": "stderr",
     "output_type": "stream",
     "text": [
      "Crawling Progress:   0%|          | 393/126497 [03:10<12:44:23,  2.75page/s]"
     ]
    },
    {
     "name": "stdout",
     "output_type": "stream",
     "text": [
      "Error while fetching response from https://en.wikipedia.org/w/index.php?title=Manfred_Schulte&action=edit&redlink=1 (response status 404)\n",
      "Error while fetching response from https://en.wikipedia.org/w/index.php?title=G%C3%BCnter_Volmer&action=edit&redlink=1 (response status 404)\n",
      "Error while fetching response from https://en.wikipedia.org/w/index.php?title=Luis_S%C3%A1nchez_Agesta&action=edit&redlink=1 (response status 404)\n",
      "Error while fetching response from https://en.wikipedia.org/w/index.php?title=Friedhelm_Halfmeier&action=edit&redlink=1 (response status 404)\n",
      "Error while fetching response from https://en.wikipedia.org/w/index.php?title=Ellen_Lauterbach&action=edit&redlink=1 (response status 404)\n"
     ]
    },
    {
     "name": "stderr",
     "output_type": "stream",
     "text": [
      "Crawling Progress:   0%|          | 397/126497 [03:11<12:23:55,  2.83page/s]"
     ]
    },
    {
     "name": "stdout",
     "output_type": "stream",
     "text": [
      "Error while fetching response from https://en.wikipedia.org/w/index.php?title=Carl_Reinhard&action=edit&redlink=1 (response status 404)\n",
      "Error while fetching response from https://en.wikipedia.org/w/index.php?title=Rolf_Meinecke&action=edit&redlink=1 (response status 404)\n",
      "Error while fetching response from https://en.wikipedia.org/w/index.php?title=Fritz_Rinderspacher&action=edit&redlink=1 (response status 404)\n",
      "Error while fetching response from https://en.wikipedia.org/w/index.php?title=Karl_Miltner&action=edit&redlink=1 (response status 404)\n",
      "Error while fetching response from https://en.wikipedia.org/w/index.php?title=Heinrich_Draeger&action=edit&redlink=1 (response status 404)\n"
     ]
    },
    {
     "name": "stderr",
     "output_type": "stream",
     "text": [
      "Crawling Progress:   0%|          | 406/126497 [03:13<10:13:21,  3.43page/s]"
     ]
    },
    {
     "name": "stdout",
     "output_type": "stream",
     "text": [
      "Error while fetching response from https://en.wikipedia.org/w/index.php?title=Hans_Roser_(politician)&action=edit&redlink=1 (response status 404)\n",
      "Error while fetching response from https://en.wikipedia.org/w/index.php?title=Peter_B%C3%BCchner&action=edit&redlink=1 (response status 404)\n"
     ]
    },
    {
     "name": "stderr",
     "output_type": "stream",
     "text": [
      "Crawling Progress:   0%|          | 410/126497 [03:15<11:17:19,  3.10page/s]"
     ]
    },
    {
     "name": "stdout",
     "output_type": "stream",
     "text": [
      "Error while fetching response from https://en.wikipedia.org/w/index.php?title=Friedrich_Sch%C3%A4fer&action=edit&redlink=1 (response status 404)\n",
      "Error while fetching response from https://en.wikipedia.org/w/index.php?title=Johann_Wuwer&action=edit&redlink=1 (response status 404)\n",
      "Error while fetching response from https://en.wikipedia.org/w/index.php?title=Walter_Fritsch_(politician)&action=edit&redlink=1 (response status 404)\n",
      "Error while fetching response from https://en.wikipedia.org/w/index.php?title=Marie-Elisabeth_Klee&action=edit&redlink=1 (response status 404)\n"
     ]
    },
    {
     "name": "stderr",
     "output_type": "stream",
     "text": [
      "Crawling Progress:   0%|          | 412/126497 [03:16<12:28:13,  2.81page/s]"
     ]
    },
    {
     "name": "stdout",
     "output_type": "stream",
     "text": [
      "Error while fetching response from https://en.wikipedia.org/w/index.php?title=Udo_Fiebig&action=edit&redlink=1 (response status 404)\n",
      "Error while fetching response from https://en.wikipedia.org/w/index.php?title=Gisbert_Kley&action=edit&redlink=1 (response status 404)\n",
      "Error while fetching response from https://www.birmingham.ac.uk/schools/historycultures/departments/history/news/2021/ralf-dahrendorf-prize-children-born-of-war.aspx (response status 404)\n",
      "Error while fetching response from https://en.wikipedia.org/w/index.php?title=Edith_Krappe&action=edit&redlink=1 (response status 404)\n",
      "Error while fetching response from https://en.wikipedia.org/w/index.php?title=Joachim_Raffert&action=edit&redlink=1 (response status 404)\n"
     ]
    },
    {
     "name": "stderr",
     "output_type": "stream",
     "text": [
      "Crawling Progress:   0%|          | 416/126497 [03:17<12:12:09,  2.87page/s]"
     ]
    },
    {
     "name": "stdout",
     "output_type": "stream",
     "text": [
      "Error while fetching response from https://en.wikipedia.org/w/index.php?title=Hubert_Lemper&action=edit&redlink=1 (response status 404)\n",
      "Error while fetching response from https://en.wikipedia.org/w/index.php?title=Friedrich_Schonhofen&action=edit&redlink=1 (response status 404)\n",
      "Error while fetching response from https://en.wikipedia.org/w/index.php?title=Erich_Meinike&action=edit&redlink=1 (response status 404)\n",
      "Error while fetching response from https://en.wikipedia.org/w/index.php?title=Hans_Lemp&action=edit&redlink=1 (response status 404)\n",
      "Error while fetching response from https://en.wikipedia.org/w/index.php?title=Rudolf_Kaffka&action=edit&redlink=1 (response status 404)\n",
      "Error while fetching response from https://en.wikipedia.org/w/index.php?title=Erich_Henke&action=edit&redlink=1 (response status 404)\n"
     ]
    },
    {
     "name": "stderr",
     "output_type": "stream",
     "text": [
      "Crawling Progress:   0%|          | 423/126497 [03:20<12:33:52,  2.79page/s]"
     ]
    },
    {
     "name": "stdout",
     "output_type": "stream",
     "text": [
      "Error while fetching response from https://en.wikipedia.org/w/index.php?title=Maria_Henze&action=edit&redlink=1 (response status 404)\n"
     ]
    },
    {
     "name": "stderr",
     "output_type": "stream",
     "text": [
      "Crawling Progress:   0%|          | 429/126497 [03:22<13:21:15,  2.62page/s]"
     ]
    },
    {
     "name": "stdout",
     "output_type": "stream",
     "text": [
      "Error while fetching response from https://en.wikipedia.org/w/index.php?title=Erwin_Folger&action=edit&redlink=1 (response status 404)Error while fetching response from https://en.wikipedia.org/w/index.php?title=Eberhard_Pohlmann&action=edit&redlink=1 (response status 404)\n",
      "\n",
      "Error while fetching response from https://en.wikipedia.org/w/index.php?title=Hermann_D%C3%BCrr&action=edit&redlink=1 (response status 404)\n",
      "Error while fetching response from https://en.wikipedia.org/w/index.php?title=Peter_W%C3%BCrtz&action=edit&redlink=1 (response status 404)\n"
     ]
    },
    {
     "name": "stderr",
     "output_type": "stream",
     "text": [
      "Crawling Progress:   0%|          | 432/126497 [03:25<16:19:32,  2.14page/s]"
     ]
    },
    {
     "name": "stdout",
     "output_type": "stream",
     "text": [
      "Error while fetching response from http://www.emeraldinsight.com/Insight/viewContentItem.do;jsessionid=9F328F753CC45ECD41DD5147379E5983?contentType=Article&hdAction=lnkpdf&contentId=1702699&history=true (response status 404)\n",
      "Error while fetching response from https://en.wikipedia.org/w/index.php?title=Heinrich_Gewandt&action=edit&redlink=1 (response status 404)\n"
     ]
    },
    {
     "name": "stderr",
     "output_type": "stream",
     "text": [
      "Crawling Progress:   0%|          | 437/126497 [03:26<14:38:56,  2.39page/s]"
     ]
    },
    {
     "name": "stdout",
     "output_type": "stream",
     "text": [
      "Error while fetching response from https://en.wikipedia.org/w/index.php?title=Martin_Schmidt_(politician)&action=edit&redlink=1 (response status 404)\n",
      "Error while fetching response from https://en.wikipedia.org/w/index.php?title=Kurt_Matthes&action=edit&redlink=1 (response status 404)\n"
     ]
    },
    {
     "name": "stderr",
     "output_type": "stream",
     "text": [
      "Crawling Progress:   0%|          | 440/126497 [03:28<16:22:09,  2.14page/s]"
     ]
    },
    {
     "name": "stdout",
     "output_type": "stream",
     "text": [
      "Error while fetching response from https://en.wikipedia.org/w/index.php?title=Richard_Tambl%C3%A9&action=edit&redlink=1 (response status 404)\n",
      "Error while fetching response from https://en.wikipedia.org/w/index.php?title=Gerhard_Kienbaum&action=edit&redlink=1 (response status 404)\n",
      "Error while fetching response from https://en.wikipedia.org/w/index.php?title=Albert_Leicht&action=edit&redlink=1 (response status 404)\n"
     ]
    },
    {
     "name": "stderr",
     "output_type": "stream",
     "text": [
      "Crawling Progress:   0%|          | 443/126497 [03:30<17:27:42,  2.01page/s]"
     ]
    },
    {
     "name": "stdout",
     "output_type": "stream",
     "text": [
      "Error while fetching response from https://en.wikipedia.org/w/index.php?title=Gerd_Springorum&action=edit&redlink=1 (response status 404)\n",
      "Error while fetching response from https://en.wikipedia.org/w/index.php?title=Lothar_Haase&action=edit&redlink=1 (response status 404)\n",
      "Error while fetching response from https://en.wikipedia.org/w/index.php?title=Karl_Gatzen&action=edit&redlink=1 (response status 404)\n"
     ]
    },
    {
     "name": "stderr",
     "output_type": "stream",
     "text": [
      "Crawling Progress:   0%|          | 446/126497 [03:35<25:51:22,  1.35page/s]"
     ]
    },
    {
     "name": "stdout",
     "output_type": "stream",
     "text": [
      "Error while fetching response from https://en.wikipedia.org/w/index.php?title=Georg_Kotowski&action=edit&redlink=1 (response status 404)\n"
     ]
    },
    {
     "name": "stderr",
     "output_type": "stream",
     "text": [
      "Crawling Progress:   0%|          | 450/126497 [03:36<21:32:07,  1.63page/s]"
     ]
    },
    {
     "name": "stdout",
     "output_type": "stream",
     "text": [
      "Error while fetching response from https://en.wikipedia.org/w/index.php?title=Kurt_Schober&action=edit&redlink=1 (response status 404)\n",
      "Error while fetching response from https://en.wikipedia.org/w/index.php?title=Hermann_Haage&action=edit&redlink=1 (response status 404)\n",
      "Error while fetching response from https://en.wikipedia.org/w/index.php?title=G%C3%BCnter_Biermann&action=edit&redlink=1 (response status 404)\n",
      "Error while fetching response from https://en.wikipedia.org/w/index.php?title=Herbert_Gruhl&action=edit&redlink=1 (response status 404)\n",
      "Error while fetching response from https://en.wikipedia.org/w/index.php?title=Franz_Varelmann&action=edit&redlink=1 (response status 404)\n",
      "Error while fetching response from https://en.wikipedia.org/w/index.php?title=August_Hanz&action=edit&redlink=1 (response status 404)\n"
     ]
    },
    {
     "name": "stderr",
     "output_type": "stream",
     "text": [
      "Crawling Progress:   0%|          | 456/126497 [03:38<18:35:59,  1.88page/s]"
     ]
    },
    {
     "name": "stdout",
     "output_type": "stream",
     "text": [
      "Error while fetching response from https://en.wikipedia.org/w/index.php?title=Paul_R%C3%B6hner&action=edit&redlink=1 (response status 404)\n",
      "Error while fetching response from https://en.wikipedia.org/w/index.php?title=Winfried_Pinger&action=edit&redlink=1 (response status 404)\n",
      "Error while fetching response from https://en.wikipedia.org/w/index.php?title=Eugen_Glombig&action=edit&redlink=1 (response status 404)\n",
      "Error while fetching response from https://en.wikipedia.org/w/index.php?title=Paul_Gerlach&action=edit&redlink=1 (response status 404)\n"
     ]
    },
    {
     "name": "stderr",
     "output_type": "stream",
     "text": [
      "Crawling Progress:   0%|          | 461/126497 [03:40<15:29:33,  2.26page/s]"
     ]
    },
    {
     "name": "stdout",
     "output_type": "stream",
     "text": [
      "Error while fetching response from https://en.wikipedia.org/w/index.php?title=Georg_Neemann&action=edit&redlink=1 (response status 404)Error while fetching response from https://en.wikipedia.org/w/index.php?title=Horst_Schmidt&action=edit&redlink=1 (response status 404)\n",
      "\n"
     ]
    },
    {
     "name": "stderr",
     "output_type": "stream",
     "text": [
      "Crawling Progress:   0%|          | 463/126497 [03:40<13:47:47,  2.54page/s]"
     ]
    },
    {
     "name": "stdout",
     "output_type": "stream",
     "text": [
      "Error while fetching response from https://en.wikipedia.org/w/index.php?title=Dieter_Hussing&action=edit&redlink=1 (response status 404)\n",
      "Error while fetching response from https://en.wikipedia.org/w/index.php?title=Otto_Schmidt_(politician)&action=edit&redlink=1 (response status 404)\n"
     ]
    },
    {
     "name": "stderr",
     "output_type": "stream",
     "text": [
      "Crawling Progress:   0%|          | 475/126497 [03:43<11:14:05,  3.12page/s]"
     ]
    },
    {
     "name": "stdout",
     "output_type": "stream",
     "text": [
      "Error while fetching response from https://en.wikipedia.org/w/index.php?title=Hans_Evers&action=edit&redlink=1 (response status 404)\n",
      "Error while fetching response from https://en.wikipedia.org/w/index.php?title=Maria_Stommel&action=edit&redlink=1 (response status 404)\n",
      "Error while fetching response from https://en.wikipedia.org/w/index.php?title=Franz_Marx_(politician)&action=edit&redlink=1 (response status 404)\n",
      "Error while fetching response from https://en.wikipedia.org/w/index.php?title=Franz_Seume&action=edit&redlink=1 (response status 404)\n",
      "Error while fetching response from https://en.wikipedia.org/w/index.php?title=Walther_Hellige&action=edit&redlink=1 (response status 404)\n",
      "Error while fetching response from https://en.wikipedia.org/w/index.php?title=Hans-Ulrich_Brand&action=edit&redlink=1 (response status 404)\n",
      "Error while fetching response from https://en.wikipedia.org/w/index.php?title=Erwin_H%C3%A4ussler&action=edit&redlink=1 (response status 404)\n",
      "Error while fetching response from https://en.wikipedia.org/w/index.php?title=Lothar_L%C3%B6ffler&action=edit&redlink=1 (response status 404)\n",
      "Error while fetching response from https://en.wikipedia.org/w/index.php?title=Willi_Fischer_(politician)&action=edit&redlink=1 (response status 404)\n",
      "Error while fetching response from https://en.wikipedia.org/w/index.php?title=Arthur_Killat&action=edit&redlink=1 (response status 404)\n"
     ]
    },
    {
     "name": "stderr",
     "output_type": "stream",
     "text": [
      "Crawling Progress:   0%|          | 482/126497 [03:59<44:03:47,  1.26s/page]"
     ]
    },
    {
     "name": "stdout",
     "output_type": "stream",
     "text": [
      "Request exception encountered at http://www.jafi.org.il/education/hasbara/headlines/a4-4.html: HTTPConnectionPool(host='www.jafi.org.il', port=80): Max retries exceeded with url: /education/hasbara/headlines/a4-4.html (Caused by ConnectTimeoutError(<urllib3.connection.HTTPConnection object at 0x11e9371f0>, 'Connection to www.jafi.org.il timed out. (connect timeout=15)'))\n",
      "Error while fetching response from https://en.wikipedia.org/w/index.php?title=Gustav_Stein&action=edit&redlink=1 (response status 404)\n",
      "Error while fetching response from https://en.wikipedia.org/w/index.php?title=Klaus_Schmid-Burgk&action=edit&redlink=1 (response status 404)\n",
      "Error while fetching response from https://en.wikipedia.org/w/index.php?title=Kurt_Spitzm%C3%BCller&action=edit&redlink=1 (response status 404)Error while fetching response from https://en.wikipedia.org/w/index.php?title=Manfred_Luda&action=edit&redlink=1 (response status 404)\n",
      "\n"
     ]
    },
    {
     "name": "stderr",
     "output_type": "stream",
     "text": [
      "Crawling Progress:   0%|          | 489/126497 [04:00<29:30:28,  1.19page/s]"
     ]
    },
    {
     "name": "stdout",
     "output_type": "stream",
     "text": [
      "Error while fetching response from https://en.wikipedia.org/w/index.php?title=Hugo_Hammans&action=edit&redlink=1 (response status 404)\n",
      "Error while fetching response from https://en.wikipedia.org/w/index.php?title=Hermann_Schmidt&action=edit&redlink=1 (response status 404)\n",
      "Error while fetching response from https://en.wikipedia.org/w/index.php?title=Siegfried_Meister_(politician)&action=edit&redlink=1 (response status 404)\n"
     ]
    },
    {
     "name": "stderr",
     "output_type": "stream",
     "text": [
      "Crawling Progress:   0%|          | 494/126497 [04:03<25:33:30,  1.37page/s]"
     ]
    },
    {
     "name": "stdout",
     "output_type": "stream",
     "text": [
      "Error while fetching response from https://en.wikipedia.org/w/index.php?title=Georg_Schulhoff&action=edit&redlink=1 (response status 404)\n"
     ]
    },
    {
     "name": "stderr",
     "output_type": "stream",
     "text": [
      "Crawling Progress:   0%|          | 498/126497 [04:05<23:30:47,  1.49page/s]"
     ]
    },
    {
     "name": "stdout",
     "output_type": "stream",
     "text": [
      "Error while fetching response from https://en.wikipedia.org/w/index.php?title=Willi_B%C3%A4uerle&action=edit&redlink=1 (response status 404)\n",
      "Error while fetching response from https://en.wikipedia.org/w/index.php?title=Klaus_Richter&action=edit&redlink=1 (response status 404)\n",
      "Error while fetching response from https://en.wikipedia.org/w/index.php?title=Albert_Schedl&action=edit&redlink=1 (response status 404)\n"
     ]
    },
    {
     "name": "stderr",
     "output_type": "stream",
     "text": [
      "Crawling Progress:   0%|          | 502/126497 [04:06<20:14:51,  1.73page/s]"
     ]
    },
    {
     "name": "stdout",
     "output_type": "stream",
     "text": [
      "Error while fetching response from https://en.wikipedia.org/w/index.php?title=Josef_R%C3%B6sing&action=edit&redlink=1 (response status 404)\n",
      "Error while fetching response from https://en.wikipedia.org/w/index.php?title=Otto_Freiherr_von_Fircks&action=edit&redlink=1 (response status 404)\n",
      "Error while fetching response from https://en.wikipedia.org/w/index.php?title=Josef_M%C3%BCller_(CDU_politician)&action=edit&redlink=1 (response status 404)\n"
     ]
    },
    {
     "name": "stderr",
     "output_type": "stream",
     "text": [
      "Crawling Progress:   0%|          | 509/126497 [04:08<15:58:33,  2.19page/s]"
     ]
    },
    {
     "name": "stdout",
     "output_type": "stream",
     "text": [
      "Error while fetching response from https://en.wikipedia.org/w/index.php?title=Heinz_Eyrich&action=edit&redlink=1 (response status 404)\n"
     ]
    },
    {
     "name": "stderr",
     "output_type": "stream",
     "text": [
      "Crawling Progress:   0%|          | 517/126497 [04:11<14:10:32,  2.47page/s]"
     ]
    },
    {
     "name": "stdout",
     "output_type": "stream",
     "text": [
      "Error while fetching response from https://en.wikipedia.org/w/index.php?title=Peter_S%C3%A4ckl&action=edit&redlink=1 (response status 404)\n"
     ]
    },
    {
     "name": "stderr",
     "output_type": "stream",
     "text": [
      "Crawling Progress:   0%|          | 553/126497 [04:51<25:57:20,  1.35page/s]"
     ]
    }
   ],
   "source": [
    "import sqlite3\n",
    "import requests\n",
    "from bs4 import BeautifulSoup\n",
    "import datetime\n",
    "from langdetect import detect, LangDetectException\n",
    "from tqdm import tqdm\n",
    "from concurrent.futures import ThreadPoolExecutor\n",
    "from urllib.parse import urljoin, urlparse\n",
    "\n",
    "DB_NAME = \"index.db\"\n",
    "NUM_WORKERS = 10\n",
    "FILTER_CONTENT = True\n",
    "TIMEOUT = 15\n",
    "TUEBINGEN_KEYWORDS = ['tübingen', 'tubingen', 'tuebingen', 'neckar', 'schwaben', 'swabia', 'university', 'uni',\n",
    "                      't%c3%bcbingen']\n",
    "\n",
    "def setup_database(db_name=DB_NAME, drop_existing=False):\n",
    "    conn = sqlite3.connect(db_name)\n",
    "    cursor = conn.cursor()\n",
    "\n",
    "    # option to reset the database\n",
    "    if drop_existing:\n",
    "        cursor.execute(\"DROP TABLE IF EXISTS frontier\")\n",
    "        cursor.execute(\"DROP TABLE IF EXISTS documents\")\n",
    "        cursor.execute(\"DROP TABLE IF EXISTS incoming_links\")\n",
    "\n",
    "    cursor.execute('''\n",
    "    CREATE TABLE IF NOT EXISTS frontier (\n",
    "        url TEXT PRIMARY KEY,\n",
    "        crawled INTEGER DEFAULT 0\n",
    "    )''')\n",
    "    cursor.execute('''\n",
    "    CREATE TABLE IF NOT EXISTS documents (\n",
    "        url TEXT PRIMARY KEY,\n",
    "        title TEXT,\n",
    "        content TEXT,\n",
    "        outgoing_links TEXT,\n",
    "        timestamp TEXT\n",
    "    )''')\n",
    "    conn.commit()\n",
    "    conn.close()\n",
    "\n",
    "def index_doc(doc, index_path):\n",
    "    conn = sqlite3.connect(index_path)\n",
    "    cursor = conn.cursor()\n",
    "    cursor.execute('''\n",
    "    INSERT OR IGNORE INTO documents (url, title, content, outgoing_links, timestamp)\n",
    "    VALUES (?, ?, ?, ?, ?)\n",
    "    ''', (doc['url'], doc['title'], doc['content'], ','.join(doc['outgoing_links']), doc['timestamp']))\n",
    "    conn.commit()\n",
    "\n",
    "def crawl_page(url):\n",
    "    try:\n",
    "\n",
    "        response = requests.get(url, timeout=TIMEOUT)  # Fetch the web page\n",
    "        if response.status_code != 200:\n",
    "            print(f\"Error while fetching response from {url} (response status {response.status_code})\")\n",
    "\n",
    "            # remove URL from frontier if status code is 404\n",
    "            if response.status_code == 404:\n",
    "                return \"404\"\n",
    "\n",
    "            return None\n",
    "\n",
    "        soup = BeautifulSoup(response.text, 'html.parser')  # Parse the HTML content\n",
    "        title = soup.title.string if soup.title else \"N/A\"\n",
    "        content = ' '.join(soup.stripped_strings)  # Using stripped_strings to clean up the text\n",
    "\n",
    "        # Filter out pages that do not contain \"tuebingen\" in their content or are not in English\n",
    "        if FILTER_CONTENT:\n",
    "            if not any(word in content.lower() for word in ['tübingen', 'tubingen', 'tuebingen']):\n",
    "                return None\n",
    "\n",
    "            try:\n",
    "                if detect(content) != 'en':\n",
    "                    return None\n",
    "            except LangDetectException:\n",
    "                return None\n",
    "\n",
    "        # get all outgoing links and transform them into absolute URLs\n",
    "        links = [link.get('href') for link in soup.find_all('a', href=True)]\n",
    "        absolute_links = []\n",
    "        for link in links:\n",
    "            # Create absolute URL and parse it\n",
    "            abs_url = urljoin(url, link)\n",
    "            parsed_url = urlparse(abs_url)\n",
    "\n",
    "            # Check if the URL is valid (i.e., it has a network location part and scheme)\n",
    "            if parsed_url.scheme and parsed_url.netloc:\n",
    "                absolute_links.append(abs_url)\n",
    "\n",
    "        links = list(set(absolute_links))  # Remove duplicates\n",
    "\n",
    "        doc = {\n",
    "            'url': url,\n",
    "            'title': title,\n",
    "            'content': content,\n",
    "            'outgoing_links': links,\n",
    "            'timestamp': datetime.datetime.now().isoformat()\n",
    "        }\n",
    "\n",
    "    except requests.RequestException as e:\n",
    "        print(f\"Request exception encountered at {url}: {e}\")\n",
    "        return None\n",
    "    except Exception as e:\n",
    "        print(f\"Unexpected exception encountered at {url}: {e}\")\n",
    "        return None\n",
    "\n",
    "    return doc\n",
    "\n",
    "def crawl(index_path):\n",
    "    conn = sqlite3.connect(index_path)\n",
    "    cursor = conn.cursor()\n",
    "\n",
    "    # Calculate total number of URLs to be crawled\n",
    "    cursor.execute(\"SELECT COUNT(*) FROM frontier WHERE crawled = 0\")\n",
    "    total_to_crawl = cursor.fetchone()[0]\n",
    "\n",
    "    with tqdm(total=total_to_crawl, desc=\"Crawling Progress\", unit=\"page\") as pbar:\n",
    "        while True:\n",
    "            cursor.execute(\"SELECT url FROM frontier WHERE crawled = 0 LIMIT 10\")\n",
    "            rows = cursor.fetchall()\n",
    "            if not rows:\n",
    "                break\n",
    "\n",
    "            urls = [row[0] for row in rows]\n",
    "            with ThreadPoolExecutor(max_workers=NUM_WORKERS) as executor:\n",
    "                results = executor.map(lambda url: crawl_page(url), urls)\n",
    "\n",
    "            for url, doc in zip(urls, results):\n",
    "                if doc:\n",
    "\n",
    "                    # Remove URL from frontier if status code is 404\n",
    "                    if doc == \"404\":\n",
    "                        cursor.execute(\"DELETE FROM frontier WHERE url = ?\", (url,))\n",
    "                        conn.commit()\n",
    "                        pbar.update(1)\n",
    "                        continue\n",
    "\n",
    "                    cursor.execute(\"SELECT 1 FROM documents WHERE url = ? LIMIT 1\", (doc['url'],))\n",
    "                    if cursor.fetchone() is None:\n",
    "                        index_doc(doc, index_path)\n",
    "                        pbar.update(1)\n",
    "\n",
    "                cursor.execute(\"UPDATE frontier SET crawled = 1 WHERE url = ?\", (url,))\n",
    "                conn.commit()\n",
    "                if doc:\n",
    "                    for link in doc['outgoing_links']:\n",
    "                        cursor.execute(\"INSERT OR IGNORE INTO frontier (url) VALUES (?)\", (link,))\n",
    "                        conn.commit()\n",
    "    \n",
    "    conn.close()\n",
    "\n",
    "def initialize_frontier(initial_urls, db_name=DB_NAME):\n",
    "    conn = sqlite3.connect(db_name)\n",
    "    cursor = conn.cursor()\n",
    "    for url in initial_urls:\n",
    "        cursor.execute(\"INSERT OR IGNORE INTO frontier (url) VALUES (?)\", (url,))\n",
    "    conn.commit()\n",
    "    conn.close()\n",
    "\n",
    "    print(f\"Inserted {len(initial_urls)} URLs into the frontier table\")\n",
    "\n",
    "    return None\n",
    "\n",
    "def calculate_incoming_links(db_name=DB_NAME):\n",
    "    conn = sqlite3.connect(db_name)\n",
    "    cursor = conn.cursor()\n",
    "\n",
    "    # Create a temporary table to store incoming links\n",
    "    cursor.execute('''\n",
    "    CREATE TABLE IF NOT EXISTS incoming_links (\n",
    "        url TEXT PRIMARY KEY,\n",
    "        incoming_count INTEGER DEFAULT 0\n",
    "    )''')\n",
    "\n",
    "    # Clear any existing data\n",
    "    cursor.execute(\"DELETE FROM incoming_links\")\n",
    "\n",
    "    # Retrieve all documents and their outgoing links\n",
    "    cursor.execute(\"SELECT url, outgoing_links FROM documents\")\n",
    "    rows = cursor.fetchall()\n",
    "\n",
    "    for row in rows:\n",
    "        url, outgoing_links = row\n",
    "        outgoing_links_list = outgoing_links.split(',')\n",
    "\n",
    "        for link in outgoing_links_list:\n",
    "            cursor.execute('''\n",
    "            INSERT INTO incoming_links (url, incoming_count)\n",
    "            VALUES (?, 1)\n",
    "            ON CONFLICT(url) DO UPDATE SET incoming_count = incoming_count + 1\n",
    "            ''', (link,))\n",
    "\n",
    "    conn.commit()\n",
    "    conn.close()\n",
    "\n",
    "# Initialize and run the crawler\n",
    "initial_urls = [\n",
    "    \"https://www.tuebingen.de/en/\",\n",
    "    \"https://en.wikipedia.org/wiki/T%C3%BCbingen\",\n",
    "    \"https://www.uni-tuebingen.de/en.html\"\n",
    "]\n",
    "\n",
    "setup_database()\n",
    "initialize_frontier(initial_urls)\n",
    "crawl(\"index.db\")\n",
    "calculate_incoming_links()"
   ]
  },
  {
   "cell_type": "code",
   "execution_count": 19,
   "metadata": {},
   "outputs": [
    {
     "name": "stdout",
     "output_type": "stream",
     "text": [
      "Welcome to Tübingen - City of Tuebingen https://www.tuebingen.de/en/\n",
      "Tübingen - Wikipedia https://en.wikipedia.org/wiki/T%C3%BCbingen\n",
      "Culture and Leisure - City of Tuebingen https://www.tuebingen.de/en/3515.html\n",
      "Welcome to Tübingen - City of Tuebingen https://www.tuebingen.de/en\n",
      "Portrait of the City - City of Tuebingen https://www.tuebingen.de/en/1815.html\n",
      "Imprint - City of Tuebingen https://www.tuebingen.de/en/1821.html\n",
      "Immigration office - City of Tuebingen https://www.tuebingen.de/en/42067.html\n",
      "European Elections 2024 - City of Tuebingen https://www.tuebingen.de/en/42070.html\n",
      "City and Guests - City of Tuebingen https://www.tuebingen.de/en/3494.html\n",
      "Ralf Dahrendorf - Wikipedia https://en.wikipedia.org/wiki/Ralf_Dahrendorf\n",
      "Tübingen - Wikipedia https://en.wikipedia.org/wiki/T%C3%BCbingen#cite_ref-14\n",
      "Johann Friedrich Cotta - Wikipedia https://en.wikipedia.org/wiki/Johann_Friedrich_Cotta\n",
      "Pfrondorf - Wikipedia https://en.wikipedia.org/wiki/Pfrondorf\n",
      "Tübingen - Wikipedia https://en.wikipedia.org/wiki/T%C3%BCbingen#cite_note-26\n",
      "Johann Gottlieb Friedrich von Bohnenberger - Wikipedia https://en.wikipedia.org/wiki/Johann_Gottlieb_Friedrich_von_Bohnenberger\n",
      "Ernst Bloch - Wikipedia https://en.wikipedia.org/wiki/Ernst_Bloch\n",
      "Tigers Tübingen - Wikipedia https://en.wikipedia.org/wiki/Tigers_T%C3%BCbingen\n",
      "Editing Tübingen (section) - Wikipedia https://en.wikipedia.org/w/index.php?title=T%C3%BCbingen&action=edit&section=20\n",
      "Christian Gmelin - Wikipedia https://en.wikipedia.org/wiki/Christian_Gottlob_Gmelin\n",
      "Tübingen - Wikipedia https://en.wikipedia.org/wiki/T%C3%BCbingen#cite_note-32\n"
     ]
    }
   ],
   "source": [
    "def print_first_10_urls(db_name=DB_NAME):\n",
    "    conn = sqlite3.connect(db_name)\n",
    "    cursor = conn.cursor()\n",
    "\n",
    "    cursor.execute(\"SELECT title, url FROM documents LIMIT 20\")\n",
    "    rows = cursor.fetchall()\n",
    "    for row in rows:\n",
    "        print(row[0], row[1])\n",
    "\n",
    "    conn.close()\n",
    "\n",
    "# Call the function to print the first 10 URLs\n",
    "print_first_10_urls()"
   ]
  },
  {
   "cell_type": "code",
   "execution_count": 21,
   "metadata": {},
   "outputs": [
    {
     "name": "stdout",
     "output_type": "stream",
     "text": [
      "Total number of documents indexed: 489\n"
     ]
    }
   ],
   "source": [
    "def get_total_indexed_docs(db_name=DB_NAME):\n",
    "    conn = sqlite3.connect(db_name)\n",
    "    cursor = conn.cursor()\n",
    "\n",
    "    cursor.execute(\"SELECT count(*) FROM documents\")\n",
    "    total_count = cursor.fetchone()\n",
    "    print(f\"Total number of documents indexed: {total_count[0]}\")\n",
    "\n",
    "    conn.close()\n",
    "\n",
    "get_total_indexed_docs()"
   ]
  },
  {
   "cell_type": "code",
   "execution_count": 22,
   "metadata": {},
   "outputs": [
    {
     "name": "stdout",
     "output_type": "stream",
     "text": [
      "Total number of URLs remaining in the frontier: 126406\n"
     ]
    }
   ],
   "source": [
    "def count_remaining_frontier(db_name=DB_NAME):\n",
    "    conn = sqlite3.connect(db_name)\n",
    "    cursor = conn.cursor()\n",
    "\n",
    "    cursor.execute(\"SELECT count(*) FROM frontier WHERE crawled = 0\")\n",
    "    total_count = cursor.fetchone()\n",
    "    print(f\"Total number of URLs remaining in the frontier: {total_count[0]}\")\n",
    "\n",
    "    conn.close()\n",
    "\n",
    "count_remaining_frontier()"
   ]
  },
  {
   "cell_type": "code",
   "execution_count": 5,
   "metadata": {},
   "outputs": [
    {
     "name": "stderr",
     "output_type": "stream",
     "text": [
      "/Users/Felix/opt/anaconda3/envs/MSE_project/lib/python3.9/site-packages/tqdm/auto.py:21: TqdmWarning: IProgress not found. Please update jupyter and ipywidgets. See https://ipywidgets.readthedocs.io/en/stable/user_install.html\n",
      "  from .autonotebook import tqdm as notebook_tqdm\n"
     ]
    }
   ],
   "source": [
    "#Add a document to the index. You need (at least) two parameters:\n",
    "\t#doc: The document to be indexed.\n",
    "\t#index: The location of the local index storing the discovered documents.\n",
    "def index_doc(doc, index_path):\n",
    "    conn = sqlite3.connect(index_path)\n",
    "    cursor = conn.cursor()\n",
    "    cursor.execute('''\n",
    "    INSERT OR IGNORE INTO documents (url, title, content, outgoing_links, timestamp)\n",
    "    VALUES (?, ?, ?, ?, ?)\n",
    "    ''', (doc['url'], doc['title'], doc['content'], ','.join(doc['outgoing_links']), doc['timestamp']))\n",
    "    conn.commit()\n",
    "    \n",
    "import spacy\n",
    "\n",
    "# Load the spaCy model\n",
    "nlp = spacy.load(\"en_core_web_sm\")\n",
    "\n",
    "def is_relevant(content):\n",
    "    # Check for simple keyword presence\n",
    "    if not any(word in content for word in ['Tübingen', 'Tubingen', 'Tuebingen', 'tübingen', 'tubingen', 'tuebingen']):\n",
    "        return False\n",
    "    \n",
    "    # Perform NER and check for geographic relevance\n",
    "    doc = nlp(content)\n",
    "    for ent in doc.ents:\n",
    "        if ent.label_ == \"GPE\" and \"tübingen\" in ent.text.lower():\n",
    "            return True\n",
    "    return False\n",
    "\n",
    "def index_doc(doc, index_path):\n",
    "    if not is_relevant(doc['content']):\n",
    "        #print(\"Skipping non-relevant document.\")\n",
    "        return\n",
    "\n",
    "    conn = sqlite3.connect(index_path)\n",
    "    cursor = conn.cursor()\n",
    "    cursor.execute('''\n",
    "    INSERT OR IGNORE INTO documents (url, title, content, outgoing_links, timestamp)\n",
    "    VALUES (?, ?, ?, ?, ?)\n",
    "    ''', (doc['url'], doc['title'], doc['content'], ','.join(doc['outgoing_links']), doc['timestamp']))\n",
    "    conn.commit()\n",
    "    conn.close()\n",
    "\n",
    "    conn.close()"
   ]
  },
  {
   "cell_type": "code",
   "execution_count": 3,
   "metadata": {},
   "outputs": [
    {
     "ename": "ModuleNotFoundError",
     "evalue": "No module named 'selenium'",
     "output_type": "error",
     "traceback": [
      "\u001b[0;31m---------------------------------------------------------------------------\u001b[0m",
      "\u001b[0;31mModuleNotFoundError\u001b[0m                       Traceback (most recent call last)",
      "Cell \u001b[0;32mIn[3], line 1\u001b[0m\n\u001b[0;32m----> 1\u001b[0m \u001b[38;5;28;01mfrom\u001b[39;00m \u001b[38;5;21;01mselenium\u001b[39;00m \u001b[38;5;28;01mimport\u001b[39;00m webdriver\n\u001b[1;32m      2\u001b[0m \u001b[38;5;28;01mfrom\u001b[39;00m \u001b[38;5;21;01mselenium\u001b[39;00m\u001b[38;5;21;01m.\u001b[39;00m\u001b[38;5;21;01mwebdriver\u001b[39;00m\u001b[38;5;21;01m.\u001b[39;00m\u001b[38;5;21;01mcommon\u001b[39;00m\u001b[38;5;21;01m.\u001b[39;00m\u001b[38;5;21;01mby\u001b[39;00m \u001b[38;5;28;01mimport\u001b[39;00m By\n\u001b[1;32m      3\u001b[0m \u001b[38;5;28;01mfrom\u001b[39;00m \u001b[38;5;21;01mselenium\u001b[39;00m\u001b[38;5;21;01m.\u001b[39;00m\u001b[38;5;21;01mwebdriver\u001b[39;00m\u001b[38;5;21;01m.\u001b[39;00m\u001b[38;5;21;01mchrome\u001b[39;00m\u001b[38;5;21;01m.\u001b[39;00m\u001b[38;5;21;01mservice\u001b[39;00m \u001b[38;5;28;01mimport\u001b[39;00m Service \u001b[38;5;28;01mas\u001b[39;00m Service\n",
      "\u001b[0;31mModuleNotFoundError\u001b[0m: No module named 'selenium'"
     ]
    }
   ],
   "source": [
    "from selenium import webdriver\n",
    "from selenium.webdriver.common.by import By\n",
    "from selenium.webdriver.chrome.service import Service as Service\n",
    "from selenium.webdriver.chrome.options import Options\n",
    "#from webdriver_manager.chrome import ChromeDriverManager\n",
    "import time\n",
    "from bs4 import BeautifulSoup\n",
    "import datetime\n",
    "from langdetect import detect, LangDetectException\n",
    "from concurrent.futures import ThreadPoolExecutor\n",
    "from tqdm import tqdm\n",
    "\n",
    "def crawl_page(url, index_path):\n",
    "    options = Options()\n",
    "    options.headless = True\n",
    "    options.add_argument('--no-sandbox')\n",
    "    service = Service(\"/opt/homebrew/Caskroom/chromedriver/126.0.6478.126/chromedriver-mac-arm64/chromedriver\")\n",
    "    driver = webdriver.Chrome(service=service, options=options)\n",
    "    try:\n",
    "        driver.get(url)\n",
    "        time.sleep(3)  # Wait for the page to load\n",
    "\n",
    "        soup = BeautifulSoup(driver.page_source, 'html.parser')\n",
    "        title = soup.title.string if soup.title else \"\"\n",
    "        content = soup.get_text(separator=' ', strip=True)\n",
    "\n",
    "        # Check if the page contains the word \"Tübingen\"\n",
    "        if not any(word in content for word in ['Tübingen', 'Tubingen', 'Tuebingen', 'tübingen', 'tubingen', 'tuebingen']):\n",
    "            #print(f\"Skipping url {url} Page does not contain Tübingen...\")\n",
    "            return None\n",
    "\n",
    "        # Check if English content is present\n",
    "        if not any(word in content for word in ['the', 'and', 'is', 'in']):\n",
    "            #print(f\"Skipping url {url} Page does not contain English content\")\n",
    "            return None\n",
    "\n",
    "        # Language detection\n",
    "        try:\n",
    "            if detect(content) != 'en':\n",
    "                #print(f\"Skipping url {url} Page does not contain English content\")\n",
    "                return None\n",
    "        except LangDetectException:\n",
    "            return None\n",
    "\n",
    "        links = [link.get_attribute(\"href\") for link in driver.find_elements(By.TAG_NAME, \"a\") if link.get_attribute(\"href\") and \"tuebingen\" in link.get_attribute(\"href\").lower()]\n",
    "        doc = {\n",
    "            'url': url,\n",
    "            'title': title,\n",
    "            'content': content,\n",
    "            'outgoing_links': links,\n",
    "            'timestamp': datetime.datetime.now().isoformat()\n",
    "        }\n",
    "\n",
    "    except (StaleElementReferenceException, TimeoutException, NoSuchElementException) as e:\n",
    "        print(f\"Exception {type(e).__name__} encountered at {url}: {e}\")\n",
    "        return None\n",
    "    except Exception as e:\n",
    "        print(f\"Unexpected exception encountered at {url}: {e}\")\n",
    "        return None\n",
    "    finally:\n",
    "        driver.quit()\n",
    "\n",
    "    return doc\n",
    "\n",
    "def crawl(frontier, index_path):\n",
    "    conn = sqlite3.connect(index_path)\n",
    "    cursor = conn.cursor()\n",
    "\n",
    "    # Calculate total number of URLs to be crawled\n",
    "    cursor.execute(\"SELECT COUNT(*) FROM frontier WHERE crawled = 0\")\n",
    "    total_to_crawl = cursor.fetchone()[0]\n",
    "\n",
    "    with tqdm(total=total_to_crawl, desc=\"Crawling Progress\", unit=\"page\") as pbar:\n",
    "        while True:\n",
    "            cursor.execute(\"SELECT url FROM frontier WHERE crawled = 0 LIMIT 10\")\n",
    "            rows = cursor.fetchall()\n",
    "            if not rows:\n",
    "                break\n",
    "\n",
    "            urls = [row[0] for row in rows]\n",
    "            with ThreadPoolExecutor(max_workers=2) as executor:\n",
    "                results = executor.map(lambda url: crawl_page(url, index_path), urls)\n",
    "\n",
    "            for url, doc in zip(urls, results):\n",
    "                if doc:\n",
    "                    cursor.execute(\"SELECT 1 FROM documents WHERE url = ? LIMIT 1\", (doc['url'],))\n",
    "                    if cursor.fetchone() is None:\n",
    "                        index_doc(doc, index_path)\n",
    "                        pbar.update(1)\n",
    "                cursor.execute(\"UPDATE frontier SET crawled = 1 WHERE url = ?\", (url,))\n",
    "                conn.commit()\n",
    "                if doc:\n",
    "                    for link in doc['outgoing_links']:\n",
    "                        cursor.execute(\"INSERT OR IGNORE INTO frontier (url) VALUES (?)\", (link,))\n",
    "                        conn.commit()\n",
    "    \n",
    "    conn.close()\n",
    "\n",
    "def initialize_frontier(initial_urls, db_name=\"crawler.db\"):\n",
    "    conn = sqlite3.connect(db_name)\n",
    "    cursor = conn.cursor()\n",
    "    for url in initial_urls:\n",
    "        cursor.execute(\"INSERT OR IGNORE INTO frontier (url) VALUES (?)\", (url,))\n",
    "    conn.commit()\n",
    "    conn.close()\n",
    "\n",
    "def calculate_incoming_links(db_name=\"crawler.db\"):\n",
    "    conn = sqlite3.connect(db_name)\n",
    "    cursor = conn.cursor()\n",
    "\n",
    "    # Create a temporary table to store incoming links\n",
    "    cursor.execute('''\n",
    "    CREATE TABLE IF NOT EXISTS incoming_links (\n",
    "        url TEXT PRIMARY KEY,\n",
    "        incoming_count INTEGER DEFAULT 0\n",
    "    )''')\n",
    "\n",
    "    # Clear any existing data\n",
    "    cursor.execute(\"DELETE FROM incoming_links\")\n",
    "\n",
    "    # Retrieve all documents and their outgoing links\n",
    "    cursor.execute(\"SELECT url, outgoing_links FROM documents\")\n",
    "    rows = cursor.fetchall()\n",
    "\n",
    "    for row in rows:\n",
    "        url, outgoing_links = row\n",
    "        outgoing_links_list = outgoing_links.split(',')\n",
    "\n",
    "        for link in outgoing_links_list:\n",
    "            cursor.execute('''\n",
    "            INSERT INTO incoming_links (url, incoming_count)\n",
    "            VALUES (?, 1)\n",
    "            ON CONFLICT(url) DO UPDATE SET incoming_count = incoming_count + 1\n",
    "            ''', (link,))\n",
    "\n",
    "    conn.commit()\n",
    "    conn.close()\n",
    "\n",
    "# Initialize and run the crawler\n",
    "initial_urls = [\n",
    "    \"https://www.tuebingen.de/en/\",\n",
    "    #\"https://en.wikipedia.org/wiki/T%C3%BCbingen\",\n",
    "    #\"https://www.uni-tuebingen.de/en.html\"\n",
    "]\n",
    "\n",
    "setup_database()\n",
    "initialize_frontier(initial_urls)\n",
    "crawl(\"crawler.db\", \"crawler.db\")\n",
    "calculate_incoming_links()"
   ]
  },
  {
   "cell_type": "code",
   "execution_count": 7,
   "metadata": {},
   "outputs": [
    {
     "ename": "ModuleNotFoundError",
     "evalue": "No module named 'bs4'",
     "output_type": "error",
     "traceback": [
      "\u001b[0;31m---------------------------------------------------------------------------\u001b[0m",
      "\u001b[0;31mModuleNotFoundError\u001b[0m                       Traceback (most recent call last)",
      "Cell \u001b[0;32mIn[7], line 2\u001b[0m\n\u001b[1;32m      1\u001b[0m \u001b[38;5;28;01mimport\u001b[39;00m \u001b[38;5;21;01mrequests\u001b[39;00m\n\u001b[0;32m----> 2\u001b[0m \u001b[38;5;28;01mfrom\u001b[39;00m \u001b[38;5;21;01mbs4\u001b[39;00m \u001b[38;5;28;01mimport\u001b[39;00m BeautifulSoup\n\u001b[1;32m      3\u001b[0m \u001b[38;5;28;01mimport\u001b[39;00m \u001b[38;5;21;01mdatetime\u001b[39;00m\n\u001b[1;32m      4\u001b[0m \u001b[38;5;28;01mfrom\u001b[39;00m \u001b[38;5;21;01mlangdetect\u001b[39;00m \u001b[38;5;28;01mimport\u001b[39;00m detect, LangDetectException\n",
      "\u001b[0;31mModuleNotFoundError\u001b[0m: No module named 'bs4'"
     ]
    }
   ],
   "source": [
    "import requests\n",
    "from bs4 import BeautifulSoup\n",
    "import datetime\n",
    "from langdetect import detect, LangDetectException\n",
    "\n",
    "def crawl_page(url, index_path):\n",
    "    try:\n",
    "        response = requests.get(url, timeout=10)  # Fetch the web page\n",
    "        if response.status_code != 200:\n",
    "            return None\n",
    "\n",
    "        soup = BeautifulSoup(response.text, 'html.parser')\n",
    "        title = soup.title.string if soup.title else \"\"\n",
    "        content = ' '.join(soup.stripped_strings)  # Using stripped_strings to clean up the text\n",
    "\n",
    "        # Check if the page contains the word \"Tübingen\"\n",
    "        if not any(word in content.lower() for word in ['tübingen', 'tubingen', 'tuebingen']):\n",
    "            return None\n",
    "\n",
    "        # Check if English content is present\n",
    "        if not any(word in content.lower() for word in ['the', 'and', 'is', 'in']):\n",
    "            return None\n",
    "\n",
    "        # Language detection\n",
    "        try:\n",
    "            if detect(content) != 'en':\n",
    "                return None\n",
    "        except LangDetectException:\n",
    "            return None\n",
    "\n",
    "        # Extract outgoing links that contain \"tuebingen\"\n",
    "        links = [a['href'] for a in soup.find_all('a', href=True) if \"tuebingen\" in a['href'].lower()]\n",
    "\n",
    "        doc = {\n",
    "            'url': url,\n",
    "            'title': title,\n",
    "            'content': content,\n",
    "            'outgoing_links': links,\n",
    "            'timestamp': datetime.datetime.now().isoformat()\n",
    "        }\n",
    "\n",
    "    except requests.RequestException as e:\n",
    "        print(f\"Request exception encountered at {url}: {e}\")\n",
    "        return None\n",
    "    except Exception as e:\n",
    "        print(f\"Unexpected exception encountered at {url}: {e}\")\n",
    "        return None\n",
    "\n",
    "    return doc"
   ]
  },
  {
   "cell_type": "code",
   "execution_count": 4,
   "metadata": {},
   "outputs": [
    {
     "name": "stdout",
     "output_type": "stream",
     "text": [
      "Welcome to Tübingen - City of Tuebingen https://www.tuebingen.de/en/\n",
      "Tübingen - Wikipedia https://en.wikipedia.org/wiki/T%C3%BCbingen\n",
      "Welcome to Tübingen - City of Tuebingen https://www.tuebingen.de/en\n",
      "Immigration office - City of Tuebingen https://www.tuebingen.de/en/42067.html\n",
      "European Elections 2024 - City of Tuebingen https://www.tuebingen.de/en/42070.html\n",
      "Portrait of the City - City of Tuebingen https://www.tuebingen.de/en/1815.html\n",
      "City and Guests - City of Tuebingen https://www.tuebingen.de/en/3494.html\n",
      "Culture and Leisure - City of Tuebingen https://www.tuebingen.de/en/3515.html\n",
      "Imprint - City of Tuebingen https://www.tuebingen.de/en/1821.html\n",
      "Welcome to Tübingen - City of Tuebingen https://www.tuebingen.de/en/#\n",
      "File:Altstadt-tuebingen-1.jpg - Wikipedia https://en.wikipedia.org/wiki/File:Altstadt-tuebingen-1.jpg\n",
      "File:Wappen Tuebingen.svg - Wikipedia https://en.wikipedia.org/wiki/File:Wappen_Tuebingen.svg\n",
      "File:TuebingenNeckar.jpg - Wikipedia https://en.wikipedia.org/wiki/File:TuebingenNeckar.jpg\n",
      "File:TuebingenNeckarfront3.jpg - Wikipedia https://en.wikipedia.org/wiki/File:TuebingenNeckarfront3.jpg\n",
      "File:TuebingenStiftskirche.jpg - Wikipedia https://en.wikipedia.org/wiki/File:TuebingenStiftskirche.jpg\n",
      "uni-tuebingen.de https://uni-tuebingen.de/index.php?eID=tx_nawsecuredl&u=0&file=fileadmin/Uni_Tuebingen/Dezernate/Dezernat_II/studentenstatistiken/statistik-ws-20132014.pdf&t=1396474438&hash=170226b5ae438eb3c10a4601bea8314bc4209582\n",
      "Tübingen climate: Weather Tübingen & temperature by month  https://en.climate-data.org/europe/germany/baden-wuerttemberg/tuebingen-22712/\n",
      "Sister Cities - Universitätsstadt Tübingen https://web.archive.org/web/20090417002710/http://www.tuebingen.de/en/1560_1587.html\n",
      "Immigration office - City of Tuebingen https://www.tuebingen.de/en/42067.html#\n",
      "European Elections 2024 - City of Tuebingen https://www.tuebingen.de/en/42070.html#\n"
     ]
    }
   ],
   "source": [
    "def print_first_10_urls(db_name=\"crawler.db\"):\n",
    "    conn = sqlite3.connect(db_name)\n",
    "    cursor = conn.cursor()\n",
    "\n",
    "    cursor.execute(\"SELECT title, url FROM documents LIMIT 20\")\n",
    "    rows = cursor.fetchall()\n",
    "    for row in rows:\n",
    "        print(row[0], row[1])\n",
    "\n",
    "    conn.close()\n",
    "\n",
    "# Call the function to print the first 10 URLs\n",
    "print_first_10_urls()"
   ]
  },
  {
   "cell_type": "code",
   "execution_count": 4,
   "metadata": {},
   "outputs": [
    {
     "name": "stdout",
     "output_type": "stream",
     "text": [
      "[(642, 4.775923434800474), (640, 4.772457630479728), (908, 4.767770040902589), (906, 4.764316055753173), (517, 4.730409989359467), (515, 4.726479081441341), (188, 4.054680750861058), (1464, 4.054680750861058), (1465, 4.054680750861058), (1466, 4.054680750861058), (1467, 4.054680750861058), (1468, 4.054680750861058), (1469, 4.054680750861058), (1470, 4.054680750861058), (1471, 4.054680750861058), (1472, 4.054680750861058), (1473, 4.054680750861058), (1474, 4.054680750861058), (1475, 4.054680750861058), (6, 3.9613292950762737), (33, 3.9613292950762737), (764, 3.8941387383641075), (753, 3.806703113051436), (111, 3.744614494818716), (749, 3.744614494818716), (752, 3.744614494818716), (763, 3.744614494818716), (1596, 3.679187373316038), (201, 3.589702882214677), (1044, 3.5636051636334285), (1048, 3.56168557335207), (914, 3.5532638862560453), (923, 3.454863322129475), (150, 3.4530590656906055), (22, 3.418466973778695), (169, 3.418466973778695), (37, 3.405789140766824), (212, 3.405789140766824), (161, 3.3994854220476447), (30, 3.382789026876254), (190, 3.382789026876254), (7, 3.3703739650486186), (39, 3.3703739650486186), (29, 3.3642005446209486), (189, 3.3642005446209486), (20, 3.358049698210715), (156, 3.358049698210715), (23, 3.335687740334655), (181, 3.335687740334655), (32, 3.3216118155561185), (197, 3.3216118155561185), (4, 3.3196106608749036), (19, 3.3196106608749036), (25, 3.301708189874806), (185, 3.301708189874806), (35, 3.2859562125597748), (207, 3.2859562125597748), (160, 3.2839977771260145), (5, 3.28204167476337), (27, 3.28204167476337), (165, 3.2800879013052646), (31, 3.2722960135331323), (162, 3.2722960135331323), (191, 3.2722960135331323), (21, 3.2684139354693227), (158, 3.2684139354693227), (24, 3.2587489191915022), (163, 3.2587489191915022), (167, 3.2587489191915022), (183, 3.2587489191915022), (164, 3.2510579647970403), (38, 3.247226085086727), (168, 3.247226085086727), (214, 3.247226085086727), (159, 3.2453135305881418), (34, 3.2376857888071475), (206, 3.2376857888071475), (166, 3.233885348240585), (192, 3.228201386775079), (0, 3.226311170477553), (2, 3.226311170477553), (9, 3.226311170477553), (153, 3.226311170477553), (174, 3.2244231664501974), (176, 3.2244231664501974), (178, 3.2131413832282165), (36, 3.211268756915806), (179, 3.211268756915806), (208, 3.211268756915806), (180, 3.200078676896136), (26, 3.1963659604614785), (171, 3.1963659604614785), (186, 3.1963659604614785), (195, 3.1945128309784554), (196, 3.188966312619123), (193, 3.185279321587614), (172, 3.181600846296195), (154, 3.176099035945854), (1073, 3.176099035945854), (210, 3.1687928199967605), (170, 3.1669715151875653), (173, 3.1651523028128814), (177, 3.1651523028128814), (213, 3.156087501612454), (175, 3.148872959082134), (157, 3.145278042560311), (1096, 3.145278042560311), (1099, 3.145278042560311), (211, 3.138112778276508), (1065, 3.136326560303026), (1075, 3.132760217725253), (1061, 3.1203416367585017), (1057, 3.1150494765658987), (1060, 3.104518827765178), (209, 3.0992801580225775), (1054, 3.0940591383126206), (1067, 3.075064972556086), (756, 3.0733497877546543), (1063, 3.0699251518468125), (1052, 3.0529158202320983), (1071, 3.0529158202320983), (1074, 3.0512252480028947), (8, 3.046164746669542), (40, 3.046164746669542), (199, 3.046164746669542), (194, 3.0394434652352325), (1066, 3.0377677767992846), (1068, 3.0377677767992846), (202, 3.0360939350070177), (1055, 3.0344219368075533), (1051, 3.024428493054403), (1064, 3.019456414603741), (1050, 2.998098314416984), (1069, 2.9964678920276886), (1070, 2.994839241983429), (1062, 2.9674205853150344), (1056, 2.945214667545689), (1072, 2.937364310588931), (1053, 2.93267415217309), (1058, 2.9079107959124246), (759, 2.9031432987987276), (28, 2.886583398732035), (187, 2.886583398732035), (198, 2.874536187954732), (200, 2.874536187954732), (205, 2.820101114108175), (1059, 2.801461482704865), (155, 2.797194967668902), (204, 2.7957756824065716), (3, 2.790112914975295), (18, 2.790112914975295), (1100, 2.7483624163253535), (203, 2.7320099914685345), (360, 2.730504932959474), (358, 2.7096917175368493), (1595, 2.7096917175368493), (1097, 2.684099781671668), (1098, 2.678879949598227), (1403, 2.6769508239453526), (1400, 2.628425955266678), (1087, 2.5070199575248067), (182, 2.4721509883219), (1095, 2.4611089192820366), (1094, 2.458912331787273), (1076, 2.375176627189901), (1091, 2.339874477876176), (1092, 2.3211463948746345), (1081, 2.307537465482578), (1084, 2.304642001812506), (1078, 2.296956171360021), (685, 2.2742032141054476), (1077, 2.2742032141054476), (1080, 2.271390749871005), (1082, 2.262065902371434), (927, 2.2610339955574927), (1085, 2.2565076540365667), (1089, 2.2555839338485053), (919, 2.239438719058146), (1086, 2.233639321548485), (1090, 2.213006048981096), (1079, 2.2094565040292773), (1088, 2.1694403240147055), (1045, 2.1299321651755543), (1083, 2.1234571929264368), (765, 2.1120619697700405), (926, 2.100698940721492), (911, 2.099098383378875), (916, 2.099098383378875), (918, 2.0982990189776443), (1047, 2.0947094003943247), (136, 2.0939133746300214), (921, 2.0915289232459164), (913, 2.0895460248718623), (135, 2.0828322034902853), (931, 2.0254108646485274), (929, 2.0198423865976594), (1093, 2.0177060784579974), (785, 2.01107820812042), (1019, 2.0011364696948424), (783, 1.9885784415439907), (930, 1.9777919307891105), (932, 1.9679028273894459), (1235, 1.9515237294346268), (1190, 1.8948887841073936), (403, 1.8622276468283288), (1189, 1.8380013059110785), (565, 1.6871723607934073), (832, 1.6697885700731776), (690, 1.6370461353634351), (1206, 1.5680952715524543), (1399, 1.546529188264789), (1192, 1.5192388582915939), (1018, 1.3306569913303363), (1, 0), (10, 0), (11, 0), (12, 0), (13, 0), (14, 0), (15, 0), (16, 0), (17, 0), (41, 0), (42, 0), (43, 0), (44, 0), (45, 0), (46, 0), (47, 0), (48, 0), (49, 0), (50, 0), (51, 0), (52, 0), (53, 0), (54, 0), (55, 0), (56, 0), (57, 0), (58, 0), (59, 0), (60, 0), (61, 0), (62, 0), (63, 0), (64, 0), (65, 0), (66, 0), (67, 0), (68, 0), (69, 0), (70, 0), (71, 0), (72, 0), (73, 0), (74, 0), (75, 0), (76, 0), (77, 0), (78, 0), (79, 0), (80, 0), (81, 0), (82, 0), (83, 0), (84, 0), (85, 0), (86, 0), (87, 0), (88, 0), (89, 0), (90, 0), (91, 0), (92, 0), (93, 0), (94, 0), (95, 0), (96, 0), (97, 0), (98, 0), (99, 0), (100, 0), (101, 0), (102, 0), (103, 0), (104, 0), (105, 0), (106, 0), (107, 0), (108, 0), (109, 0), (110, 0), (112, 0), (113, 0), (114, 0), (115, 0), (116, 0), (117, 0), (118, 0), (119, 0), (120, 0), (121, 0), (122, 0), (123, 0), (124, 0), (125, 0), (126, 0), (127, 0), (128, 0), (129, 0), (130, 0), (131, 0), (132, 0), (133, 0), (134, 0), (137, 0), (138, 0), (139, 0), (140, 0), (141, 0), (142, 0), (143, 0), (144, 0), (145, 0), (146, 0), (147, 0), (148, 0), (149, 0), (151, 0), (152, 0), (184, 0), (215, 0), (216, 0), (217, 0), (218, 0), (219, 0), (220, 0), (221, 0), (222, 0), (223, 0), (224, 0), (225, 0), (226, 0), (227, 0), (228, 0), (229, 0), (230, 0), (231, 0), (232, 0), (233, 0), (234, 0), (235, 0), (236, 0), (237, 0), (238, 0), (239, 0), (240, 0), (241, 0), (242, 0), (243, 0), (244, 0), (245, 0), (246, 0), (247, 0), (248, 0), (249, 0), (250, 0), (251, 0), (252, 0), (253, 0), (254, 0), (255, 0), (256, 0), (257, 0), (258, 0), (259, 0), (260, 0), (261, 0), (262, 0), (263, 0), (264, 0), (265, 0), (266, 0), (267, 0), (268, 0), (269, 0), (270, 0), (271, 0), (272, 0), (273, 0), (274, 0), (275, 0), (276, 0), (277, 0), (278, 0), (279, 0), (280, 0), (281, 0), (282, 0), (283, 0), (284, 0), (285, 0), (286, 0), (287, 0), (288, 0), (289, 0), (290, 0), (291, 0), (292, 0), (293, 0), (294, 0), (295, 0), (296, 0), (297, 0), (298, 0), (299, 0), (300, 0), (301, 0), (302, 0), (303, 0), (304, 0), (305, 0), (306, 0), (307, 0), (308, 0), (309, 0), (310, 0), (311, 0), (312, 0), (313, 0), (314, 0), (315, 0), (316, 0), (317, 0), (318, 0), (319, 0), (320, 0), (321, 0), (322, 0), (323, 0), (324, 0), (325, 0), (326, 0), (327, 0), (328, 0), (329, 0), (330, 0), (331, 0), (332, 0), (333, 0), (334, 0), (335, 0), (336, 0), (337, 0), (338, 0), (339, 0), (340, 0), (341, 0), (342, 0), (343, 0), (344, 0), (345, 0), (346, 0), (347, 0), (348, 0), (349, 0), (350, 0), (351, 0), (352, 0), (353, 0), (354, 0), (355, 0), (356, 0), (357, 0), (359, 0), (361, 0), (362, 0), (363, 0), (364, 0), (365, 0), (366, 0), (367, 0), (368, 0), (369, 0), (370, 0), (371, 0), (372, 0), (373, 0), (374, 0), (375, 0), (376, 0), (377, 0), (378, 0), (379, 0), (380, 0), (381, 0), (382, 0), (383, 0), (384, 0), (385, 0), (386, 0), (387, 0), (388, 0), (389, 0), (390, 0), (391, 0), (392, 0), (393, 0), (394, 0), (395, 0), (396, 0), (397, 0), (398, 0), (399, 0), (400, 0), (401, 0), (402, 0), (404, 0), (405, 0), (406, 0), (407, 0), (408, 0), (409, 0), (410, 0), (411, 0), (412, 0), (413, 0), (414, 0), (415, 0), (416, 0), (417, 0), (418, 0), (419, 0), (420, 0), (421, 0), (422, 0), (423, 0), (424, 0), (425, 0), (426, 0), (427, 0), (428, 0), (429, 0), (430, 0), (431, 0), (432, 0), (433, 0), (434, 0), (435, 0), (436, 0), (437, 0), (438, 0), (439, 0), (440, 0), (441, 0), (442, 0), (443, 0), (444, 0), (445, 0), (446, 0), (447, 0), (448, 0), (449, 0), (450, 0), (451, 0), (452, 0), (453, 0), (454, 0), (455, 0), (456, 0), (457, 0), (458, 0), (459, 0), (460, 0), (461, 0), (462, 0), (463, 0), (464, 0), (465, 0), (466, 0), (467, 0), (468, 0), (469, 0), (470, 0), (471, 0), (472, 0), (473, 0), (474, 0), (475, 0), (476, 0), (477, 0), (478, 0), (479, 0), (480, 0), (481, 0), (482, 0), (483, 0), (484, 0), (485, 0), (486, 0), (487, 0), (488, 0), (489, 0), (490, 0), (491, 0), (492, 0), (493, 0), (494, 0), (495, 0), (496, 0), (497, 0), (498, 0), (499, 0), (500, 0), (501, 0), (502, 0), (503, 0), (504, 0), (505, 0), (506, 0), (507, 0), (508, 0), (509, 0), (510, 0), (511, 0), (512, 0), (513, 0), (514, 0), (516, 0), (518, 0), (519, 0), (520, 0), (521, 0), (522, 0), (523, 0), (524, 0), (525, 0), (526, 0), (527, 0), (528, 0), (529, 0), (530, 0), (531, 0), (532, 0), (533, 0), (534, 0), (535, 0), (536, 0), (537, 0), (538, 0), (539, 0), (540, 0), (541, 0), (542, 0), (543, 0), (544, 0), (545, 0), (546, 0), (547, 0), (548, 0), (549, 0), (550, 0), (551, 0), (552, 0), (553, 0), (554, 0), (555, 0), (556, 0), (557, 0), (558, 0), (559, 0), (560, 0), (561, 0), (562, 0), (563, 0), (564, 0), (566, 0), (567, 0), (568, 0), (569, 0), (570, 0), (571, 0), (572, 0), (573, 0), (574, 0), (575, 0), (576, 0), (577, 0), (578, 0), (579, 0), (580, 0), (581, 0), (582, 0), (583, 0), (584, 0), (585, 0), (586, 0), (587, 0), (588, 0), (589, 0), (590, 0), (591, 0), (592, 0), (593, 0), (594, 0), (595, 0), (596, 0), (597, 0), (598, 0), (599, 0), (600, 0), (601, 0), (602, 0), (603, 0), (604, 0), (605, 0), (606, 0), (607, 0), (608, 0), (609, 0), (610, 0), (611, 0), (612, 0), (613, 0), (614, 0), (615, 0), (616, 0), (617, 0), (618, 0), (619, 0), (620, 0), (621, 0), (622, 0), (623, 0), (624, 0), (625, 0), (626, 0), (627, 0), (628, 0), (629, 0), (630, 0), (631, 0), (632, 0), (633, 0), (634, 0), (635, 0), (636, 0), (637, 0), (638, 0), (639, 0), (641, 0), (643, 0), (644, 0), (645, 0), (646, 0), (647, 0), (648, 0), (649, 0), (650, 0), (651, 0), (652, 0), (653, 0), (654, 0), (655, 0), (656, 0), (657, 0), (658, 0), (659, 0), (660, 0), (661, 0), (662, 0), (663, 0), (664, 0), (665, 0), (666, 0), (667, 0), (668, 0), (669, 0), (670, 0), (671, 0), (672, 0), (673, 0), (674, 0), (675, 0), (676, 0), (677, 0), (678, 0), (679, 0), (680, 0), (681, 0), (682, 0), (683, 0), (684, 0), (686, 0), (687, 0), (688, 0), (689, 0), (691, 0), (692, 0), (693, 0), (694, 0), (695, 0), (696, 0), (697, 0), (698, 0), (699, 0), (700, 0), (701, 0), (702, 0), (703, 0), (704, 0), (705, 0), (706, 0), (707, 0), (708, 0), (709, 0), (710, 0), (711, 0), (712, 0), (713, 0), (714, 0), (715, 0), (716, 0), (717, 0), (718, 0), (719, 0), (720, 0), (721, 0), (722, 0), (723, 0), (724, 0), (725, 0), (726, 0), (727, 0), (728, 0), (729, 0), (730, 0), (731, 0), (732, 0), (733, 0), (734, 0), (735, 0), (736, 0), (737, 0), (738, 0), (739, 0), (740, 0), (741, 0), (742, 0), (743, 0), (744, 0), (745, 0), (746, 0), (747, 0), (748, 0), (750, 0), (751, 0), (754, 0), (755, 0), (757, 0), (758, 0), (760, 0), (761, 0), (762, 0), (766, 0), (767, 0), (768, 0), (769, 0), (770, 0), (771, 0), (772, 0), (773, 0), (774, 0), (775, 0), (776, 0), (777, 0), (778, 0), (779, 0), (780, 0), (781, 0), (782, 0), (784, 0), (786, 0), (787, 0), (788, 0), (789, 0), (790, 0), (791, 0), (792, 0), (793, 0), (794, 0), (795, 0), (796, 0), (797, 0), (798, 0), (799, 0), (800, 0), (801, 0), (802, 0), (803, 0), (804, 0), (805, 0), (806, 0), (807, 0), (808, 0), (809, 0), (810, 0), (811, 0), (812, 0), (813, 0), (814, 0), (815, 0), (816, 0), (817, 0), (818, 0), (819, 0), (820, 0), (821, 0), (822, 0), (823, 0), (824, 0), (825, 0), (826, 0), (827, 0), (828, 0), (829, 0), (830, 0), (831, 0), (833, 0), (834, 0), (835, 0), (836, 0), (837, 0), (838, 0), (839, 0), (840, 0), (841, 0), (842, 0), (843, 0), (844, 0), (845, 0), (846, 0), (847, 0), (848, 0), (849, 0), (850, 0), (851, 0), (852, 0), (853, 0), (854, 0), (855, 0), (856, 0), (857, 0), (858, 0), (859, 0), (860, 0), (861, 0), (862, 0), (863, 0), (864, 0), (865, 0), (866, 0), (867, 0), (868, 0), (869, 0), (870, 0), (871, 0), (872, 0), (873, 0), (874, 0), (875, 0), (876, 0), (877, 0), (878, 0), (879, 0), (880, 0), (881, 0), (882, 0), (883, 0), (884, 0), (885, 0), (886, 0), (887, 0), (888, 0), (889, 0), (890, 0), (891, 0), (892, 0), (893, 0), (894, 0), (895, 0), (896, 0), (897, 0), (898, 0), (899, 0), (900, 0), (901, 0), (902, 0), (903, 0), (904, 0), (905, 0), (907, 0), (909, 0), (910, 0), (912, 0), (915, 0), (917, 0), (920, 0), (922, 0), (924, 0), (925, 0), (928, 0), (933, 0), (934, 0), (935, 0), (936, 0), (937, 0), (938, 0), (939, 0), (940, 0), (941, 0), (942, 0), (943, 0), (944, 0), (945, 0), (946, 0), (947, 0), (948, 0), (949, 0), (950, 0), (951, 0), (952, 0), (953, 0), (954, 0), (955, 0), (956, 0), (957, 0), (958, 0), (959, 0), (960, 0), (961, 0), (962, 0), (963, 0), (964, 0), (965, 0), (966, 0), (967, 0), (968, 0), (969, 0), (970, 0), (971, 0), (972, 0), (973, 0), (974, 0), (975, 0), (976, 0), (977, 0), (978, 0), (979, 0), (980, 0), (981, 0), (982, 0), (983, 0), (984, 0), (985, 0), (986, 0), (987, 0), (988, 0), (989, 0), (990, 0), (991, 0), (992, 0), (993, 0), (994, 0), (995, 0), (996, 0), (997, 0), (998, 0), (999, 0), (1000, 0), (1001, 0), (1002, 0), (1003, 0), (1004, 0), (1005, 0), (1006, 0), (1007, 0), (1008, 0), (1009, 0), (1010, 0), (1011, 0), (1012, 0), (1013, 0), (1014, 0), (1015, 0), (1016, 0), (1017, 0), (1020, 0), (1021, 0), (1022, 0), (1023, 0), (1024, 0), (1025, 0), (1026, 0), (1027, 0), (1028, 0), (1029, 0), (1030, 0), (1031, 0), (1032, 0), (1033, 0), (1034, 0), (1035, 0), (1036, 0), (1037, 0), (1038, 0), (1039, 0), (1040, 0), (1041, 0), (1042, 0), (1043, 0), (1046, 0), (1049, 0), (1101, 0), (1102, 0), (1103, 0), (1104, 0), (1105, 0), (1106, 0), (1107, 0), (1108, 0), (1109, 0), (1110, 0), (1111, 0), (1112, 0), (1113, 0), (1114, 0), (1115, 0), (1116, 0), (1117, 0), (1118, 0), (1119, 0), (1120, 0), (1121, 0), (1122, 0), (1123, 0), (1124, 0), (1125, 0), (1126, 0), (1127, 0), (1128, 0), (1129, 0), (1130, 0), (1131, 0), (1132, 0), (1133, 0), (1134, 0), (1135, 0), (1136, 0), (1137, 0), (1138, 0), (1139, 0), (1140, 0), (1141, 0), (1142, 0), (1143, 0), (1144, 0), (1145, 0), (1146, 0), (1147, 0), (1148, 0), (1149, 0), (1150, 0), (1151, 0), (1152, 0), (1153, 0), (1154, 0), (1155, 0), (1156, 0), (1157, 0), (1158, 0), (1159, 0), (1160, 0), (1161, 0), (1162, 0), (1163, 0), (1164, 0), (1165, 0), (1166, 0), (1167, 0), (1168, 0), (1169, 0), (1170, 0), (1171, 0), (1172, 0), (1173, 0), (1174, 0), (1175, 0), (1176, 0), (1177, 0), (1178, 0), (1179, 0), (1180, 0), (1181, 0), (1182, 0), (1183, 0), (1184, 0), (1185, 0), (1186, 0), (1187, 0), (1188, 0), (1191, 0), (1193, 0), (1194, 0), (1195, 0), (1196, 0), (1197, 0), (1198, 0), (1199, 0), (1200, 0), (1201, 0), (1202, 0), (1203, 0), (1204, 0), (1205, 0), (1207, 0), (1208, 0), (1209, 0), (1210, 0), (1211, 0), (1212, 0), (1213, 0), (1214, 0), (1215, 0), (1216, 0), (1217, 0), (1218, 0), (1219, 0), (1220, 0), (1221, 0), (1222, 0), (1223, 0), (1224, 0), (1225, 0), (1226, 0), (1227, 0), (1228, 0), (1229, 0), (1230, 0), (1231, 0), (1232, 0), (1233, 0), (1234, 0), (1236, 0), (1237, 0), (1238, 0), (1239, 0), (1240, 0), (1241, 0), (1242, 0), (1243, 0), (1244, 0), (1245, 0), (1246, 0), (1247, 0), (1248, 0), (1249, 0), (1250, 0), (1251, 0), (1252, 0), (1253, 0), (1254, 0), (1255, 0), (1256, 0), (1257, 0), (1258, 0), (1259, 0), (1260, 0), (1261, 0), (1262, 0), (1263, 0), (1264, 0), (1265, 0), (1266, 0), (1267, 0), (1268, 0), (1269, 0), (1270, 0), (1271, 0), (1272, 0), (1273, 0), (1274, 0), (1275, 0), (1276, 0), (1277, 0), (1278, 0), (1279, 0), (1280, 0), (1281, 0), (1282, 0), (1283, 0), (1284, 0), (1285, 0), (1286, 0), (1287, 0), (1288, 0), (1289, 0), (1290, 0), (1291, 0), (1292, 0), (1293, 0), (1294, 0), (1295, 0), (1296, 0), (1297, 0), (1298, 0), (1299, 0), (1300, 0), (1301, 0), (1302, 0), (1303, 0), (1304, 0), (1305, 0), (1306, 0), (1307, 0), (1308, 0), (1309, 0), (1310, 0), (1311, 0), (1312, 0), (1313, 0), (1314, 0), (1315, 0), (1316, 0), (1317, 0), (1318, 0), (1319, 0), (1320, 0), (1321, 0), (1322, 0), (1323, 0), (1324, 0), (1325, 0), (1326, 0), (1327, 0), (1328, 0), (1329, 0), (1330, 0), (1331, 0), (1332, 0), (1333, 0), (1334, 0), (1335, 0), (1336, 0), (1337, 0), (1338, 0), (1339, 0), (1340, 0), (1341, 0), (1342, 0), (1343, 0), (1344, 0), (1345, 0), (1346, 0), (1347, 0), (1348, 0), (1349, 0), (1350, 0), (1351, 0), (1352, 0), (1353, 0), (1354, 0), (1355, 0), (1356, 0), (1357, 0), (1358, 0), (1359, 0), (1360, 0), (1361, 0), (1362, 0), (1363, 0), (1364, 0), (1365, 0), (1366, 0), (1367, 0), (1368, 0), (1369, 0), (1370, 0), (1371, 0), (1372, 0), (1373, 0), (1374, 0), (1375, 0), (1376, 0), (1377, 0), (1378, 0), (1379, 0), (1380, 0), (1381, 0), (1382, 0), (1383, 0), (1384, 0), (1385, 0), (1386, 0), (1387, 0), (1388, 0), (1389, 0), (1390, 0), (1391, 0), (1392, 0), (1393, 0), (1394, 0), (1395, 0), (1396, 0), (1397, 0), (1398, 0), (1401, 0), (1402, 0), (1404, 0), (1405, 0), (1406, 0), (1407, 0), (1408, 0), (1409, 0), (1410, 0), (1411, 0), (1412, 0), (1413, 0), (1414, 0), (1415, 0), (1416, 0), (1417, 0), (1418, 0), (1419, 0), (1420, 0), (1421, 0), (1422, 0), (1423, 0), (1424, 0), (1425, 0), (1426, 0), (1427, 0), (1428, 0), (1429, 0), (1430, 0), (1431, 0), (1432, 0), (1433, 0), (1434, 0), (1435, 0), (1436, 0), (1437, 0), (1438, 0), (1439, 0), (1440, 0), (1441, 0), (1442, 0), (1443, 0), (1444, 0), (1445, 0), (1446, 0), (1447, 0), (1448, 0), (1449, 0), (1450, 0), (1451, 0), (1452, 0), (1453, 0), (1454, 0), (1455, 0), (1456, 0), (1457, 0), (1458, 0), (1459, 0), (1460, 0), (1461, 0), (1462, 0), (1463, 0), (1476, 0), (1477, 0), (1478, 0), (1479, 0), (1480, 0), (1481, 0), (1482, 0), (1483, 0), (1484, 0), (1485, 0), (1486, 0), (1487, 0), (1488, 0), (1489, 0), (1490, 0), (1491, 0), (1492, 0), (1493, 0), (1494, 0), (1495, 0), (1496, 0), (1497, 0), (1498, 0), (1499, 0), (1500, 0), (1501, 0), (1502, 0), (1503, 0), (1504, 0), (1505, 0), (1506, 0), (1507, 0), (1508, 0), (1509, 0), (1510, 0), (1511, 0), (1512, 0), (1513, 0), (1514, 0), (1515, 0), (1516, 0), (1517, 0), (1518, 0), (1519, 0), (1520, 0), (1521, 0), (1522, 0), (1523, 0), (1524, 0), (1525, 0), (1526, 0), (1527, 0), (1528, 0), (1529, 0), (1530, 0), (1531, 0), (1532, 0), (1533, 0), (1534, 0), (1535, 0), (1536, 0), (1537, 0), (1538, 0), (1539, 0), (1540, 0), (1541, 0), (1542, 0), (1543, 0), (1544, 0), (1545, 0), (1546, 0), (1547, 0), (1548, 0), (1549, 0), (1550, 0), (1551, 0), (1552, 0), (1553, 0), (1554, 0), (1555, 0), (1556, 0), (1557, 0), (1558, 0), (1559, 0), (1560, 0), (1561, 0), (1562, 0), (1563, 0), (1564, 0), (1565, 0), (1566, 0), (1567, 0), (1568, 0), (1569, 0), (1570, 0), (1571, 0), (1572, 0), (1573, 0), (1574, 0), (1575, 0), (1576, 0), (1577, 0), (1578, 0), (1579, 0), (1580, 0), (1581, 0), (1582, 0), (1583, 0), (1584, 0), (1585, 0), (1586, 0), (1587, 0), (1588, 0), (1589, 0), (1590, 0), (1591, 0), (1592, 0), (1593, 0), (1594, 0), (1597, 0), (1598, 0), (1599, 0), (1600, 0), (1601, 0), (1602, 0), (1603, 0), (1604, 0), (1605, 0), (1606, 0), (1607, 0), (1608, 0), (1609, 0), (1610, 0), (1611, 0), (1612, 0), (1613, 0), (1614, 0), (1615, 0), (1616, 0), (1617, 0), (1618, 0), (1619, 0), (1620, 0), (1621, 0), (1622, 0), (1623, 0), (1624, 0), (1625, 0), (1626, 0), (1627, 0), (1628, 0), (1629, 0), (1630, 0), (1631, 0), (1632, 0), (1633, 0), (1634, 0), (1635, 0), (1636, 0), (1637, 0), (1638, 0), (1639, 0), (1640, 0), (1641, 0), (1642, 0), (1643, 0), (1644, 0), (1645, 0), (1646, 0), (1647, 0), (1648, 0), (1649, 0), (1650, 0), (1651, 0), (1652, 0), (1653, 0), (1654, 0), (1655, 0), (1656, 0), (1657, 0), (1658, 0), (1659, 0), (1660, 0), (1661, 0), (1662, 0), (1663, 0), (1664, 0), (1665, 0), (1666, 0), (1667, 0), (1668, 0), (1669, 0), (1670, 0), (1671, 0), (1672, 0), (1673, 0), (1674, 0), (1675, 0), (1676, 0), (1677, 0), (1678, 0), (1679, 0), (1680, 0), (1681, 0), (1682, 0), (1683, 0), (1684, 0), (1685, 0), (1686, 0), (1687, 0), (1688, 0), (1689, 0), (1690, 0), (1691, 0), (1692, 0), (1693, 0), (1694, 0), (1695, 0), (1696, 0), (1697, 0), (1698, 0), (1699, 0), (1700, 0), (1701, 0), (1702, 0), (1703, 0), (1704, 0), (1705, 0), (1706, 0), (1707, 0), (1708, 0), (1709, 0), (1710, 0), (1711, 0), (1712, 0), (1713, 0), (1714, 0), (1715, 0), (1716, 0), (1717, 0), (1718, 0), (1719, 0), (1720, 0), (1721, 0), (1722, 0), (1723, 0), (1724, 0), (1725, 0), (1726, 0), (1727, 0), (1728, 0), (1729, 0), (1730, 0), (1731, 0), (1732, 0), (1733, 0), (1734, 0), (1735, 0), (1736, 0), (1737, 0), (1738, 0), (1739, 0), (1740, 0), (1741, 0), (1742, 0), (1743, 0), (1744, 0), (1745, 0), (1746, 0), (1747, 0), (1748, 0), (1749, 0), (1750, 0), (1751, 0), (1752, 0), (1753, 0), (1754, 0), (1755, 0), (1756, 0), (1757, 0), (1758, 0), (1759, 0), (1760, 0), (1761, 0), (1762, 0), (1763, 0), (1764, 0), (1765, 0), (1766, 0), (1767, 0), (1768, 0), (1769, 0), (1770, 0), (1771, 0), (1772, 0), (1773, 0), (1774, 0), (1775, 0), (1776, 0), (1777, 0), (1778, 0), (1779, 0), (1780, 0), (1781, 0), (1782, 0), (1783, 0), (1784, 0), (1785, 0), (1786, 0), (1787, 0), (1788, 0), (1789, 0), (1790, 0), (1791, 0), (1792, 0), (1793, 0), (1794, 0), (1795, 0), (1796, 0), (1797, 0), (1798, 0), (1799, 0), (1800, 0), (1801, 0), (1802, 0), (1803, 0), (1804, 0), (1805, 0), (1806, 0), (1807, 0), (1808, 0), (1809, 0), (1810, 0), (1811, 0), (1812, 0), (1813, 0), (1814, 0), (1815, 0), (1816, 0), (1817, 0), (1818, 0), (1819, 0), (1820, 0), (1821, 0), (1822, 0), (1823, 0), (1824, 0)]\n"
     ]
    }
   ],
   "source": [
    "import math\n",
    "from collections import Counter\n",
    "\n",
    "def fetch_documents(index_path):\n",
    "    conn = sqlite3.connect(index_path)\n",
    "    cursor = conn.cursor()\n",
    "    cursor.execute(\"SELECT content FROM documents\")\n",
    "    documents = [doc[0] for doc in cursor.fetchall()]\n",
    "    conn.close()\n",
    "    return documents\n",
    "\n",
    "def bm25(documents, query, k1=1.5, b=0.75):\n",
    "    # Tokenize documents and query\n",
    "    tokenized_docs = [doc.lower().split() for doc in documents]\n",
    "    tokenized_query = query.lower().split()\n",
    "\n",
    "    # Calculate document frequencies\n",
    "    df = {}\n",
    "    for word in tokenized_query:\n",
    "        df[word] = sum(word in doc for doc in tokenized_docs)\n",
    "\n",
    "    # Calculate IDF\n",
    "    N = len(documents)\n",
    "    idf = {word: math.log((N - df[word] + 0.5) / (df[word] + 0.5)) for word in df}\n",
    "\n",
    "    # Compute BM25 scores\n",
    "    scores = []\n",
    "    avgdl = sum(len(doc) for doc in tokenized_docs) / N\n",
    "    for index, doc in enumerate(tokenized_docs):\n",
    "        doc_len = len(doc)\n",
    "        f = Counter(doc)\n",
    "        score = sum(idf[word] * f[word] * (k1 + 1) / (f[word] + k1 * (1 - b + b * doc_len / avgdl)) for word in tokenized_query if word in f)\n",
    "        scores.append((index, score))\n",
    "    \n",
    "    scores.sort(key=lambda x: x[1], reverse=True)\n",
    "    return scores\n",
    "\n",
    "documents = fetch_documents(\"crawler.db\")\n",
    "query = \"Tuebingen\"\n",
    "results = bm25(documents, query)\n",
    "print(results)"
   ]
  },
  {
   "cell_type": "code",
   "execution_count": 1,
   "metadata": {},
   "outputs": [
    {
     "name": "stderr",
     "output_type": "stream",
     "text": [
      "/Users/Felix/opt/anaconda3/envs/MSE_project/lib/python3.9/site-packages/tqdm/auto.py:21: TqdmWarning: IProgress not found. Please update jupyter and ipywidgets. See https://ipywidgets.readthedocs.io/en/stable/user_install.html\n",
      "  from .autonotebook import tqdm as notebook_tqdm\n"
     ]
    },
    {
     "ename": "AttributeError",
     "evalue": "module 'torch.backends' has no attribute 'mps'",
     "output_type": "error",
     "traceback": [
      "\u001b[0;31m---------------------------------------------------------------------------\u001b[0m",
      "\u001b[0;31mAttributeError\u001b[0m                            Traceback (most recent call last)",
      "Cell \u001b[0;32mIn[1], line 4\u001b[0m\n\u001b[1;32m      1\u001b[0m \u001b[38;5;28;01mimport\u001b[39;00m \u001b[38;5;21;01mtorch\u001b[39;00m\n\u001b[1;32m      2\u001b[0m \u001b[38;5;28;01mfrom\u001b[39;00m \u001b[38;5;21;01msentence_transformers\u001b[39;00m \u001b[38;5;28;01mimport\u001b[39;00m SentenceTransformer, util\n\u001b[0;32m----> 4\u001b[0m model \u001b[38;5;241m=\u001b[39m \u001b[43mSentenceTransformer\u001b[49m\u001b[43m(\u001b[49m\u001b[38;5;124;43m'\u001b[39;49m\u001b[38;5;124;43mall-MiniLM-L6-v2\u001b[39;49m\u001b[38;5;124;43m'\u001b[39;49m\u001b[43m)\u001b[49m\n\u001b[1;32m      6\u001b[0m \u001b[38;5;28;01mdef\u001b[39;00m \u001b[38;5;21msemantic_search\u001b[39m(documents, query):\n\u001b[1;32m      7\u001b[0m     doc_embeddings \u001b[38;5;241m=\u001b[39m model\u001b[38;5;241m.\u001b[39mencode(documents, convert_to_tensor\u001b[38;5;241m=\u001b[39m\u001b[38;5;28;01mTrue\u001b[39;00m)\n",
      "File \u001b[0;32m~/opt/anaconda3/envs/MSE_project/lib/python3.9/site-packages/sentence_transformers/SentenceTransformer.py:188\u001b[0m, in \u001b[0;36mSentenceTransformer.__init__\u001b[0;34m(self, model_name_or_path, modules, device, prompts, default_prompt_name, similarity_fn_name, cache_folder, trust_remote_code, revision, local_files_only, token, use_auth_token, truncate_dim, model_kwargs, tokenizer_kwargs, config_kwargs, model_card_data)\u001b[0m\n\u001b[1;32m    185\u001b[0m     cache_folder \u001b[38;5;241m=\u001b[39m os\u001b[38;5;241m.\u001b[39mgetenv(\u001b[38;5;124m\"\u001b[39m\u001b[38;5;124mSENTENCE_TRANSFORMERS_HOME\u001b[39m\u001b[38;5;124m\"\u001b[39m)\n\u001b[1;32m    187\u001b[0m \u001b[38;5;28;01mif\u001b[39;00m device \u001b[38;5;129;01mis\u001b[39;00m \u001b[38;5;28;01mNone\u001b[39;00m:\n\u001b[0;32m--> 188\u001b[0m     device \u001b[38;5;241m=\u001b[39m \u001b[43mget_device_name\u001b[49m\u001b[43m(\u001b[49m\u001b[43m)\u001b[49m\n\u001b[1;32m    189\u001b[0m     logger\u001b[38;5;241m.\u001b[39minfo(\u001b[38;5;124m\"\u001b[39m\u001b[38;5;124mUse pytorch device_name: \u001b[39m\u001b[38;5;132;01m{}\u001b[39;00m\u001b[38;5;124m\"\u001b[39m\u001b[38;5;241m.\u001b[39mformat(device))\n\u001b[1;32m    191\u001b[0m \u001b[38;5;28;01mif\u001b[39;00m device \u001b[38;5;241m==\u001b[39m \u001b[38;5;124m\"\u001b[39m\u001b[38;5;124mhpu\u001b[39m\u001b[38;5;124m\"\u001b[39m \u001b[38;5;129;01mand\u001b[39;00m importlib\u001b[38;5;241m.\u001b[39mutil\u001b[38;5;241m.\u001b[39mfind_spec(\u001b[38;5;124m\"\u001b[39m\u001b[38;5;124moptimum\u001b[39m\u001b[38;5;124m\"\u001b[39m) \u001b[38;5;129;01mis\u001b[39;00m \u001b[38;5;129;01mnot\u001b[39;00m \u001b[38;5;28;01mNone\u001b[39;00m:\n",
      "File \u001b[0;32m~/opt/anaconda3/envs/MSE_project/lib/python3.9/site-packages/sentence_transformers/util.py:929\u001b[0m, in \u001b[0;36mget_device_name\u001b[0;34m()\u001b[0m\n\u001b[1;32m    927\u001b[0m \u001b[38;5;28;01mif\u001b[39;00m torch\u001b[38;5;241m.\u001b[39mcuda\u001b[38;5;241m.\u001b[39mis_available():\n\u001b[1;32m    928\u001b[0m     \u001b[38;5;28;01mreturn\u001b[39;00m \u001b[38;5;124m\"\u001b[39m\u001b[38;5;124mcuda\u001b[39m\u001b[38;5;124m\"\u001b[39m\n\u001b[0;32m--> 929\u001b[0m \u001b[38;5;28;01melif\u001b[39;00m \u001b[43mtorch\u001b[49m\u001b[38;5;241;43m.\u001b[39;49m\u001b[43mbackends\u001b[49m\u001b[38;5;241;43m.\u001b[39;49m\u001b[43mmps\u001b[49m\u001b[38;5;241m.\u001b[39mis_available():\n\u001b[1;32m    930\u001b[0m     \u001b[38;5;28;01mreturn\u001b[39;00m \u001b[38;5;124m\"\u001b[39m\u001b[38;5;124mmps\u001b[39m\u001b[38;5;124m\"\u001b[39m\n\u001b[1;32m    931\u001b[0m \u001b[38;5;28;01melif\u001b[39;00m is_torch_npu_available():\n",
      "\u001b[0;31mAttributeError\u001b[0m: module 'torch.backends' has no attribute 'mps'"
     ]
    }
   ],
   "source": [
    "import torch\n",
    "from sentence_transformers import SentenceTransformer, util\n",
    "\n",
    "model = SentenceTransformer('all-MiniLM-L6-v2')\n",
    "\n",
    "def semantic_search(documents, query):\n",
    "    doc_embeddings = model.encode(documents, convert_to_tensor=True)\n",
    "    query_embedding = model.encode(query, convert_to_tensor=True)\n",
    "    scores = util.pytorch_cos_sim(query_embedding, doc_embeddings)[0]\n",
    "    ranked_results = sorted(enumerate(scores), key=lambda x: x[1], reverse=True)\n",
    "    return ranked_results\n",
    "\n",
    "documents = fetch_documents(\"crawler.db\")\n",
    "query = \"Example search query\"\n",
    "results = semantic_search(documents, query)\n",
    "print(results)"
   ]
  },
  {
   "cell_type": "code",
   "execution_count": null,
   "metadata": {},
   "outputs": [],
   "source": []
  },
  {
   "cell_type": "code",
   "execution_count": null,
   "metadata": {},
   "outputs": [],
   "source": []
  },
  {
   "cell_type": "code",
   "execution_count": null,
   "metadata": {},
   "outputs": [],
   "source": []
  },
  {
   "attachments": {},
   "cell_type": "markdown",
   "metadata": {},
   "source": [
    "# 2. Query Processing \n",
    "Process a textual query and return the 100 most relevant documents from your index. Please incorporate **at least one retrieval model innovation** that goes beyond BM25 or TF-IDF. Please allow for queries to be entered either individually in an interactive user interface (see also #3 below), or via a batch file containing multiple queries at once. The batch file will be formatted to have one query per line, listing the query number, and query text as tab-separated entries. An example of the batch file for the first two queries looks like this:\n",
    "\n",
    "```\n",
    "1   tübingen attractions\n",
    "2   food and drinks\n",
    "```"
   ]
  },
  {
   "cell_type": "code",
   "execution_count": null,
   "metadata": {},
   "outputs": [],
   "source": [
    "#Retrieve documents relevnt to a query. You need (at least) two parameters:\n",
    "\t#query: The user's search query\n",
    "\t#index: The location of the local index storing the discovered documents.\n",
    "def retrieve(query, index):\n",
    "    #TODO: Implement me\n",
    "\tpass"
   ]
  },
  {
   "attachments": {},
   "cell_type": "markdown",
   "metadata": {},
   "source": [
    "# 3. Search Result Presentation\n",
    "Once you have a result set, we want to return it to the searcher in two ways: a) in an interactive user interface. For this user interface, please think of **at least one innovation** that goes beyond the traditional 10-blue-links interface that most commercial search engines employ. b) as a text file used for batch performance evaluation. The text file should be formatted to produce one ranked result per line, listing the query number, rank position, document URL and relevance score as tab-separated entries. An example of the first three lines of such a text file looks like this:\n",
    "\n",
    "```\n",
    "1   1   https://www.tuebingen.de/en/3521.html   0.725\n",
    "1   2   https://www.komoot.com/guide/355570/castles-in-tuebingen-district   0.671\n",
    "1   3   https://www.unimuseum.uni-tuebingen.de/en/museum-at-hohentuebingen-castle   0.529\n",
    "...\n",
    "1   100 https://www.tuebingen.de/en/3536.html   0.178\n",
    "2   1   https://www.tuebingen.de/en/3773.html   0.956\n",
    "2   2   https://www.tuebingen.de/en/4456.html   0.797\n",
    "...\n",
    "```"
   ]
  },
  {
   "cell_type": "code",
   "execution_count": null,
   "metadata": {},
   "outputs": [],
   "source": [
    "#TODO: Implement an interactive user interface for part a of this exercise.\n",
    "\n",
    "#Produce a text file with 100 results per query in the format specified above.\n",
    "def batch(results): \n",
    "    #TODO: Implement me.    \n",
    "    pass"
   ]
  },
  {
   "attachments": {},
   "cell_type": "markdown",
   "metadata": {},
   "source": [
    "# 4. Performance Evaluation \n",
    "We will evaluate the performance of our search systems on the basis of five queries. Two of them are avilable to you now for engineering purposes:\n",
    "- `tübingen attractions`\n",
    "- `food and drinks`\n",
    "\n",
    "The remaining three queries will be given to you during our final session on July 23rd. Please be prepared to run your systems and produce a single result file for all five queries live in class. That means you should aim for processing times of no more than ~1 minute per query. We will ask you to send carsten.eickhoff@uni-tuebingen.de that file."
   ]
  },
  {
   "attachments": {},
   "cell_type": "markdown",
   "metadata": {},
   "source": [
    "# Grading\n",
    "Your final projects will be graded along the following criteria:\n",
    "- 25% Code correctness and quality (to be delivered on this sheet)\n",
    "- 25% Report (4 pages, PDF, explanation and justification of your design choices)\n",
    "- 25% System performance (based on how well your system performs on the 5 queries relative to the other teams in terms of nDCG)\n",
    "- 15% Creativity and innovativeness of your approach (in particular with respect to your search system #2 and user interface #3 innovations)\n",
    "- 10% Presentation quality and clarity"
   ]
  },
  {
   "attachments": {},
   "cell_type": "markdown",
   "metadata": {},
   "source": [
    "# Permissible libraries\n",
    "You can use any general-puprose ML and NLP libraries such as scipy, numpy, scikit-learn, spacy, nltk, but please stay away from dedicated web crawling or search engine toolkits such as scrapy, whoosh, lucene, terrier, galago and the likes. Pretrained models are fine to use as part of your system, as long as they have not been built/trained for retrieval. \n"
   ]
  }
 ],
 "metadata": {
  "kernelspec": {
   "display_name": "Python 3 (ipykernel)",
   "language": "python",
   "name": "python3"
  },
  "language_info": {
   "codemirror_mode": {
    "name": "ipython",
    "version": 3
   },
   "file_extension": ".py",
   "mimetype": "text/x-python",
   "name": "python",
   "nbconvert_exporter": "python",
   "pygments_lexer": "ipython3",
   "version": "3.9.18"
  }
 },
 "nbformat": 4,
 "nbformat_minor": 4
}
